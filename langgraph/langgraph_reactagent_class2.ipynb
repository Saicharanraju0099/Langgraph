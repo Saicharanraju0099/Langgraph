{
 "cells": [
  {
   "cell_type": "markdown",
   "id": "1fc97e7a",
   "metadata": {},
   "source": [
    "Configuring the model\n"
   ]
  },
  {
   "cell_type": "code",
   "execution_count": null,
   "id": "e7b736b5",
   "metadata": {},
   "outputs": [],
   "source": [
    "from dotenv import load_dotenv\n",
    "import os\n",
    "load_dotenv()\n",
    "os.environ[\"GOOGLE_API_KEY\"] = os.getenv(\"GOOGLE_API_KEY\") # here i configured my api key from .env file"
   ]
  },
  {
   "cell_type": "code",
   "execution_count": 117,
   "id": "02b575ab",
   "metadata": {},
   "outputs": [],
   "source": [
    "import os\n",
    "os.environ[\"GOOGLE_API_KEY\"] = \"Enter here your google api key\" # Remember google api key is limited to daily/monthly limit token "
   ]
  },
  {
   "cell_type": "code",
   "execution_count": 1,
   "id": "b33d15c5",
   "metadata": {},
   "outputs": [
    {
     "name": "stdout",
     "output_type": "stream",
     "text": [
      "Hi there! How can I help you today?\n"
     ]
    }
   ],
   "source": [
    "from langchain_google_genai import ChatGoogleGenerativeAI\n",
    "\n",
    "model = ChatGoogleGenerativeAI(model='gemini-1.5-flash')\n",
    "output = model.invoke(\"hi hello\")\n",
    "print(output.content)\n",
    "\n",
    "\n"
   ]
  },
  {
   "cell_type": "code",
   "execution_count": null,
   "id": "7c53da51",
   "metadata": {},
   "outputs": [],
   "source": [
    "import os\n",
    "from dotenv import load_dotenv\n",
    "\n",
    "load_dotenv()  # This loads the variables from .env into os.environ\n",
    "\n",
    "api_key = os.getenv(\"Enter your deepseek api key here\") # google provide limited tokens so i used deepseek api key and model"
   ]
  },
  {
   "cell_type": "code",
   "execution_count": 3,
   "id": "381797a2",
   "metadata": {},
   "outputs": [],
   "source": [
    "api_key"
   ]
  },
  {
   "cell_type": "code",
   "execution_count": null,
   "id": "a400c0da",
   "metadata": {},
   "outputs": [
    {
     "name": "stdout",
     "output_type": "stream",
     "text": [
      "Hello! How can I assist you today?\n"
     ]
    }
   ],
   "source": [
    "## using openrouter deepseek-r1 model API Key \n",
    "\n",
    "from openai import OpenAI\n",
    "\n",
    "client = OpenAI(\n",
    "    api_key=\"Enter your open router website deepseek api key here \",  # this Open Router API key is lifetime free so i used this \n",
    "    base_url=\"https://openrouter.ai/api/v1\"\n",
    ")\n",
    "\n",
    "response = client.chat.completions.create(\n",
    "    model=\"deepseek/deepseek-r1:free\",\n",
    "    messages=[{\"role\": \"user\", \"content\": \"hi\"}]\n",
    ")\n",
    "\n",
    "print(response.choices[0].message.content)\n"
   ]
  },
  {
   "cell_type": "markdown",
   "id": "717876d8",
   "metadata": {},
   "source": [
    "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"
   ]
  },
  {
   "cell_type": "markdown",
   "id": "2b4d9879",
   "metadata": {},
   "source": [
    "Configuring the embedding model "
   ]
  },
  {
   "cell_type": "code",
   "execution_count": 6,
   "id": "3dd8b3b2",
   "metadata": {},
   "outputs": [],
   "source": [
    "from dotenv import load_dotenv\n",
    "import os\n",
    "load_dotenv()\n",
    "os.environ[\"HUGGINGFACE_API_KEY\"] = os.getenv(\"HUGGINGFACE_API_KEY\") # here i configured my api key from .env file\n",
    "\n"
   ]
  },
  {
   "cell_type": "code",
   "execution_count": 7,
   "id": "9619bc98",
   "metadata": {},
   "outputs": [
    {
     "name": "stderr",
     "output_type": "stream",
     "text": [
      "/Users/saicharan/agenticai/.venv/lib/python3.12/site-packages/tqdm/auto.py:21: TqdmWarning: IProgress not found. Please update jupyter and ipywidgets. See https://ipywidgets.readthedocs.io/en/stable/user_install.html\n",
      "  from .autonotebook import tqdm as notebook_tqdm\n"
     ]
    },
    {
     "data": {
      "text/plain": [
       "384"
      ]
     },
     "execution_count": 7,
     "metadata": {},
     "output_type": "execute_result"
    }
   ],
   "source": [
    "from langchain_huggingface import HuggingFaceEmbeddings\n",
    "embeddings = HuggingFaceEmbeddings(model_name=\"BAAI/bge-small-en\")\n",
    "len(embeddings.embed_query(\"hi\"))"
   ]
  },
  {
   "cell_type": "markdown",
   "id": "4589b0f3",
   "metadata": {},
   "source": [
    "LETS TAKE A DATA EMBEDED IT AND STORE IT IN VECTOR DATABASE"
   ]
  },
  {
   "cell_type": "code",
   "execution_count": 9,
   "id": "a8b4a73c",
   "metadata": {},
   "outputs": [],
   "source": [
    "from langchain_community.document_loaders import TextLoader, DirectoryLoader\n",
    "from langchain_community.vectorstores import Chroma\n",
    "from langchain.text_splitter import RecursiveCharacterTextSplitter"
   ]
  },
  {
   "cell_type": "code",
   "execution_count": 10,
   "id": "60cf305e",
   "metadata": {},
   "outputs": [],
   "source": [
    "loader=DirectoryLoader(\"../data\",glob=\"./*.txt\",loader_cls=TextLoader) #here is the directory name data from parent directory"
   ]
  },
  {
   "cell_type": "code",
   "execution_count": 11,
   "id": "1d25501d",
   "metadata": {},
   "outputs": [],
   "source": [
    "docs=loader.load()"
   ]
  },
  {
   "cell_type": "code",
   "execution_count": 12,
   "id": "aff5e948",
   "metadata": {},
   "outputs": [
    {
     "data": {
      "text/plain": [
       "[Document(metadata={'source': '../data/Indiaeconomy.txt'}, page_content=\"Certainly! Here's a well-organized and detailed write-up on **India's economy in 2025** presented in paragraph format:\\n\\n---\\n\\n**India’s Economic Landscape in 2025**\\n\\nIndia stands tall in 2025 as one of the most dynamic and rapidly expanding economies in the world. With a nominal GDP of approximately **USD 4.19 trillion**, India is currently ranked **fourth globally**, just behind the U.S., China, and Germany. When adjusted for purchasing power parity (PPP), India's GDP climbs to **USD 17.65 trillion**, making it the **third-largest economy** worldwide. This robust economic performance is driven by structural reforms, technological advancement, and a favorable demographic dividend.\\n\\nThe **real GDP growth rate** for the fiscal year 2024–25 is estimated at **6.4%**, slightly lower than the previous year’s impressive 8.2% but still significantly higher than most other major economies. This pace confirms India’s status as the **fastest-growing major economy** globally. Key contributors to this growth include strong consumer demand, capital expenditure in infrastructure, rapid digitalization, and recovery in the manufacturing sector. Growth in the January–March 2025 quarter surged to **7.4%**, reflecting strong industrial activity and rural consumption.\\n\\nIndia's economic strength stems from a well-diversified sectoral structure. The **agriculture sector**, although contributing only about **16%** of GDP, remains vital for rural employment and food security. It has seen moderate growth due to the use of technology and better irrigation facilities. The **industrial sector**, accounting for nearly **30%**, benefits from robust construction, manufacturing, and mining activities. However, it is the **services sector**—particularly IT services, telecommunications, e-commerce, and financial services—that dominates the economy, contributing approximately **54%** of GDP.\\n\\nWith a **population exceeding 1.43 billion**, India’s median age remains below 30, offering a significant demographic edge. This young and increasingly skilled workforce supports economic expansion, particularly in tech-driven industries. The rise in digital literacy, fintech adoption, and entrepreneurship has led to a surge in startups and innovation, further boosting employment and productivity.\\n\\nIndia has also become a favored destination for foreign direct investment (FDI), especially in technology, green energy, and manufacturing. Government-led initiatives such as **‘Make in India,’ ‘Digital India,’** and **‘Gati Shakti’** have helped improve ease of doing business and reduce infrastructure bottlenecks. Large-scale investments in transportation, power, and logistics networks are reshaping India's infrastructure landscape, enabling more efficient trade and mobility.\\n\\nThe external sector has also remained relatively stable. While India continues to import a significant share of crude oil and gold, exports in engineering goods, software, pharmaceuticals, and electronics have grown steadily. **Foreign exchange reserves** are healthy, standing around **USD 640 billion**, providing a cushion against external shocks and supporting the Indian rupee's stability.\\n\\nOn the macroeconomic front, **inflation** has been brought under control, with **consumer price index (CPI)** inflation recorded at **around 3.2% in April 2025**. The **Reserve Bank of India (RBI)** has followed a balanced monetary policy—recently reducing repo rates slightly to stimulate growth without triggering inflation. The fiscal deficit remains within manageable limits, and efforts are ongoing to streamline public spending while maintaining support for welfare schemes.\\n\\nDespite these achievements, India faces challenges such as **urban-rural income disparity**, **youth unemployment**, and the need for more **inclusive development**. Reforms in **labor laws, land acquisition**, and **education** are critical to sustain long-term growth. Environmental concerns and sustainable development are also gaining attention, especially as India commits to a **green transition** with increasing investments in renewable energy and electric mobility.\\n\\nIn conclusion, India in 2025 is a picture of resilience and optimism. The country’s rapid transformation into a global economic power is being fueled by structural reforms, digital momentum, and a strong policy framework. While hurdles remain, India’s trajectory towards becoming a **USD 5 trillion economy by 2027** appears increasingly attainable, provided it maintains reform momentum, fosters innovation, and ensures inclusive growth for all segments of society.\\n\\n\\n\\n\\n\")]"
      ]
     },
     "execution_count": 12,
     "metadata": {},
     "output_type": "execute_result"
    }
   ],
   "source": [
    "docs"
   ]
  },
  {
   "cell_type": "code",
   "execution_count": 13,
   "id": "f3e6fd0a",
   "metadata": {},
   "outputs": [
    {
     "data": {
      "text/plain": [
       "\"Certainly! Here's a well-organized and detailed write-up on **India's economy in 2025** presented in paragraph format:\\n\\n---\\n\\n**India’s Economic Landscape in 2025**\\n\\nIndia stands tall in 2025 as one of the most dynamic and rapidly expanding economies in the world. With a nominal GDP of approximately **USD 4.19 trillion**, India is currently ranked **fourth globally**, just behind the U.S., China, and Germany. When adjusted for purchasing power parity (PPP), India's GDP climbs to **USD 17.65 trillion**, making it the **third-largest economy** worldwide. This robust economic performance is driven by structural reforms, technological advancement, and a favorable demographic dividend.\\n\\nThe **real GDP growth rate** for the fiscal year 2024–25 is estimated at **6.4%**, slightly lower than the previous year’s impressive 8.2% but still significantly higher than most other major economies. This pace confirms India’s status as the **fastest-growing major economy** globally. Key contributors to this growth include strong consumer demand, capital expenditure in infrastructure, rapid digitalization, and recovery in the manufacturing sector. Growth in the January–March 2025 quarter surged to **7.4%**, reflecting strong industrial activity and rural consumption.\\n\\nIndia's economic strength stems from a well-diversified sectoral structure. The **agriculture sector**, although contributing only about **16%** of GDP, remains vital for rural employment and food security. It has seen moderate growth due to the use of technology and better irrigation facilities. The **industrial sector**, accounting for nearly **30%**, benefits from robust construction, manufacturing, and mining activities. However, it is the **services sector**—particularly IT services, telecommunications, e-commerce, and financial services—that dominates the economy, contributing approximately **54%** of GDP.\\n\\nWith a **population exceeding 1.43 billion**, India’s median age remains below 30, offering a significant demographic edge. This young and increasingly skilled workforce supports economic expansion, particularly in tech-driven industries. The rise in digital literacy, fintech adoption, and entrepreneurship has led to a surge in startups and innovation, further boosting employment and productivity.\\n\\nIndia has also become a favored destination for foreign direct investment (FDI), especially in technology, green energy, and manufacturing. Government-led initiatives such as **‘Make in India,’ ‘Digital India,’** and **‘Gati Shakti’** have helped improve ease of doing business and reduce infrastructure bottlenecks. Large-scale investments in transportation, power, and logistics networks are reshaping India's infrastructure landscape, enabling more efficient trade and mobility.\\n\\nThe external sector has also remained relatively stable. While India continues to import a significant share of crude oil and gold, exports in engineering goods, software, pharmaceuticals, and electronics have grown steadily. **Foreign exchange reserves** are healthy, standing around **USD 640 billion**, providing a cushion against external shocks and supporting the Indian rupee's stability.\\n\\nOn the macroeconomic front, **inflation** has been brought under control, with **consumer price index (CPI)** inflation recorded at **around 3.2% in April 2025**. The **Reserve Bank of India (RBI)** has followed a balanced monetary policy—recently reducing repo rates slightly to stimulate growth without triggering inflation. The fiscal deficit remains within manageable limits, and efforts are ongoing to streamline public spending while maintaining support for welfare schemes.\\n\\nDespite these achievements, India faces challenges such as **urban-rural income disparity**, **youth unemployment**, and the need for more **inclusive development**. Reforms in **labor laws, land acquisition**, and **education** are critical to sustain long-term growth. Environmental concerns and sustainable development are also gaining attention, especially as India commits to a **green transition** with increasing investments in renewable energy and electric mobility.\\n\\nIn conclusion, India in 2025 is a picture of resilience and optimism. The country’s rapid transformation into a global economic power is being fueled by structural reforms, digital momentum, and a strong policy framework. While hurdles remain, India’s trajectory towards becoming a **USD 5 trillion economy by 2027** appears increasingly attainable, provided it maintains reform momentum, fosters innovation, and ensures inclusive growth for all segments of society.\\n\\n\\n\\n\\n\""
      ]
     },
     "execution_count": 13,
     "metadata": {},
     "output_type": "execute_result"
    }
   ],
   "source": [
    "docs[0].page_content"
   ]
  },
  {
   "cell_type": "code",
   "execution_count": 14,
   "id": "fb28143c",
   "metadata": {},
   "outputs": [],
   "source": [
    "text_splitter=RecursiveCharacterTextSplitter(\n",
    "    chunk_size = 200,\n",
    "    chunk_overlap = 50,\n",
    ")"
   ]
  },
  {
   "cell_type": "code",
   "execution_count": 15,
   "id": "75030f51",
   "metadata": {},
   "outputs": [],
   "source": [
    "new_docs=text_splitter.split_documents(documents=docs)"
   ]
  },
  {
   "cell_type": "code",
   "execution_count": 16,
   "id": "0787526a",
   "metadata": {},
   "outputs": [
    {
     "data": {
      "text/plain": [
       "[Document(metadata={'source': '../data/Indiaeconomy.txt'}, page_content=\"Certainly! Here's a well-organized and detailed write-up on **India's economy in 2025** presented in paragraph format:\\n\\n---\\n\\n**India’s Economic Landscape in 2025**\"),\n",
       " Document(metadata={'source': '../data/Indiaeconomy.txt'}, page_content='India stands tall in 2025 as one of the most dynamic and rapidly expanding economies in the world. With a nominal GDP of approximately **USD 4.19 trillion**, India is currently ranked **fourth'),\n",
       " Document(metadata={'source': '../data/Indiaeconomy.txt'}, page_content=\"trillion**, India is currently ranked **fourth globally**, just behind the U.S., China, and Germany. When adjusted for purchasing power parity (PPP), India's GDP climbs to **USD 17.65 trillion**,\"),\n",
       " Document(metadata={'source': '../data/Indiaeconomy.txt'}, page_content=\"India's GDP climbs to **USD 17.65 trillion**, making it the **third-largest economy** worldwide. This robust economic performance is driven by structural reforms, technological advancement, and a\"),\n",
       " Document(metadata={'source': '../data/Indiaeconomy.txt'}, page_content='reforms, technological advancement, and a favorable demographic dividend.'),\n",
       " Document(metadata={'source': '../data/Indiaeconomy.txt'}, page_content='The **real GDP growth rate** for the fiscal year 2024–25 is estimated at **6.4%**, slightly lower than the previous year’s impressive 8.2% but still significantly higher than most other major'),\n",
       " Document(metadata={'source': '../data/Indiaeconomy.txt'}, page_content='still significantly higher than most other major economies. This pace confirms India’s status as the **fastest-growing major economy** globally. Key contributors to this growth include strong'),\n",
       " Document(metadata={'source': '../data/Indiaeconomy.txt'}, page_content='Key contributors to this growth include strong consumer demand, capital expenditure in infrastructure, rapid digitalization, and recovery in the manufacturing sector. Growth in the January–March 2025'),\n",
       " Document(metadata={'source': '../data/Indiaeconomy.txt'}, page_content='sector. Growth in the January–March 2025 quarter surged to **7.4%**, reflecting strong industrial activity and rural consumption.'),\n",
       " Document(metadata={'source': '../data/Indiaeconomy.txt'}, page_content=\"India's economic strength stems from a well-diversified sectoral structure. The **agriculture sector**, although contributing only about **16%** of GDP, remains vital for rural employment and food\"),\n",
       " Document(metadata={'source': '../data/Indiaeconomy.txt'}, page_content='GDP, remains vital for rural employment and food security. It has seen moderate growth due to the use of technology and better irrigation facilities. The **industrial sector**, accounting for nearly'),\n",
       " Document(metadata={'source': '../data/Indiaeconomy.txt'}, page_content='The **industrial sector**, accounting for nearly **30%**, benefits from robust construction, manufacturing, and mining activities. However, it is the **services sector**—particularly IT services,'),\n",
       " Document(metadata={'source': '../data/Indiaeconomy.txt'}, page_content='the **services sector**—particularly IT services, telecommunications, e-commerce, and financial services—that dominates the economy, contributing approximately **54%** of GDP.'),\n",
       " Document(metadata={'source': '../data/Indiaeconomy.txt'}, page_content='With a **population exceeding 1.43 billion**, India’s median age remains below 30, offering a significant demographic edge. This young and increasingly skilled workforce supports economic expansion,'),\n",
       " Document(metadata={'source': '../data/Indiaeconomy.txt'}, page_content='skilled workforce supports economic expansion, particularly in tech-driven industries. The rise in digital literacy, fintech adoption, and entrepreneurship has led to a surge in startups and'),\n",
       " Document(metadata={'source': '../data/Indiaeconomy.txt'}, page_content='has led to a surge in startups and innovation, further boosting employment and productivity.'),\n",
       " Document(metadata={'source': '../data/Indiaeconomy.txt'}, page_content='India has also become a favored destination for foreign direct investment (FDI), especially in technology, green energy, and manufacturing. Government-led initiatives such as **‘Make in India,’'),\n",
       " Document(metadata={'source': '../data/Indiaeconomy.txt'}, page_content='initiatives such as **‘Make in India,’ ‘Digital India,’** and **‘Gati Shakti’** have helped improve ease of doing business and reduce infrastructure bottlenecks. Large-scale investments in'),\n",
       " Document(metadata={'source': '../data/Indiaeconomy.txt'}, page_content=\"bottlenecks. Large-scale investments in transportation, power, and logistics networks are reshaping India's infrastructure landscape, enabling more efficient trade and mobility.\"),\n",
       " Document(metadata={'source': '../data/Indiaeconomy.txt'}, page_content='The external sector has also remained relatively stable. While India continues to import a significant share of crude oil and gold, exports in engineering goods, software, pharmaceuticals, and'),\n",
       " Document(metadata={'source': '../data/Indiaeconomy.txt'}, page_content='engineering goods, software, pharmaceuticals, and electronics have grown steadily. **Foreign exchange reserves** are healthy, standing around **USD 640 billion**, providing a cushion against external'),\n",
       " Document(metadata={'source': '../data/Indiaeconomy.txt'}, page_content=\"billion**, providing a cushion against external shocks and supporting the Indian rupee's stability.\"),\n",
       " Document(metadata={'source': '../data/Indiaeconomy.txt'}, page_content='On the macroeconomic front, **inflation** has been brought under control, with **consumer price index (CPI)** inflation recorded at **around 3.2% in April 2025**. The **Reserve Bank of India (RBI)**'),\n",
       " Document(metadata={'source': '../data/Indiaeconomy.txt'}, page_content='April 2025**. The **Reserve Bank of India (RBI)** has followed a balanced monetary policy—recently reducing repo rates slightly to stimulate growth without triggering inflation. The fiscal deficit'),\n",
       " Document(metadata={'source': '../data/Indiaeconomy.txt'}, page_content='without triggering inflation. The fiscal deficit remains within manageable limits, and efforts are ongoing to streamline public spending while maintaining support for welfare schemes.'),\n",
       " Document(metadata={'source': '../data/Indiaeconomy.txt'}, page_content='Despite these achievements, India faces challenges such as **urban-rural income disparity**, **youth unemployment**, and the need for more **inclusive development**. Reforms in **labor laws, land'),\n",
       " Document(metadata={'source': '../data/Indiaeconomy.txt'}, page_content='development**. Reforms in **labor laws, land acquisition**, and **education** are critical to sustain long-term growth. Environmental concerns and sustainable development are also gaining attention,'),\n",
       " Document(metadata={'source': '../data/Indiaeconomy.txt'}, page_content='development are also gaining attention, especially as India commits to a **green transition** with increasing investments in renewable energy and electric mobility.'),\n",
       " Document(metadata={'source': '../data/Indiaeconomy.txt'}, page_content='In conclusion, India in 2025 is a picture of resilience and optimism. The country’s rapid transformation into a global economic power is being fueled by structural reforms, digital momentum, and a'),\n",
       " Document(metadata={'source': '../data/Indiaeconomy.txt'}, page_content='by structural reforms, digital momentum, and a strong policy framework. While hurdles remain, India’s trajectory towards becoming a **USD 5 trillion economy by 2027** appears increasingly attainable,'),\n",
       " Document(metadata={'source': '../data/Indiaeconomy.txt'}, page_content='by 2027** appears increasingly attainable, provided it maintains reform momentum, fosters innovation, and ensures inclusive growth for all segments of society.')]"
      ]
     },
     "execution_count": 16,
     "metadata": {},
     "output_type": "execute_result"
    }
   ],
   "source": [
    "new_docs"
   ]
  },
  {
   "cell_type": "code",
   "execution_count": 17,
   "id": "cbaf104b",
   "metadata": {},
   "outputs": [],
   "source": [
    "doc_string=[doc.page_content for doc in new_docs]"
   ]
  },
  {
   "cell_type": "code",
   "execution_count": 18,
   "id": "f671edc1",
   "metadata": {},
   "outputs": [
    {
     "data": {
      "text/plain": [
       "[\"Certainly! Here's a well-organized and detailed write-up on **India's economy in 2025** presented in paragraph format:\\n\\n---\\n\\n**India’s Economic Landscape in 2025**\",\n",
       " 'India stands tall in 2025 as one of the most dynamic and rapidly expanding economies in the world. With a nominal GDP of approximately **USD 4.19 trillion**, India is currently ranked **fourth',\n",
       " \"trillion**, India is currently ranked **fourth globally**, just behind the U.S., China, and Germany. When adjusted for purchasing power parity (PPP), India's GDP climbs to **USD 17.65 trillion**,\",\n",
       " \"India's GDP climbs to **USD 17.65 trillion**, making it the **third-largest economy** worldwide. This robust economic performance is driven by structural reforms, technological advancement, and a\",\n",
       " 'reforms, technological advancement, and a favorable demographic dividend.',\n",
       " 'The **real GDP growth rate** for the fiscal year 2024–25 is estimated at **6.4%**, slightly lower than the previous year’s impressive 8.2% but still significantly higher than most other major',\n",
       " 'still significantly higher than most other major economies. This pace confirms India’s status as the **fastest-growing major economy** globally. Key contributors to this growth include strong',\n",
       " 'Key contributors to this growth include strong consumer demand, capital expenditure in infrastructure, rapid digitalization, and recovery in the manufacturing sector. Growth in the January–March 2025',\n",
       " 'sector. Growth in the January–March 2025 quarter surged to **7.4%**, reflecting strong industrial activity and rural consumption.',\n",
       " \"India's economic strength stems from a well-diversified sectoral structure. The **agriculture sector**, although contributing only about **16%** of GDP, remains vital for rural employment and food\",\n",
       " 'GDP, remains vital for rural employment and food security. It has seen moderate growth due to the use of technology and better irrigation facilities. The **industrial sector**, accounting for nearly',\n",
       " 'The **industrial sector**, accounting for nearly **30%**, benefits from robust construction, manufacturing, and mining activities. However, it is the **services sector**—particularly IT services,',\n",
       " 'the **services sector**—particularly IT services, telecommunications, e-commerce, and financial services—that dominates the economy, contributing approximately **54%** of GDP.',\n",
       " 'With a **population exceeding 1.43 billion**, India’s median age remains below 30, offering a significant demographic edge. This young and increasingly skilled workforce supports economic expansion,',\n",
       " 'skilled workforce supports economic expansion, particularly in tech-driven industries. The rise in digital literacy, fintech adoption, and entrepreneurship has led to a surge in startups and',\n",
       " 'has led to a surge in startups and innovation, further boosting employment and productivity.',\n",
       " 'India has also become a favored destination for foreign direct investment (FDI), especially in technology, green energy, and manufacturing. Government-led initiatives such as **‘Make in India,’',\n",
       " 'initiatives such as **‘Make in India,’ ‘Digital India,’** and **‘Gati Shakti’** have helped improve ease of doing business and reduce infrastructure bottlenecks. Large-scale investments in',\n",
       " \"bottlenecks. Large-scale investments in transportation, power, and logistics networks are reshaping India's infrastructure landscape, enabling more efficient trade and mobility.\",\n",
       " 'The external sector has also remained relatively stable. While India continues to import a significant share of crude oil and gold, exports in engineering goods, software, pharmaceuticals, and',\n",
       " 'engineering goods, software, pharmaceuticals, and electronics have grown steadily. **Foreign exchange reserves** are healthy, standing around **USD 640 billion**, providing a cushion against external',\n",
       " \"billion**, providing a cushion against external shocks and supporting the Indian rupee's stability.\",\n",
       " 'On the macroeconomic front, **inflation** has been brought under control, with **consumer price index (CPI)** inflation recorded at **around 3.2% in April 2025**. The **Reserve Bank of India (RBI)**',\n",
       " 'April 2025**. The **Reserve Bank of India (RBI)** has followed a balanced monetary policy—recently reducing repo rates slightly to stimulate growth without triggering inflation. The fiscal deficit',\n",
       " 'without triggering inflation. The fiscal deficit remains within manageable limits, and efforts are ongoing to streamline public spending while maintaining support for welfare schemes.',\n",
       " 'Despite these achievements, India faces challenges such as **urban-rural income disparity**, **youth unemployment**, and the need for more **inclusive development**. Reforms in **labor laws, land',\n",
       " 'development**. Reforms in **labor laws, land acquisition**, and **education** are critical to sustain long-term growth. Environmental concerns and sustainable development are also gaining attention,',\n",
       " 'development are also gaining attention, especially as India commits to a **green transition** with increasing investments in renewable energy and electric mobility.',\n",
       " 'In conclusion, India in 2025 is a picture of resilience and optimism. The country’s rapid transformation into a global economic power is being fueled by structural reforms, digital momentum, and a',\n",
       " 'by structural reforms, digital momentum, and a strong policy framework. While hurdles remain, India’s trajectory towards becoming a **USD 5 trillion economy by 2027** appears increasingly attainable,',\n",
       " 'by 2027** appears increasingly attainable, provided it maintains reform momentum, fosters innovation, and ensures inclusive growth for all segments of society.']"
      ]
     },
     "execution_count": 18,
     "metadata": {},
     "output_type": "execute_result"
    }
   ],
   "source": [
    "doc_string\n"
   ]
  },
  {
   "cell_type": "code",
   "execution_count": 19,
   "id": "e8e798b7",
   "metadata": {},
   "outputs": [
    {
     "data": {
      "text/plain": [
       "31"
      ]
     },
     "execution_count": 19,
     "metadata": {},
     "output_type": "execute_result"
    }
   ],
   "source": [
    "len(doc_string)"
   ]
  },
  {
   "cell_type": "code",
   "execution_count": 20,
   "id": "94ab9647",
   "metadata": {},
   "outputs": [],
   "source": [
    "db=Chroma.from_documents(documents=new_docs, embedding=embeddings)"
   ]
  },
  {
   "cell_type": "code",
   "execution_count": 21,
   "id": "add9e68d",
   "metadata": {},
   "outputs": [],
   "source": [
    "retriver=db.as_retriever(search_kwargs={\"k\":3})"
   ]
  },
  {
   "cell_type": "code",
   "execution_count": 22,
   "id": "ebbf205b",
   "metadata": {},
   "outputs": [
    {
     "data": {
      "text/plain": [
       "[Document(metadata={'source': '../data/Indiaeconomy.txt'}, page_content='India stands tall in 2025 as one of the most dynamic and rapidly expanding economies in the world. With a nominal GDP of approximately **USD 4.19 trillion**, India is currently ranked **fourth'),\n",
       " Document(metadata={'source': '../data/Indiaeconomy.txt'}, page_content='In conclusion, India in 2025 is a picture of resilience and optimism. The country’s rapid transformation into a global economic power is being fueled by structural reforms, digital momentum, and a'),\n",
       " Document(metadata={'source': '../data/Indiaeconomy.txt'}, page_content='by structural reforms, digital momentum, and a strong policy framework. While hurdles remain, India’s trajectory towards becoming a **USD 5 trillion economy by 2027** appears increasingly attainable,')]"
      ]
     },
     "execution_count": 22,
     "metadata": {},
     "output_type": "execute_result"
    }
   ],
   "source": [
    "retriver.invoke(\"growth of indian economy in 2025\")"
   ]
  },
  {
   "cell_type": "markdown",
   "id": "7c46bdb5",
   "metadata": {},
   "source": [
    "USING PYDANTIC FOR CLASS CREATION"
   ]
  },
  {
   "cell_type": "code",
   "execution_count": 23,
   "id": "2d2df719",
   "metadata": {},
   "outputs": [],
   "source": [
    "\n",
    "import operator\n",
    "from typing import List\n",
    "from pydantic import BaseModel , Field\n",
    "from langchain.prompts import PromptTemplate\n",
    "from typing import TypedDict, Annotated, Sequence\n",
    "from langchain_core.messages import BaseMessage\n",
    "from langchain_core.output_parsers import StrOutputParser\n",
    "from langchain_core.prompts import ChatPromptTemplate, PromptTemplate\n",
    "from langchain_core.runnables import RunnablePassthrough\n",
    "from langchain_core.messages import HumanMessage, AIMessage\n",
    "from langgraph.graph import StateGraph,END"
   ]
  },
  {
   "cell_type": "code",
   "execution_count": 24,
   "id": "5d278f87",
   "metadata": {},
   "outputs": [],
   "source": [
    "class TopicSelectionParser(BaseModel):\n",
    "    Topic:str=Field(description=\"selected topic\")\n",
    "    Reasoning:str=Field(description='Reasoning behind topic selection')"
   ]
  },
  {
   "cell_type": "code",
   "execution_count": 25,
   "id": "887c95b8",
   "metadata": {},
   "outputs": [],
   "source": [
    "from langchain.output_parsers import PydanticOutputParser"
   ]
  },
  {
   "cell_type": "code",
   "execution_count": 26,
   "id": "5cba8d8d",
   "metadata": {},
   "outputs": [],
   "source": [
    "parser=PydanticOutputParser(pydantic_object=TopicSelectionParser)"
   ]
  },
  {
   "cell_type": "code",
   "execution_count": 27,
   "id": "34a66e50",
   "metadata": {},
   "outputs": [
    {
     "data": {
      "text/plain": [
       "'The output should be formatted as a JSON instance that conforms to the JSON schema below.\\n\\nAs an example, for the schema {\"properties\": {\"foo\": {\"title\": \"Foo\", \"description\": \"a list of strings\", \"type\": \"array\", \"items\": {\"type\": \"string\"}}}, \"required\": [\"foo\"]}\\nthe object {\"foo\": [\"bar\", \"baz\"]} is a well-formatted instance of the schema. The object {\"properties\": {\"foo\": [\"bar\", \"baz\"]}} is not well-formatted.\\n\\nHere is the output schema:\\n```\\n{\"properties\": {\"Topic\": {\"description\": \"selected topic\", \"title\": \"Topic\", \"type\": \"string\"}, \"Reasoning\": {\"description\": \"Reasoning behind topic selection\", \"title\": \"Reasoning\", \"type\": \"string\"}}, \"required\": [\"Topic\", \"Reasoning\"]}\\n```'"
      ]
     },
     "execution_count": 27,
     "metadata": {},
     "output_type": "execute_result"
    }
   ],
   "source": [
    "parser.get_format_instructions()"
   ]
  },
  {
   "cell_type": "code",
   "execution_count": 28,
   "id": "eb878fd8",
   "metadata": {},
   "outputs": [],
   "source": [
    "from pydantic import BaseModel, Field"
   ]
  },
  {
   "cell_type": "code",
   "execution_count": 29,
   "id": "f73d9bd4",
   "metadata": {},
   "outputs": [],
   "source": [
    "class TopSelectionParser(BaseModel):\n",
    "    Topic:str=Field(description=\"Select a topic\")\n",
    "    Reasoning:str=Field(description=\"reasoning behind Selecting a topic\")"
   ]
  },
  {
   "cell_type": "code",
   "execution_count": 30,
   "id": "bd27c067",
   "metadata": {},
   "outputs": [],
   "source": [
    "from langchain.output_parsers import PydanticOutputParser"
   ]
  },
  {
   "cell_type": "code",
   "execution_count": 31,
   "id": "b272d3d8",
   "metadata": {},
   "outputs": [],
   "source": [
    "parser =PydanticOutputParser(pydantic_object=TopSelectionParser)"
   ]
  },
  {
   "cell_type": "code",
   "execution_count": 32,
   "id": "69cb95bc",
   "metadata": {},
   "outputs": [
    {
     "data": {
      "text/plain": [
       "'The output should be formatted as a JSON instance that conforms to the JSON schema below.\\n\\nAs an example, for the schema {\"properties\": {\"foo\": {\"title\": \"Foo\", \"description\": \"a list of strings\", \"type\": \"array\", \"items\": {\"type\": \"string\"}}}, \"required\": [\"foo\"]}\\nthe object {\"foo\": [\"bar\", \"baz\"]} is a well-formatted instance of the schema. The object {\"properties\": {\"foo\": [\"bar\", \"baz\"]}} is not well-formatted.\\n\\nHere is the output schema:\\n```\\n{\"properties\": {\"Topic\": {\"description\": \"Select a topic\", \"title\": \"Topic\", \"type\": \"string\"}, \"Reasoning\": {\"description\": \"reasoning behind Selecting a topic\", \"title\": \"Reasoning\", \"type\": \"string\"}}, \"required\": [\"Topic\", \"Reasoning\"]}\\n```'"
      ]
     },
     "execution_count": 32,
     "metadata": {},
     "output_type": "execute_result"
    }
   ],
   "source": [
    "parser.get_format_instructions()"
   ]
  },
  {
   "cell_type": "code",
   "execution_count": 33,
   "id": "8229e524",
   "metadata": {},
   "outputs": [],
   "source": [
    "AgentState = {}\n"
   ]
  },
  {
   "cell_type": "code",
   "execution_count": 34,
   "id": "66020c2b",
   "metadata": {},
   "outputs": [],
   "source": [
    "AgentState[\"messages\"]=[]"
   ]
  },
  {
   "cell_type": "code",
   "execution_count": 35,
   "id": "5f2ff2ba",
   "metadata": {},
   "outputs": [
    {
     "data": {
      "text/plain": [
       "{'messages': []}"
      ]
     },
     "execution_count": 35,
     "metadata": {},
     "output_type": "execute_result"
    }
   ],
   "source": [
    "AgentState"
   ]
  },
  {
   "cell_type": "code",
   "execution_count": 36,
   "id": "ba163908",
   "metadata": {},
   "outputs": [],
   "source": [
    "AgentState[\"messages\"].append(\"hello how are you?\")"
   ]
  },
  {
   "cell_type": "code",
   "execution_count": 37,
   "id": "ee5213d8",
   "metadata": {},
   "outputs": [
    {
     "data": {
      "text/plain": [
       "{'messages': ['hello how are you?']}"
      ]
     },
     "execution_count": 37,
     "metadata": {},
     "output_type": "execute_result"
    }
   ],
   "source": [
    "AgentState"
   ]
  },
  {
   "cell_type": "code",
   "execution_count": 38,
   "id": "dba768db",
   "metadata": {},
   "outputs": [],
   "source": [
    "AgentState[\"messages\"].append(\"how is your health?\")"
   ]
  },
  {
   "cell_type": "code",
   "execution_count": 39,
   "id": "dc591499",
   "metadata": {},
   "outputs": [
    {
     "data": {
      "text/plain": [
       "{'messages': ['hello how are you?', 'how is your health?']}"
      ]
     },
     "execution_count": 39,
     "metadata": {},
     "output_type": "execute_result"
    }
   ],
   "source": [
    "AgentState"
   ]
  },
  {
   "cell_type": "code",
   "execution_count": 40,
   "id": "ccadfea6",
   "metadata": {},
   "outputs": [],
   "source": [
    "AgentState[\"messages\"].append(\"what is your daily routine?\")"
   ]
  },
  {
   "cell_type": "code",
   "execution_count": 41,
   "id": "596bcd49",
   "metadata": {},
   "outputs": [
    {
     "data": {
      "text/plain": [
       "{'messages': ['hello how are you?',\n",
       "  'how is your health?',\n",
       "  'what is your daily routine?']}"
      ]
     },
     "execution_count": 41,
     "metadata": {},
     "output_type": "execute_result"
    }
   ],
   "source": [
    "AgentState"
   ]
  },
  {
   "cell_type": "code",
   "execution_count": 42,
   "id": "aff1a897",
   "metadata": {},
   "outputs": [
    {
     "data": {
      "text/plain": [
       "'what is your daily routine?'"
      ]
     },
     "execution_count": 42,
     "metadata": {},
     "output_type": "execute_result"
    }
   ],
   "source": [
    "AgentState[\"messages\"][-1]"
   ]
  },
  {
   "cell_type": "code",
   "execution_count": 43,
   "id": "18150d3c",
   "metadata": {},
   "outputs": [
    {
     "data": {
      "text/plain": [
       "'hello how are you?'"
      ]
     },
     "execution_count": 43,
     "metadata": {},
     "output_type": "execute_result"
    }
   ],
   "source": [
    "AgentState[\"messages\"][0]"
   ]
  },
  {
   "cell_type": "markdown",
   "id": "07d8d275",
   "metadata": {},
   "source": [
    "AGENT FUNCTIONALITY 🤖"
   ]
  },
  {
   "cell_type": "code",
   "execution_count": 44,
   "id": "207784fd",
   "metadata": {},
   "outputs": [],
   "source": [
    "class AgentState(TypedDict):\n",
    "    messages: Annotated[Sequence[BaseMessage], operator.add]"
   ]
  },
  {
   "cell_type": "code",
   "execution_count": 45,
   "id": "359828b2",
   "metadata": {},
   "outputs": [],
   "source": [
    "def function_1(state:AgentState):\n",
    "    \n",
    "    question=state[\"messages\"][-1]\n",
    "    \n",
    "    print(\"Question\",question)\n",
    "    \n",
    "    template=\"\"\"\n",
    "    Your task is to classify the given user query into one of the following categories: [India,Not Related]. \n",
    "    Only respond with the category name and nothing else.\n",
    "\n",
    "    User query: {question}\n",
    "    {format_instructions}\n",
    "    \"\"\"\n",
    "    \n",
    "    prompt= PromptTemplate(\n",
    "        template=template,\n",
    "        input_variable=[\"question\"],\n",
    "        partial_variables={\"format_instructions\": parser.get_format_instructions()}\n",
    "    )\n",
    "    \n",
    "    \n",
    "    chain= prompt | model | parser\n",
    "    \n",
    "    response = chain.invoke({\"question\":question})\n",
    "    \n",
    "    print(\"Parsed response:\", response)\n",
    "    \n",
    "    return {\"messages\": [response.Topic]}\n",
    "\n",
    "\n"
   ]
  },
  {
   "cell_type": "code",
   "execution_count": 46,
   "id": "23d39fb4",
   "metadata": {},
   "outputs": [],
   "source": [
    "state={\"messages\":[\"what is a today weather?\"]}"
   ]
  },
  {
   "cell_type": "code",
   "execution_count": 47,
   "id": "228a592b",
   "metadata": {},
   "outputs": [],
   "source": [
    "state={\"messages\":[\"what is a GDP of India??\"]}"
   ]
  },
  {
   "cell_type": "code",
   "execution_count": 48,
   "id": "62c5b2ae",
   "metadata": {},
   "outputs": [
    {
     "name": "stdout",
     "output_type": "stream",
     "text": [
      "Question what is a GDP of India??\n",
      "Parsed response: Topic='India' Reasoning='The query explicitly asks about the GDP of India.'\n"
     ]
    },
    {
     "data": {
      "text/plain": [
       "{'messages': ['India']}"
      ]
     },
     "execution_count": 48,
     "metadata": {},
     "output_type": "execute_result"
    }
   ],
   "source": [
    "function_1(state)"
   ]
  },
  {
   "cell_type": "markdown",
   "id": "25adbfc1",
   "metadata": {},
   "source": [
    "THIS BELOW BLOCK OF CODE IS FOR REFERENCE TO ABOVE OUTPUT."
   ]
  },
  {
   "cell_type": "code",
   "execution_count": 49,
   "id": "45e8f4f5",
   "metadata": {},
   "outputs": [],
   "source": [
    "class TopicSelectionParser(BaseModel):\n",
    "    Topic:str=Field(description=\"selected topic\")\n",
    "    Reasoning:str=Field(description='Reasoning behind topic selection')"
   ]
  },
  {
   "cell_type": "code",
   "execution_count": 50,
   "id": "c80f11e5",
   "metadata": {},
   "outputs": [],
   "source": [
    "def router(state:AgentState):\n",
    "    print(\"-> ROUTER ->\")\n",
    "    \n",
    "    last_message=state[\"messages\"][-1]\n",
    "    print(\"last_message:\", last_message)\n",
    "    \n",
    "    if \"usa\" in last_message.lower():\n",
    "        return \"RAG Call\"\n",
    "    else:\n",
    "        return \"LLM Call\"\n",
    "\n"
   ]
  },
  {
   "cell_type": "code",
   "execution_count": 52,
   "id": "a58420ea",
   "metadata": {},
   "outputs": [],
   "source": [
    "def format_docs(docs):\n",
    "    return \"\\n\\n\".join(doc.page_content for doc in docs)"
   ]
  },
  {
   "cell_type": "code",
   "execution_count": 53,
   "id": "26ba3688",
   "metadata": {},
   "outputs": [],
   "source": [
    "# RAG Function\n",
    "def function_2(state:AgentState):\n",
    "    print(\"-> RAG Call ->\")\n",
    "    \n",
    "    question = state[\"messages\"][0]\n",
    "    \n",
    "    prompt=PromptTemplate(\n",
    "        template=\"\"\"You are an assistant for question-answering tasks. Use the following pieces of retrieved context to answer the question. If you don't know the answer, just say that you don't know. Use three sentences maximum and keep the answer concise.\\nQuestion: {question} \\nContext: {context} \\nAnswer:\"\"\",\n",
    "        \n",
    "        input_variables=['context', 'question']\n",
    "    )\n",
    "    \n",
    "    rag_chain = (\n",
    "        {\"context\": retriever | format_docs, \"question\": RunnablePassthrough()}\n",
    "        | prompt\n",
    "        | model\n",
    "        | StrOutputParser()\n",
    "    )\n",
    "    result = rag_chain.invoke(question)\n",
    "    return  {\"messages\": [result]}\n",
    "     \n",
    "\n",
    "  \n",
    "\n",
    "  "
   ]
  },
  {
   "cell_type": "code",
   "execution_count": 54,
   "id": "cb43b1cf",
   "metadata": {},
   "outputs": [],
   "source": [
    "# LLM Function\n",
    "def function_3(state:AgentState):\n",
    "    print(\"-> LLM Call ->\")\n",
    "    question = state[\"messages\"][0]\n",
    "    \n",
    "    # Normal LLM call\n",
    "    complete_query = \"Anwer the follow question with you knowledge of the real world. Following is the user question: \" + question\n",
    "    response = model.invoke(complete_query)\n",
    "    return {\"messages\": [response.content]}"
   ]
  },
  {
   "cell_type": "code",
   "execution_count": 55,
   "id": "585b9d57",
   "metadata": {},
   "outputs": [],
   "source": [
    "from langgraph.graph import StateGraph,END"
   ]
  },
  {
   "cell_type": "code",
   "execution_count": 56,
   "id": "d90b07a6",
   "metadata": {},
   "outputs": [],
   "source": [
    "workflow=StateGraph(AgentState)"
   ]
  },
  {
   "cell_type": "code",
   "execution_count": 57,
   "id": "b54a8303",
   "metadata": {},
   "outputs": [
    {
     "data": {
      "text/plain": [
       "<langgraph.graph.state.StateGraph at 0x17ef8ba40>"
      ]
     },
     "execution_count": 57,
     "metadata": {},
     "output_type": "execute_result"
    }
   ],
   "source": [
    "workflow.add_node(\"Supervisor\",function_1)"
   ]
  },
  {
   "cell_type": "code",
   "execution_count": 58,
   "id": "c0ac3f4e",
   "metadata": {},
   "outputs": [
    {
     "data": {
      "text/plain": [
       "<langgraph.graph.state.StateGraph at 0x17ef8ba40>"
      ]
     },
     "execution_count": 58,
     "metadata": {},
     "output_type": "execute_result"
    }
   ],
   "source": [
    "workflow.add_node(\"RAG\",function_2)"
   ]
  },
  {
   "cell_type": "code",
   "execution_count": 59,
   "id": "9b97fd8a",
   "metadata": {},
   "outputs": [
    {
     "data": {
      "text/plain": [
       "<langgraph.graph.state.StateGraph at 0x17ef8ba40>"
      ]
     },
     "execution_count": 59,
     "metadata": {},
     "output_type": "execute_result"
    }
   ],
   "source": [
    "workflow.add_node(\"LLM\",function_3)"
   ]
  },
  {
   "cell_type": "code",
   "execution_count": 60,
   "id": "2004b555",
   "metadata": {},
   "outputs": [
    {
     "data": {
      "text/plain": [
       "<langgraph.graph.state.StateGraph at 0x17ef8ba40>"
      ]
     },
     "execution_count": 60,
     "metadata": {},
     "output_type": "execute_result"
    }
   ],
   "source": [
    "workflow.set_entry_point(\"Supervisor\")"
   ]
  },
  {
   "cell_type": "code",
   "execution_count": 61,
   "id": "d5d7d68f",
   "metadata": {},
   "outputs": [
    {
     "data": {
      "text/plain": [
       "<langgraph.graph.state.StateGraph at 0x17ef8ba40>"
      ]
     },
     "execution_count": 61,
     "metadata": {},
     "output_type": "execute_result"
    }
   ],
   "source": [
    "workflow.add_conditional_edges(\n",
    "    \"Supervisor\",\n",
    "    router,\n",
    "    {\n",
    "        \"RAG Call\": \"RAG\",\n",
    "        \"LLM Call\": \"LLM\",\n",
    "    }\n",
    ")"
   ]
  },
  {
   "cell_type": "code",
   "execution_count": 62,
   "id": "b754f500",
   "metadata": {},
   "outputs": [
    {
     "data": {
      "text/plain": [
       "<langgraph.graph.state.StateGraph at 0x17ef8ba40>"
      ]
     },
     "execution_count": 62,
     "metadata": {},
     "output_type": "execute_result"
    }
   ],
   "source": [
    "workflow.add_edge(\"RAG\",END)\n",
    "workflow.add_edge(\"LLM\",END)"
   ]
  },
  {
   "cell_type": "code",
   "execution_count": 63,
   "id": "111dd624",
   "metadata": {},
   "outputs": [
    {
     "data": {
      "image/png": "[encoded data removed]",
      "text/plain": [
       "<langgraph.graph.state.CompiledStateGraph object at 0x3121c0860>"
      ]
     },
     "execution_count": 63,
     "metadata": {},
     "output_type": "execute_result"
    }
   ],
   "source": [
    "workflow.compile()"
   ]
  },
  {
   "cell_type": "code",
   "execution_count": 64,
   "id": "3c38c21c",
   "metadata": {},
   "outputs": [],
   "source": [
    "app=workflow.compile()"
   ]
  },
  {
   "cell_type": "code",
   "execution_count": 65,
   "id": "f5d25992",
   "metadata": {},
   "outputs": [],
   "source": [
    "state={\"messages\":[\"hi\"]}"
   ]
  },
  {
   "cell_type": "code",
   "execution_count": 66,
   "id": "73904e1f",
   "metadata": {},
   "outputs": [
    {
     "name": "stdout",
     "output_type": "stream",
     "text": [
      "Question hi\n",
      "Parsed response: Topic='Not Related' Reasoning=\"The query 'hi' is a generic greeting and does not relate to India.\"\n",
      "-> ROUTER ->\n",
      "last_message: Not Related\n",
      "-> LLM Call ->\n"
     ]
    },
    {
     "data": {
      "text/plain": [
       "{'messages': ['hi', 'Not Related', 'Hi there! How can I help you today?']}"
      ]
     },
     "execution_count": 66,
     "metadata": {},
     "output_type": "execute_result"
    }
   ],
   "source": [
    "app.invoke(state)"
   ]
  },
  {
   "cell_type": "code",
   "execution_count": 105,
   "id": "6357d786",
   "metadata": {},
   "outputs": [],
   "source": [
    "state={\"messages\":[\"1.what is economy of India? \"]}"
   ]
  },
  {
   "cell_type": "code",
   "execution_count": 106,
   "id": "b6a3eed2",
   "metadata": {},
   "outputs": [
    {
     "name": "stdout",
     "output_type": "stream",
     "text": [
      "Question 1.what is economy of India? \n",
      "Parsed response: Topic='India' Reasoning='The query explicitly asks about the economy of India.'\n",
      "-> ROUTER ->\n",
      "last_message: India\n",
      "-> LLM Call ->\n"
     ]
    },
    {
     "data": {
      "text/plain": [
       "{'messages': ['1.what is economy of India? ',\n",
       "  'India',\n",
       "  'India\\'s economy is a complex and rapidly evolving system.  It\\'s the world\\'s fifth-largest economy by nominal GDP and the third-largest by purchasing power parity (PPP).  Here\\'s a breakdown of its key characteristics:\\n\\n* **Mixed Economy:** India operates a mixed economy, combining elements of both socialism and capitalism.  While there\\'s significant private sector participation, the government still plays a substantial role in certain industries and sectors through public sector undertakings (PSUs).\\n\\n* **Rapid Growth (but uneven):**  India has experienced significant economic growth over the past few decades, fueled by a young and growing workforce, expanding services sector, and increasing foreign investment. However, this growth has been uneven, with disparities between urban and rural areas, and different states.  Poverty and inequality remain significant challenges.\\n\\n* **Services Sector Dominance:** The services sector is the largest contributor to India\\'s GDP, encompassing IT, finance, healthcare, and tourism.  This sector has been a major driver of economic growth.\\n\\n* **Growing Manufacturing Sector:**  The manufacturing sector is also expanding, though it still lags behind the services sector.  The government is actively promoting \"Make in India\" initiatives to boost domestic manufacturing.\\n\\n* **Agriculture\\'s Importance:** Agriculture remains a crucial sector, employing a large portion of the population, although its contribution to GDP is declining.  Monsoon rains heavily influence agricultural output and the overall economy.\\n\\n* **Large and Growing Population:** India\\'s massive and young population is both a strength and a challenge.  A large workforce can fuel economic growth, but it also requires substantial investment in education, healthcare, and infrastructure to ensure productive employment.\\n\\n* **Challenges:**  India faces several significant challenges, including:\\n    * **Poverty and Inequality:**  A large portion of the population lives in poverty, and the gap between the rich and poor remains substantial.\\n    * **Infrastructure Deficiencies:**  Inadequate infrastructure, including transportation, energy, and water, hinders economic growth.\\n    * **Unemployment:**  High unemployment, particularly among youth, is a major concern.\\n    * **Inflation:**  Inflation can erode purchasing power and destabilize the economy.\\n    * **Environmental Concerns:**  Rapid economic growth has led to environmental degradation and pollution.\\n\\n\\nIn short, India\\'s economy is a dynamic and multifaceted system with immense potential but also significant hurdles to overcome.  Its future trajectory will depend on its ability to address these challenges while continuing to leverage its strengths, particularly its young population and growing services sector.']}"
      ]
     },
     "execution_count": 106,
     "metadata": {},
     "output_type": "execute_result"
    }
   ],
   "source": [
    "app.invoke(state)"
   ]
  },
  {
   "cell_type": "code",
   "execution_count": 107,
   "id": "a8c76633",
   "metadata": {},
   "outputs": [],
   "source": [
    "state={\"messages\":[\"2.can you give me Indian revenue in USD dollars of 2025?\"]}"
   ]
  },
  {
   "cell_type": "code",
   "execution_count": 108,
   "id": "9d32e6e8",
   "metadata": {},
   "outputs": [
    {
     "name": "stdout",
     "output_type": "stream",
     "text": [
      "Question 2.can you give me Indian revenue in USD dollars of 2025?\n",
      "Parsed response: Topic='India' Reasoning='The query explicitly asks for Indian revenue data.'\n",
      "-> ROUTER ->\n",
      "last_message: India\n",
      "-> LLM Call ->\n"
     ]
    }
   ],
   "source": [
    "result=app.invoke(state)"
   ]
  },
  {
   "cell_type": "code",
   "execution_count": 109,
   "id": "ec001542",
   "metadata": {},
   "outputs": [],
   "source": [
    "state={\"messages\":[\"3.can you tell me the industrial growth of world's singapore country?\"]}"
   ]
  },
  {
   "cell_type": "code",
   "execution_count": 110,
   "id": "9a29201b",
   "metadata": {},
   "outputs": [
    {
     "name": "stdout",
     "output_type": "stream",
     "text": [
      "Question 3.can you tell me the industrial growth of world's singapore country?\n",
      "Parsed response: Topic='Not Related' Reasoning=\"The query asks about Singapore's industrial growth, which is not related to India.\"\n",
      "-> ROUTER ->\n",
      "last_message: Not Related\n",
      "-> LLM Call ->\n"
     ]
    }
   ],
   "source": [
    "result=app.invoke(state)"
   ]
  },
  {
   "cell_type": "code",
   "execution_count": 116,
   "id": "1d7a3f1a",
   "metadata": {},
   "outputs": [
    {
     "data": {
      "text/plain": [
       "\"Singapore's industrial growth has been remarkable, but it's undergone significant transformations over time.  It's no longer primarily focused on labor-intensive manufacturing.\\n\\n**Early Stages (Post-Independence):**  Initially, Singapore's industrialization focused on low-cost manufacturing, particularly in textiles, garments, and shipbuilding.  This was fueled by government initiatives to attract foreign investment and develop infrastructure.\\n\\n**Transition to High-Value Manufacturing and Services:**  Over the decades, Singapore strategically shifted its industrial focus towards higher-value-added activities. This involved:\\n\\n* **Electronics and Precision Engineering:**  Becoming a major hub for electronics manufacturing, particularly semiconductors and related components.\\n* **Petrochemicals and Chemicals:**  Leveraging its port and strategic location to develop a significant petrochemical industry.\\n* **Biomedical Sciences:**  Developing a strong biomedical cluster, attracting pharmaceutical companies and research institutions.\\n* **Logistics and Supply Chain Management:**  Capitalizing on its excellent port and airport infrastructure to become a global logistics hub.\\n\\n\\n**Current State:** Today, Singapore's industrial sector is highly sophisticated and technology-driven. While manufacturing remains important, its contribution to the overall GDP is declining relative to the services sector, which has become the dominant driver of economic growth.  The emphasis is on innovation, research and development, and high-skilled labor.\\n\\n**Challenges:**  Singapore faces ongoing challenges, including:\\n\\n* **Competition from other Asian economies:**  Other countries in the region are developing their manufacturing and technology sectors, increasing competition.\\n* **Labor costs:**  Singapore's labor costs are relatively high, making it necessary to focus on high-value-added activities.\\n* **Automation and technological disruption:**  The ongoing automation of manufacturing processes requires continuous adaptation and upskilling of the workforce.\\n\\n\\nIn short, Singapore's industrial growth story is one of successful transformation from low-cost manufacturing to a highly sophisticated, technology-driven economy. However, it's a dynamic landscape requiring constant adaptation to maintain its competitive edge.  Precise figures on growth rates would require consulting specific economic data sources like the Singapore Department of Statistics.\""
      ]
     },
     "execution_count": 116,
     "metadata": {},
     "output_type": "execute_result"
    }
   ],
   "source": [
    "result[\"messages\"][-1]"
   ]
  }
 ],
 "metadata": {
  "kernelspec": {
   "display_name": ".venv",
   "language": "python",
   "name": "python3"
  },
  "language_info": {
   "codemirror_mode": {
    "name": "ipython",
    "version": 3
   },
   "file_extension": ".py",
   "mimetype": "text/x-python",
   "name": "python",
   "nbconvert_exporter": "python",
   "pygments_lexer": "ipython3",
   "version": "3.12.3"
  }
 },
 "nbformat": 4,
 "nbformat_minor": 5
}
