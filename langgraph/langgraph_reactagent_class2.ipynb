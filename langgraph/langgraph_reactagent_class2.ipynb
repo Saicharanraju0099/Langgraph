{
 "cells": [
  {
   "cell_type": "markdown",
   "id": "1fc97e7a",
   "metadata": {},
   "source": [
    "Configuring the model\n"
   ]
  },
  {
   "cell_type": "code",
   "execution_count": 121,
   "id": "e7b736b5",
   "metadata": {},
   "outputs": [],
   "source": [
    "from dotenv import load_dotenv\n",
    "import os\n",
    "load_dotenv()\n",
    "os.environ[\"GOOGLE_API_KEY\"] = os.getenv(\"GOOGLE_API_KEY\") # here i configured my api key from .env file"
   ]
  },
  {
   "cell_type": "code",
   "execution_count": 122,
   "id": "b33d15c5",
   "metadata": {},
   "outputs": [
    {
     "name": "stdout",
     "output_type": "stream",
     "text": [
      "Hi there! How can I help you today?\n"
     ]
    }
   ],
   "source": [
    "from langchain_google_genai import ChatGoogleGenerativeAI\n",
    "model=ChatGoogleGenerativeAI(model='gemini-1.5-flash')\n",
    "output = model.invoke(\"hi hello\")\n",
    "print(output.content)\n",
    "\n"
   ]
  },
  {
   "cell_type": "markdown",
   "id": "2b4d9879",
   "metadata": {},
   "source": [
    "Configuring the embedding model "
   ]
  },
  {
   "cell_type": "code",
   "execution_count": 123,
   "id": "3dd8b3b2",
   "metadata": {},
   "outputs": [],
   "source": [
    "from dotenv import load_dotenv\n",
    "import os\n",
    "load_dotenv()\n",
    "os.environ[\"HUGGINGFACE_API_KEY\"] = os.getenv(\"HUGGINGFACE_API_KEY\") # here i configured my api key from .env file\n",
    "\n"
   ]
  },
  {
   "cell_type": "code",
   "execution_count": 124,
   "id": "9619bc98",
   "metadata": {},
   "outputs": [
    {
     "data": {
      "text/plain": [
       "384"
      ]
     },
     "execution_count": 124,
     "metadata": {},
     "output_type": "execute_result"
    }
   ],
   "source": [
    "from langchain_huggingface import HuggingFaceEmbeddings\n",
    "embeddings = HuggingFaceEmbeddings(model_name=\"BAAI/bge-small-en\")\n",
    "len(embeddings.embed_query(\"hi\"))"
   ]
  },
  {
   "cell_type": "markdown",
   "id": "4589b0f3",
   "metadata": {},
   "source": [
    "LETS TAKE A DATA EMBEDED IT AND STORE IT IN VECTOR DATABASE"
   ]
  },
  {
   "cell_type": "code",
   "execution_count": 125,
   "id": "a8b4a73c",
   "metadata": {},
   "outputs": [],
   "source": [
    "from langchain_community.document_loaders import TextLoader, DirectoryLoader\n",
    "from langchain_community.vectorstores import Chroma\n",
    "from langchain.text_splitter import RecursiveCharacterTextSplitter"
   ]
  },
  {
   "cell_type": "code",
   "execution_count": 126,
   "id": "60cf305e",
   "metadata": {},
   "outputs": [],
   "source": [
    "loader=DirectoryLoader(\"../data\",glob=\"./*.txt\",loader_cls=TextLoader) #here is the directory name data from parent directory"
   ]
  },
  {
   "cell_type": "code",
   "execution_count": 127,
   "id": "1d25501d",
   "metadata": {},
   "outputs": [],
   "source": [
    "docs=loader.load()"
   ]
  },
  {
   "cell_type": "code",
   "execution_count": 128,
   "id": "aff5e948",
   "metadata": {},
   "outputs": [
    {
     "data": {
      "text/plain": [
       "[Document(metadata={'source': '../data/Indiaeconomy.txt'}, page_content=\"Certainly! Here's a well-organized and detailed write-up on **India's economy in 2025** presented in paragraph format:\\n\\n---\\n\\n**India’s Economic Landscape in 2025**\\n\\nIndia stands tall in 2025 as one of the most dynamic and rapidly expanding economies in the world. With a nominal GDP of approximately **USD 4.19 trillion**, India is currently ranked **fourth globally**, just behind the U.S., China, and Germany. When adjusted for purchasing power parity (PPP), India's GDP climbs to **USD 17.65 trillion**, making it the **third-largest economy** worldwide. This robust economic performance is driven by structural reforms, technological advancement, and a favorable demographic dividend.\\n\\nThe **real GDP growth rate** for the fiscal year 2024–25 is estimated at **6.4%**, slightly lower than the previous year’s impressive 8.2% but still significantly higher than most other major economies. This pace confirms India’s status as the **fastest-growing major economy** globally. Key contributors to this growth include strong consumer demand, capital expenditure in infrastructure, rapid digitalization, and recovery in the manufacturing sector. Growth in the January–March 2025 quarter surged to **7.4%**, reflecting strong industrial activity and rural consumption.\\n\\nIndia's economic strength stems from a well-diversified sectoral structure. The **agriculture sector**, although contributing only about **16%** of GDP, remains vital for rural employment and food security. It has seen moderate growth due to the use of technology and better irrigation facilities. The **industrial sector**, accounting for nearly **30%**, benefits from robust construction, manufacturing, and mining activities. However, it is the **services sector**—particularly IT services, telecommunications, e-commerce, and financial services—that dominates the economy, contributing approximately **54%** of GDP.\\n\\nWith a **population exceeding 1.43 billion**, India’s median age remains below 30, offering a significant demographic edge. This young and increasingly skilled workforce supports economic expansion, particularly in tech-driven industries. The rise in digital literacy, fintech adoption, and entrepreneurship has led to a surge in startups and innovation, further boosting employment and productivity.\\n\\nIndia has also become a favored destination for foreign direct investment (FDI), especially in technology, green energy, and manufacturing. Government-led initiatives such as **‘Make in India,’ ‘Digital India,’** and **‘Gati Shakti’** have helped improve ease of doing business and reduce infrastructure bottlenecks. Large-scale investments in transportation, power, and logistics networks are reshaping India's infrastructure landscape, enabling more efficient trade and mobility.\\n\\nThe external sector has also remained relatively stable. While India continues to import a significant share of crude oil and gold, exports in engineering goods, software, pharmaceuticals, and electronics have grown steadily. **Foreign exchange reserves** are healthy, standing around **USD 640 billion**, providing a cushion against external shocks and supporting the Indian rupee's stability.\\n\\nOn the macroeconomic front, **inflation** has been brought under control, with **consumer price index (CPI)** inflation recorded at **around 3.2% in April 2025**. The **Reserve Bank of India (RBI)** has followed a balanced monetary policy—recently reducing repo rates slightly to stimulate growth without triggering inflation. The fiscal deficit remains within manageable limits, and efforts are ongoing to streamline public spending while maintaining support for welfare schemes.\\n\\nDespite these achievements, India faces challenges such as **urban-rural income disparity**, **youth unemployment**, and the need for more **inclusive development**. Reforms in **labor laws, land acquisition**, and **education** are critical to sustain long-term growth. Environmental concerns and sustainable development are also gaining attention, especially as India commits to a **green transition** with increasing investments in renewable energy and electric mobility.\\n\\nIn conclusion, India in 2025 is a picture of resilience and optimism. The country’s rapid transformation into a global economic power is being fueled by structural reforms, digital momentum, and a strong policy framework. While hurdles remain, India’s trajectory towards becoming a **USD 5 trillion economy by 2027** appears increasingly attainable, provided it maintains reform momentum, fosters innovation, and ensures inclusive growth for all segments of society.\\n\\n\\n\\n\\n\")]"
      ]
     },
     "execution_count": 128,
     "metadata": {},
     "output_type": "execute_result"
    }
   ],
   "source": [
    "docs"
   ]
  },
  {
   "cell_type": "code",
   "execution_count": 129,
   "id": "f3e6fd0a",
   "metadata": {},
   "outputs": [
    {
     "data": {
      "text/plain": [
       "\"Certainly! Here's a well-organized and detailed write-up on **India's economy in 2025** presented in paragraph format:\\n\\n---\\n\\n**India’s Economic Landscape in 2025**\\n\\nIndia stands tall in 2025 as one of the most dynamic and rapidly expanding economies in the world. With a nominal GDP of approximately **USD 4.19 trillion**, India is currently ranked **fourth globally**, just behind the U.S., China, and Germany. When adjusted for purchasing power parity (PPP), India's GDP climbs to **USD 17.65 trillion**, making it the **third-largest economy** worldwide. This robust economic performance is driven by structural reforms, technological advancement, and a favorable demographic dividend.\\n\\nThe **real GDP growth rate** for the fiscal year 2024–25 is estimated at **6.4%**, slightly lower than the previous year’s impressive 8.2% but still significantly higher than most other major economies. This pace confirms India’s status as the **fastest-growing major economy** globally. Key contributors to this growth include strong consumer demand, capital expenditure in infrastructure, rapid digitalization, and recovery in the manufacturing sector. Growth in the January–March 2025 quarter surged to **7.4%**, reflecting strong industrial activity and rural consumption.\\n\\nIndia's economic strength stems from a well-diversified sectoral structure. The **agriculture sector**, although contributing only about **16%** of GDP, remains vital for rural employment and food security. It has seen moderate growth due to the use of technology and better irrigation facilities. The **industrial sector**, accounting for nearly **30%**, benefits from robust construction, manufacturing, and mining activities. However, it is the **services sector**—particularly IT services, telecommunications, e-commerce, and financial services—that dominates the economy, contributing approximately **54%** of GDP.\\n\\nWith a **population exceeding 1.43 billion**, India’s median age remains below 30, offering a significant demographic edge. This young and increasingly skilled workforce supports economic expansion, particularly in tech-driven industries. The rise in digital literacy, fintech adoption, and entrepreneurship has led to a surge in startups and innovation, further boosting employment and productivity.\\n\\nIndia has also become a favored destination for foreign direct investment (FDI), especially in technology, green energy, and manufacturing. Government-led initiatives such as **‘Make in India,’ ‘Digital India,’** and **‘Gati Shakti’** have helped improve ease of doing business and reduce infrastructure bottlenecks. Large-scale investments in transportation, power, and logistics networks are reshaping India's infrastructure landscape, enabling more efficient trade and mobility.\\n\\nThe external sector has also remained relatively stable. While India continues to import a significant share of crude oil and gold, exports in engineering goods, software, pharmaceuticals, and electronics have grown steadily. **Foreign exchange reserves** are healthy, standing around **USD 640 billion**, providing a cushion against external shocks and supporting the Indian rupee's stability.\\n\\nOn the macroeconomic front, **inflation** has been brought under control, with **consumer price index (CPI)** inflation recorded at **around 3.2% in April 2025**. The **Reserve Bank of India (RBI)** has followed a balanced monetary policy—recently reducing repo rates slightly to stimulate growth without triggering inflation. The fiscal deficit remains within manageable limits, and efforts are ongoing to streamline public spending while maintaining support for welfare schemes.\\n\\nDespite these achievements, India faces challenges such as **urban-rural income disparity**, **youth unemployment**, and the need for more **inclusive development**. Reforms in **labor laws, land acquisition**, and **education** are critical to sustain long-term growth. Environmental concerns and sustainable development are also gaining attention, especially as India commits to a **green transition** with increasing investments in renewable energy and electric mobility.\\n\\nIn conclusion, India in 2025 is a picture of resilience and optimism. The country’s rapid transformation into a global economic power is being fueled by structural reforms, digital momentum, and a strong policy framework. While hurdles remain, India’s trajectory towards becoming a **USD 5 trillion economy by 2027** appears increasingly attainable, provided it maintains reform momentum, fosters innovation, and ensures inclusive growth for all segments of society.\\n\\n\\n\\n\\n\""
      ]
     },
     "execution_count": 129,
     "metadata": {},
     "output_type": "execute_result"
    }
   ],
   "source": [
    "docs[0].page_content"
   ]
  },
  {
   "cell_type": "code",
   "execution_count": 130,
   "id": "fb28143c",
   "metadata": {},
   "outputs": [],
   "source": [
    "text_splitter=RecursiveCharacterTextSplitter(\n",
    "    chunk_size = 200,\n",
    "    chunk_overlap = 50,\n",
    ")"
   ]
  },
  {
   "cell_type": "code",
   "execution_count": 131,
   "id": "75030f51",
   "metadata": {},
   "outputs": [],
   "source": [
    "new_docs=text_splitter.split_documents(documents=docs)"
   ]
  },
  {
   "cell_type": "code",
   "execution_count": 132,
   "id": "0787526a",
   "metadata": {},
   "outputs": [
    {
     "data": {
      "text/plain": [
       "[Document(metadata={'source': '../data/Indiaeconomy.txt'}, page_content=\"Certainly! Here's a well-organized and detailed write-up on **India's economy in 2025** presented in paragraph format:\\n\\n---\\n\\n**India’s Economic Landscape in 2025**\"),\n",
       " Document(metadata={'source': '../data/Indiaeconomy.txt'}, page_content='India stands tall in 2025 as one of the most dynamic and rapidly expanding economies in the world. With a nominal GDP of approximately **USD 4.19 trillion**, India is currently ranked **fourth'),\n",
       " Document(metadata={'source': '../data/Indiaeconomy.txt'}, page_content=\"trillion**, India is currently ranked **fourth globally**, just behind the U.S., China, and Germany. When adjusted for purchasing power parity (PPP), India's GDP climbs to **USD 17.65 trillion**,\"),\n",
       " Document(metadata={'source': '../data/Indiaeconomy.txt'}, page_content=\"India's GDP climbs to **USD 17.65 trillion**, making it the **third-largest economy** worldwide. This robust economic performance is driven by structural reforms, technological advancement, and a\"),\n",
       " Document(metadata={'source': '../data/Indiaeconomy.txt'}, page_content='reforms, technological advancement, and a favorable demographic dividend.'),\n",
       " Document(metadata={'source': '../data/Indiaeconomy.txt'}, page_content='The **real GDP growth rate** for the fiscal year 2024–25 is estimated at **6.4%**, slightly lower than the previous year’s impressive 8.2% but still significantly higher than most other major'),\n",
       " Document(metadata={'source': '../data/Indiaeconomy.txt'}, page_content='still significantly higher than most other major economies. This pace confirms India’s status as the **fastest-growing major economy** globally. Key contributors to this growth include strong'),\n",
       " Document(metadata={'source': '../data/Indiaeconomy.txt'}, page_content='Key contributors to this growth include strong consumer demand, capital expenditure in infrastructure, rapid digitalization, and recovery in the manufacturing sector. Growth in the January–March 2025'),\n",
       " Document(metadata={'source': '../data/Indiaeconomy.txt'}, page_content='sector. Growth in the January–March 2025 quarter surged to **7.4%**, reflecting strong industrial activity and rural consumption.'),\n",
       " Document(metadata={'source': '../data/Indiaeconomy.txt'}, page_content=\"India's economic strength stems from a well-diversified sectoral structure. The **agriculture sector**, although contributing only about **16%** of GDP, remains vital for rural employment and food\"),\n",
       " Document(metadata={'source': '../data/Indiaeconomy.txt'}, page_content='GDP, remains vital for rural employment and food security. It has seen moderate growth due to the use of technology and better irrigation facilities. The **industrial sector**, accounting for nearly'),\n",
       " Document(metadata={'source': '../data/Indiaeconomy.txt'}, page_content='The **industrial sector**, accounting for nearly **30%**, benefits from robust construction, manufacturing, and mining activities. However, it is the **services sector**—particularly IT services,'),\n",
       " Document(metadata={'source': '../data/Indiaeconomy.txt'}, page_content='the **services sector**—particularly IT services, telecommunications, e-commerce, and financial services—that dominates the economy, contributing approximately **54%** of GDP.'),\n",
       " Document(metadata={'source': '../data/Indiaeconomy.txt'}, page_content='With a **population exceeding 1.43 billion**, India’s median age remains below 30, offering a significant demographic edge. This young and increasingly skilled workforce supports economic expansion,'),\n",
       " Document(metadata={'source': '../data/Indiaeconomy.txt'}, page_content='skilled workforce supports economic expansion, particularly in tech-driven industries. The rise in digital literacy, fintech adoption, and entrepreneurship has led to a surge in startups and'),\n",
       " Document(metadata={'source': '../data/Indiaeconomy.txt'}, page_content='has led to a surge in startups and innovation, further boosting employment and productivity.'),\n",
       " Document(metadata={'source': '../data/Indiaeconomy.txt'}, page_content='India has also become a favored destination for foreign direct investment (FDI), especially in technology, green energy, and manufacturing. Government-led initiatives such as **‘Make in India,’'),\n",
       " Document(metadata={'source': '../data/Indiaeconomy.txt'}, page_content='initiatives such as **‘Make in India,’ ‘Digital India,’** and **‘Gati Shakti’** have helped improve ease of doing business and reduce infrastructure bottlenecks. Large-scale investments in'),\n",
       " Document(metadata={'source': '../data/Indiaeconomy.txt'}, page_content=\"bottlenecks. Large-scale investments in transportation, power, and logistics networks are reshaping India's infrastructure landscape, enabling more efficient trade and mobility.\"),\n",
       " Document(metadata={'source': '../data/Indiaeconomy.txt'}, page_content='The external sector has also remained relatively stable. While India continues to import a significant share of crude oil and gold, exports in engineering goods, software, pharmaceuticals, and'),\n",
       " Document(metadata={'source': '../data/Indiaeconomy.txt'}, page_content='engineering goods, software, pharmaceuticals, and electronics have grown steadily. **Foreign exchange reserves** are healthy, standing around **USD 640 billion**, providing a cushion against external'),\n",
       " Document(metadata={'source': '../data/Indiaeconomy.txt'}, page_content=\"billion**, providing a cushion against external shocks and supporting the Indian rupee's stability.\"),\n",
       " Document(metadata={'source': '../data/Indiaeconomy.txt'}, page_content='On the macroeconomic front, **inflation** has been brought under control, with **consumer price index (CPI)** inflation recorded at **around 3.2% in April 2025**. The **Reserve Bank of India (RBI)**'),\n",
       " Document(metadata={'source': '../data/Indiaeconomy.txt'}, page_content='April 2025**. The **Reserve Bank of India (RBI)** has followed a balanced monetary policy—recently reducing repo rates slightly to stimulate growth without triggering inflation. The fiscal deficit'),\n",
       " Document(metadata={'source': '../data/Indiaeconomy.txt'}, page_content='without triggering inflation. The fiscal deficit remains within manageable limits, and efforts are ongoing to streamline public spending while maintaining support for welfare schemes.'),\n",
       " Document(metadata={'source': '../data/Indiaeconomy.txt'}, page_content='Despite these achievements, India faces challenges such as **urban-rural income disparity**, **youth unemployment**, and the need for more **inclusive development**. Reforms in **labor laws, land'),\n",
       " Document(metadata={'source': '../data/Indiaeconomy.txt'}, page_content='development**. Reforms in **labor laws, land acquisition**, and **education** are critical to sustain long-term growth. Environmental concerns and sustainable development are also gaining attention,'),\n",
       " Document(metadata={'source': '../data/Indiaeconomy.txt'}, page_content='development are also gaining attention, especially as India commits to a **green transition** with increasing investments in renewable energy and electric mobility.'),\n",
       " Document(metadata={'source': '../data/Indiaeconomy.txt'}, page_content='In conclusion, India in 2025 is a picture of resilience and optimism. The country’s rapid transformation into a global economic power is being fueled by structural reforms, digital momentum, and a'),\n",
       " Document(metadata={'source': '../data/Indiaeconomy.txt'}, page_content='by structural reforms, digital momentum, and a strong policy framework. While hurdles remain, India’s trajectory towards becoming a **USD 5 trillion economy by 2027** appears increasingly attainable,'),\n",
       " Document(metadata={'source': '../data/Indiaeconomy.txt'}, page_content='by 2027** appears increasingly attainable, provided it maintains reform momentum, fosters innovation, and ensures inclusive growth for all segments of society.')]"
      ]
     },
     "execution_count": 132,
     "metadata": {},
     "output_type": "execute_result"
    }
   ],
   "source": [
    "new_docs"
   ]
  },
  {
   "cell_type": "code",
   "execution_count": 133,
   "id": "cbaf104b",
   "metadata": {},
   "outputs": [],
   "source": [
    "doc_string=[doc.page_content for doc in new_docs]"
   ]
  },
  {
   "cell_type": "code",
   "execution_count": 134,
   "id": "f671edc1",
   "metadata": {},
   "outputs": [
    {
     "data": {
      "text/plain": [
       "[\"Certainly! Here's a well-organized and detailed write-up on **India's economy in 2025** presented in paragraph format:\\n\\n---\\n\\n**India’s Economic Landscape in 2025**\",\n",
       " 'India stands tall in 2025 as one of the most dynamic and rapidly expanding economies in the world. With a nominal GDP of approximately **USD 4.19 trillion**, India is currently ranked **fourth',\n",
       " \"trillion**, India is currently ranked **fourth globally**, just behind the U.S., China, and Germany. When adjusted for purchasing power parity (PPP), India's GDP climbs to **USD 17.65 trillion**,\",\n",
       " \"India's GDP climbs to **USD 17.65 trillion**, making it the **third-largest economy** worldwide. This robust economic performance is driven by structural reforms, technological advancement, and a\",\n",
       " 'reforms, technological advancement, and a favorable demographic dividend.',\n",
       " 'The **real GDP growth rate** for the fiscal year 2024–25 is estimated at **6.4%**, slightly lower than the previous year’s impressive 8.2% but still significantly higher than most other major',\n",
       " 'still significantly higher than most other major economies. This pace confirms India’s status as the **fastest-growing major economy** globally. Key contributors to this growth include strong',\n",
       " 'Key contributors to this growth include strong consumer demand, capital expenditure in infrastructure, rapid digitalization, and recovery in the manufacturing sector. Growth in the January–March 2025',\n",
       " 'sector. Growth in the January–March 2025 quarter surged to **7.4%**, reflecting strong industrial activity and rural consumption.',\n",
       " \"India's economic strength stems from a well-diversified sectoral structure. The **agriculture sector**, although contributing only about **16%** of GDP, remains vital for rural employment and food\",\n",
       " 'GDP, remains vital for rural employment and food security. It has seen moderate growth due to the use of technology and better irrigation facilities. The **industrial sector**, accounting for nearly',\n",
       " 'The **industrial sector**, accounting for nearly **30%**, benefits from robust construction, manufacturing, and mining activities. However, it is the **services sector**—particularly IT services,',\n",
       " 'the **services sector**—particularly IT services, telecommunications, e-commerce, and financial services—that dominates the economy, contributing approximately **54%** of GDP.',\n",
       " 'With a **population exceeding 1.43 billion**, India’s median age remains below 30, offering a significant demographic edge. This young and increasingly skilled workforce supports economic expansion,',\n",
       " 'skilled workforce supports economic expansion, particularly in tech-driven industries. The rise in digital literacy, fintech adoption, and entrepreneurship has led to a surge in startups and',\n",
       " 'has led to a surge in startups and innovation, further boosting employment and productivity.',\n",
       " 'India has also become a favored destination for foreign direct investment (FDI), especially in technology, green energy, and manufacturing. Government-led initiatives such as **‘Make in India,’',\n",
       " 'initiatives such as **‘Make in India,’ ‘Digital India,’** and **‘Gati Shakti’** have helped improve ease of doing business and reduce infrastructure bottlenecks. Large-scale investments in',\n",
       " \"bottlenecks. Large-scale investments in transportation, power, and logistics networks are reshaping India's infrastructure landscape, enabling more efficient trade and mobility.\",\n",
       " 'The external sector has also remained relatively stable. While India continues to import a significant share of crude oil and gold, exports in engineering goods, software, pharmaceuticals, and',\n",
       " 'engineering goods, software, pharmaceuticals, and electronics have grown steadily. **Foreign exchange reserves** are healthy, standing around **USD 640 billion**, providing a cushion against external',\n",
       " \"billion**, providing a cushion against external shocks and supporting the Indian rupee's stability.\",\n",
       " 'On the macroeconomic front, **inflation** has been brought under control, with **consumer price index (CPI)** inflation recorded at **around 3.2% in April 2025**. The **Reserve Bank of India (RBI)**',\n",
       " 'April 2025**. The **Reserve Bank of India (RBI)** has followed a balanced monetary policy—recently reducing repo rates slightly to stimulate growth without triggering inflation. The fiscal deficit',\n",
       " 'without triggering inflation. The fiscal deficit remains within manageable limits, and efforts are ongoing to streamline public spending while maintaining support for welfare schemes.',\n",
       " 'Despite these achievements, India faces challenges such as **urban-rural income disparity**, **youth unemployment**, and the need for more **inclusive development**. Reforms in **labor laws, land',\n",
       " 'development**. Reforms in **labor laws, land acquisition**, and **education** are critical to sustain long-term growth. Environmental concerns and sustainable development are also gaining attention,',\n",
       " 'development are also gaining attention, especially as India commits to a **green transition** with increasing investments in renewable energy and electric mobility.',\n",
       " 'In conclusion, India in 2025 is a picture of resilience and optimism. The country’s rapid transformation into a global economic power is being fueled by structural reforms, digital momentum, and a',\n",
       " 'by structural reforms, digital momentum, and a strong policy framework. While hurdles remain, India’s trajectory towards becoming a **USD 5 trillion economy by 2027** appears increasingly attainable,',\n",
       " 'by 2027** appears increasingly attainable, provided it maintains reform momentum, fosters innovation, and ensures inclusive growth for all segments of society.']"
      ]
     },
     "execution_count": 134,
     "metadata": {},
     "output_type": "execute_result"
    }
   ],
   "source": [
    "doc_string\n"
   ]
  },
  {
   "cell_type": "code",
   "execution_count": 135,
   "id": "e8e798b7",
   "metadata": {},
   "outputs": [
    {
     "data": {
      "text/plain": [
       "31"
      ]
     },
     "execution_count": 135,
     "metadata": {},
     "output_type": "execute_result"
    }
   ],
   "source": [
    "len(doc_string)"
   ]
  },
  {
   "cell_type": "code",
   "execution_count": 136,
   "id": "94ab9647",
   "metadata": {},
   "outputs": [],
   "source": [
    "db=Chroma.from_documents(documents=new_docs, embedding=embeddings)"
   ]
  },
  {
   "cell_type": "code",
   "execution_count": 137,
   "id": "add9e68d",
   "metadata": {},
   "outputs": [],
   "source": [
    "retriver=db.as_retriever(search_kwargs={\"k\":3})"
   ]
  },
  {
   "cell_type": "code",
   "execution_count": 138,
   "id": "ebbf205b",
   "metadata": {},
   "outputs": [
    {
     "data": {
      "text/plain": [
       "[Document(metadata={'source': '../data/Indiaeconomy.txt'}, page_content='India stands tall in 2025 as one of the most dynamic and rapidly expanding economies in the world. With a nominal GDP of approximately **USD 4.19 trillion**, India is currently ranked **fourth'),\n",
       " Document(metadata={'source': '../data/Indiaeconomy.txt'}, page_content='India stands tall in 2025 as one of the most dynamic and rapidly expanding economies in the world. With a nominal GDP of approximately **USD 4.19 trillion**, India is currently ranked **fourth'),\n",
       " Document(metadata={'source': '../data/Indiaeconomy.txt'}, page_content='In conclusion, India in 2025 is a picture of resilience and optimism. The country’s rapid transformation into a global economic power is being fueled by structural reforms, digital momentum, and a')]"
      ]
     },
     "execution_count": 138,
     "metadata": {},
     "output_type": "execute_result"
    }
   ],
   "source": [
    "retriver.invoke(\"growth of indian economy in 2025\")"
   ]
  },
  {
   "cell_type": "markdown",
   "id": "7c46bdb5",
   "metadata": {},
   "source": [
    "USING PYDANTIC FOR CLASS CREATION"
   ]
  },
  {
   "cell_type": "code",
   "execution_count": 139,
   "id": "2d2df719",
   "metadata": {},
   "outputs": [],
   "source": [
    "\n",
    "import operator\n",
    "from typing import List\n",
    "from pydantic import BaseModel , Field\n",
    "from langchain.prompts import PromptTemplate\n",
    "from typing import TypedDict, Annotated, Sequence\n",
    "from langchain_core.messages import BaseMessage\n",
    "from langchain_core.output_parsers import StrOutputParser\n",
    "from langchain_core.prompts import ChatPromptTemplate, PromptTemplate\n",
    "from langchain_core.runnables import RunnablePassthrough\n",
    "from langchain_core.messages import HumanMessage, AIMessage\n",
    "from langgraph.graph import StateGraph,END"
   ]
  },
  {
   "cell_type": "code",
   "execution_count": 140,
   "id": "eb878fd8",
   "metadata": {},
   "outputs": [],
   "source": [
    "from pydantic import BaseModel, Field"
   ]
  },
  {
   "cell_type": "code",
   "execution_count": 141,
   "id": "f73d9bd4",
   "metadata": {},
   "outputs": [],
   "source": [
    "class TopSelectionParser(BaseModel):\n",
    "    Topic:str=Field(description=\"Select a topic\")\n",
    "    Reasoning:str=Field(description=\"reasoning behind Selecting a topic\")"
   ]
  },
  {
   "cell_type": "code",
   "execution_count": 142,
   "id": "bd27c067",
   "metadata": {},
   "outputs": [],
   "source": [
    "from langchain.output_parsers import PydanticOutputParser"
   ]
  },
  {
   "cell_type": "code",
   "execution_count": 143,
   "id": "b272d3d8",
   "metadata": {},
   "outputs": [],
   "source": [
    "parser =PydanticOutputParser(pydantic_object=TopSelectionParser)"
   ]
  },
  {
   "cell_type": "code",
   "execution_count": 144,
   "id": "69cb95bc",
   "metadata": {},
   "outputs": [
    {
     "data": {
      "text/plain": [
       "'The output should be formatted as a JSON instance that conforms to the JSON schema below.\\n\\nAs an example, for the schema {\"properties\": {\"foo\": {\"title\": \"Foo\", \"description\": \"a list of strings\", \"type\": \"array\", \"items\": {\"type\": \"string\"}}}, \"required\": [\"foo\"]}\\nthe object {\"foo\": [\"bar\", \"baz\"]} is a well-formatted instance of the schema. The object {\"properties\": {\"foo\": [\"bar\", \"baz\"]}} is not well-formatted.\\n\\nHere is the output schema:\\n```\\n{\"properties\": {\"Topic\": {\"description\": \"Select a topic\", \"title\": \"Topic\", \"type\": \"string\"}, \"Reasoning\": {\"description\": \"reasoning behind Selecting a topic\", \"title\": \"Reasoning\", \"type\": \"string\"}}, \"required\": [\"Topic\", \"Reasoning\"]}\\n```'"
      ]
     },
     "execution_count": 144,
     "metadata": {},
     "output_type": "execute_result"
    }
   ],
   "source": [
    "parser.get_format_instructions()"
   ]
  },
  {
   "cell_type": "code",
   "execution_count": 145,
   "id": "4b864dce",
   "metadata": {},
   "outputs": [],
   "source": [
    "class AgentState(TypedDict):\n",
    "    messages: Annotated[Sequence[BaseMessage], operator.add]"
   ]
  },
  {
   "cell_type": "code",
   "execution_count": 146,
   "id": "8229e524",
   "metadata": {},
   "outputs": [],
   "source": [
    "AgentState = {}\n"
   ]
  },
  {
   "cell_type": "code",
   "execution_count": 147,
   "id": "66020c2b",
   "metadata": {},
   "outputs": [],
   "source": [
    "AgentState[\"messages\"]=[]"
   ]
  },
  {
   "cell_type": "code",
   "execution_count": 148,
   "id": "5f2ff2ba",
   "metadata": {},
   "outputs": [
    {
     "data": {
      "text/plain": [
       "{'messages': []}"
      ]
     },
     "execution_count": 148,
     "metadata": {},
     "output_type": "execute_result"
    }
   ],
   "source": [
    "AgentState"
   ]
  },
  {
   "cell_type": "code",
   "execution_count": 149,
   "id": "ba163908",
   "metadata": {},
   "outputs": [],
   "source": [
    "AgentState[\"messages\"].append(\"hello how are you?\")"
   ]
  },
  {
   "cell_type": "code",
   "execution_count": 150,
   "id": "ee5213d8",
   "metadata": {},
   "outputs": [
    {
     "data": {
      "text/plain": [
       "{'messages': ['hello how are you?']}"
      ]
     },
     "execution_count": 150,
     "metadata": {},
     "output_type": "execute_result"
    }
   ],
   "source": [
    "AgentState"
   ]
  },
  {
   "cell_type": "code",
   "execution_count": 151,
   "id": "dba768db",
   "metadata": {},
   "outputs": [],
   "source": [
    "AgentState[\"messages\"].append(\"how is your health?\")"
   ]
  },
  {
   "cell_type": "code",
   "execution_count": 152,
   "id": "dc591499",
   "metadata": {},
   "outputs": [
    {
     "data": {
      "text/plain": [
       "{'messages': ['hello how are you?', 'how is your health?']}"
      ]
     },
     "execution_count": 152,
     "metadata": {},
     "output_type": "execute_result"
    }
   ],
   "source": [
    "AgentState"
   ]
  },
  {
   "cell_type": "code",
   "execution_count": 153,
   "id": "ccadfea6",
   "metadata": {},
   "outputs": [],
   "source": [
    "AgentState[\"messages\"].append(\"what is your daily routine?\")"
   ]
  },
  {
   "cell_type": "code",
   "execution_count": 154,
   "id": "596bcd49",
   "metadata": {},
   "outputs": [
    {
     "data": {
      "text/plain": [
       "{'messages': ['hello how are you?',\n",
       "  'how is your health?',\n",
       "  'what is your daily routine?']}"
      ]
     },
     "execution_count": 154,
     "metadata": {},
     "output_type": "execute_result"
    }
   ],
   "source": [
    "AgentState"
   ]
  },
  {
   "cell_type": "code",
   "execution_count": 155,
   "id": "aff1a897",
   "metadata": {},
   "outputs": [
    {
     "data": {
      "text/plain": [
       "'what is your daily routine?'"
      ]
     },
     "execution_count": 155,
     "metadata": {},
     "output_type": "execute_result"
    }
   ],
   "source": [
    "AgentState[\"messages\"][-1]"
   ]
  },
  {
   "cell_type": "code",
   "execution_count": 156,
   "id": "18150d3c",
   "metadata": {},
   "outputs": [
    {
     "data": {
      "text/plain": [
       "'hello how are you?'"
      ]
     },
     "execution_count": 156,
     "metadata": {},
     "output_type": "execute_result"
    }
   ],
   "source": [
    "AgentState[\"messages\"][0]"
   ]
  },
  {
   "cell_type": "markdown",
   "id": "07d8d275",
   "metadata": {},
   "source": [
    "AGENT FUNCTIONALITY 🤖"
   ]
  },
  {
   "cell_type": "code",
   "execution_count": 221,
   "id": "359828b2",
   "metadata": {},
   "outputs": [],
   "source": [
    "## supervisor function that is first node in the graph\n",
    "def function1(state:AgentState):\n",
    "    question=state[\"messages\"][-1]\n",
    "    print(f\"Question is {question}\")\n",
    "    template=\"\"\"\"    Your task is to classify the given user query into one of the following categories: [India,Not Related]. \n",
    "    Only respond with the category name and nothing else.\n",
    "\n",
    "    User query: {question}\n",
    "    {format_instructions}\"\"\"\n",
    "\n",
    "\n",
    "    prompt = PromptTemplate(\n",
    "        template=template,\n",
    "        input_variables=['question'],\n",
    "        partial_variables={\"format_instructions\": parser.get_format_instructions()}\n",
    "    )\n",
    "\n",
    "    chain = prompt | model | parser \n",
    "\n",
    "    response =chain.invoke({\"question\": question})\n",
    "    print(f\"parsed response is {response}\")\n",
    "    return {\"messages\": [response.Topic]}\n",
    "\n",
    "\n"
   ]
  },
  {
   "cell_type": "code",
   "execution_count": 222,
   "id": "23d39fb4",
   "metadata": {},
   "outputs": [],
   "source": [
    "state = { \"messages\":[\"what is day today?\"]}"
   ]
  },
  {
   "cell_type": "code",
   "execution_count": 223,
   "id": "f9a7c109",
   "metadata": {},
   "outputs": [
    {
     "name": "stdout",
     "output_type": "stream",
     "text": [
      "Question is what is day today?\n",
      "parsed response is Topic='Not Related' Reasoning=\"The query 'what is day today?' is a general question about the current day and not related to India.\"\n"
     ]
    },
    {
     "data": {
      "text/plain": [
       "{'messages': ['Not Related']}"
      ]
     },
     "execution_count": 223,
     "metadata": {},
     "output_type": "execute_result"
    }
   ],
   "source": [
    "function1(state)"
   ]
  },
  {
   "cell_type": "code",
   "execution_count": 224,
   "id": "228a592b",
   "metadata": {},
   "outputs": [],
   "source": [
    "state = { \"messages\":[\"what is GDP of India 2025?\"]}"
   ]
  },
  {
   "cell_type": "code",
   "execution_count": 225,
   "id": "62c5b2ae",
   "metadata": {},
   "outputs": [
    {
     "name": "stdout",
     "output_type": "stream",
     "text": [
      "Question is what is GDP of India 2025?\n",
      "parsed response is Topic='India' Reasoning='The query explicitly asks about the GDP of India in 2025.'\n"
     ]
    },
    {
     "data": {
      "text/plain": [
       "{'messages': ['India']}"
      ]
     },
     "execution_count": 225,
     "metadata": {},
     "output_type": "execute_result"
    }
   ],
   "source": [
    "function1(state)"
   ]
  },
  {
   "cell_type": "markdown",
   "id": "25adbfc1",
   "metadata": {},
   "source": [
    "THIS BELOW BLOCK OF CODE IS FOR REFERENCE TO ABOVE OUTPUT."
   ]
  },
  {
   "cell_type": "code",
   "execution_count": 226,
   "id": "45e8f4f5",
   "metadata": {},
   "outputs": [],
   "source": [
    "class TopSelectionParser(BaseModel):\n",
    "    Topic:str=Field(description=\"Select a topic\")\n",
    "    Reasoning:str=Field(description=\"reasoning behind Selecting a topic\")"
   ]
  },
  {
   "cell_type": "code",
   "execution_count": 242,
   "id": "c80f11e5",
   "metadata": {},
   "outputs": [],
   "source": [
    "def router(state:AgentState):\n",
    "    print(\"-> ROUTER ->\")\n",
    "    last_message=state[\"messages\"][-1]\n",
    "    print(f\"last message is {last_message}\")\n",
    "\n",
    "    if \"india\" in last_message.lower():\n",
    "        return \"RAG CALL\"\n",
    "    else:\n",
    "        return \"LLM CALL\"\n",
    "\n"
   ]
  },
  {
   "cell_type": "code",
   "execution_count": 240,
   "id": "26ba3688",
   "metadata": {},
   "outputs": [],
   "source": [
    "## RAG Call function that is second node in the graph\n",
    "def function2(state:AgentState):\n",
    "    pass"
   ]
  },
  {
   "cell_type": "code",
   "execution_count": 241,
   "id": "cb43b1cf",
   "metadata": {},
   "outputs": [],
   "source": [
    "## LLM Call function that is second node in the graph\n",
    "def function3(state:AgentState):\n",
    "    pass"
   ]
  },
  {
   "cell_type": "code",
   "execution_count": 230,
   "id": "585b9d57",
   "metadata": {},
   "outputs": [],
   "source": [
    "from langgraph.graph import StateGraph,END"
   ]
  },
  {
   "cell_type": "code",
   "execution_count": 231,
   "id": "d90b07a6",
   "metadata": {},
   "outputs": [],
   "source": [
    "workflow =StateGraph(StateGraph)"
   ]
  },
  {
   "cell_type": "code",
   "execution_count": 232,
   "id": "b54a8303",
   "metadata": {},
   "outputs": [
    {
     "data": {
      "text/plain": [
       "<langgraph.graph.state.StateGraph at 0x15cb36930>"
      ]
     },
     "execution_count": 232,
     "metadata": {},
     "output_type": "execute_result"
    }
   ],
   "source": [
    "workflow.add_node(\"Supervisor\",function1)"
   ]
  },
  {
   "cell_type": "code",
   "execution_count": 233,
   "id": "c0ac3f4e",
   "metadata": {},
   "outputs": [
    {
     "data": {
      "text/plain": [
       "<langgraph.graph.state.StateGraph at 0x15cb36930>"
      ]
     },
     "execution_count": 233,
     "metadata": {},
     "output_type": "execute_result"
    }
   ],
   "source": [
    "workflow.add_node(\"RAG\",function2)"
   ]
  },
  {
   "cell_type": "code",
   "execution_count": 234,
   "id": "9b97fd8a",
   "metadata": {},
   "outputs": [
    {
     "data": {
      "text/plain": [
       "<langgraph.graph.state.StateGraph at 0x15cb36930>"
      ]
     },
     "execution_count": 234,
     "metadata": {},
     "output_type": "execute_result"
    }
   ],
   "source": [
    "workflow.add_node(\"LLM\",function3)"
   ]
  },
  {
   "cell_type": "code",
   "execution_count": 235,
   "id": "2004b555",
   "metadata": {},
   "outputs": [
    {
     "data": {
      "text/plain": [
       "<langgraph.graph.state.StateGraph at 0x15cb36930>"
      ]
     },
     "execution_count": 235,
     "metadata": {},
     "output_type": "execute_result"
    }
   ],
   "source": [
    "workflow.set_entry_point(\"Supervisor\")"
   ]
  },
  {
   "cell_type": "code",
   "execution_count": 236,
   "id": "d5d7d68f",
   "metadata": {},
   "outputs": [
    {
     "data": {
      "text/plain": [
       "<langgraph.graph.state.StateGraph at 0x15cb36930>"
      ]
     },
     "execution_count": 236,
     "metadata": {},
     "output_type": "execute_result"
    }
   ],
   "source": [
    "workflow.add_conditional_edges(\n",
    "    \"Supervisor\",\n",
    "    router,\n",
    "    {\n",
    "        \"RAG CALL\": \"RAG\",\n",
    "        \"LLM CALL\": \"LLM\"\n",
    "    }\n",
    ")"
   ]
  },
  {
   "cell_type": "code",
   "execution_count": 237,
   "id": "b754f500",
   "metadata": {},
   "outputs": [
    {
     "data": {
      "text/plain": [
       "<langgraph.graph.state.StateGraph at 0x15cb36930>"
      ]
     },
     "execution_count": 237,
     "metadata": {},
     "output_type": "execute_result"
    }
   ],
   "source": [
    "workflow.add_edge(\"RAG\",END)\n",
    "workflow.add_edge(\"LLM\",END)"
   ]
  },
  {
   "cell_type": "code",
   "execution_count": 239,
   "id": "3c38c21c",
   "metadata": {},
   "outputs": [
    {
     "data": {
      "image/png": "[encoded data removed]",
      "text/plain": [
       "<langgraph.graph.state.CompiledStateGraph object at 0x15cb36090>"
      ]
     },
     "execution_count": 239,
     "metadata": {},
     "output_type": "execute_result"
    }
   ],
   "source": [
    "workflow.compile()"
   ]
  },
  {
   "cell_type": "code",
   "execution_count": null,
   "id": "73904e1f",
   "metadata": {},
   "outputs": [],
   "source": []
  }
 ],
 "metadata": {
  "kernelspec": {
   "display_name": ".venv",
   "language": "python",
   "name": "python3"
  },
  "language_info": {
   "codemirror_mode": {
    "name": "ipython",
    "version": 3
   },
   "file_extension": ".py",
   "mimetype": "text/x-python",
   "name": "python",
   "nbconvert_exporter": "python",
   "pygments_lexer": "ipython3",
   "version": "3.12.3"
  }
 },
 "nbformat": 4,
 "nbformat_minor": 5
}
