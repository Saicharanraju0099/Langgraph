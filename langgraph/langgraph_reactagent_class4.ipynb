{
 "cells": [
  {
   "cell_type": "code",
   "execution_count": 1,
   "id": "f7b4a291",
   "metadata": {},
   "outputs": [],
   "source": [
    "from dotenv import load_dotenv\n",
    "load_dotenv()\n",
    "import os\n",
    "os.environ[\"GROQ_API_KEY\"] = os.getenv(\"GROQ_API_KEY\")"
   ]
  },
  {
   "cell_type": "code",
   "execution_count": 2,
   "id": "d24e5577",
   "metadata": {},
   "outputs": [],
   "source": [
    "\n",
    "from langchain_groq import ChatGroq\n",
    "llm = ChatGroq(\n",
    "    model_name=\"deepseek-r1-distill-llama-70b\",\n",
    "    temperature=0\n",
    ")\n",
    "response=llm.invoke(\"what is capital of india\")"
   ]
  },
  {
   "cell_type": "code",
   "execution_count": 3,
   "id": "d03718d1",
   "metadata": {},
   "outputs": [
    {
     "name": "stdout",
     "output_type": "stream",
     "text": [
      "<think>\n",
      "Okay, so I need to figure out what the capital of India is. Hmm, I'm not entirely sure, but I think it's a city I've heard of before. Let me try to remember. I know that India is a big country in South Asia, and it's been in the news a lot for various reasons. I remember learning a bit about countries and their capitals in school, but I'm a bit fuzzy on the details.\n",
      "\n",
      "Wait, I think the capital might be Mumbai. No, that doesn't sound right. I think Mumbai is a major city, maybe the financial hub, but not the capital. Or is it Delhi? I've heard of Delhi before, and I think it's in the north of India. I remember something about the Golden Triangle, which includes Delhi, Agra, and Jaipur. So maybe Delhi is the capital.\n",
      "\n",
      "But I'm not 100% sure. Let me think of other countries and their capitals to see if that helps. For example, the capital of France is Paris, Germany is Berlin, the USA is Washington D.C., and China is Beijing. So, following that pattern, India's capital should be a well-known city. I think it's Delhi because I've heard of the Prime Minister of India, and I believe he's based in Delhi.\n",
      "\n",
      "Wait, but I also recall that sometimes countries have multiple important cities, like how the Netherlands has Amsterdam as the capital but the government is in The Hague. Maybe India has something similar? No, I think India's government is centralized in its capital. So, if the government is in Delhi, then that must be the capital.\n",
      "\n",
      "I also remember that Delhi is a very old city with a lot of historical sites, like the Red Fort and Qutub Minar. Those are tourist attractions, so it makes sense that the capital would have significant landmarks. Plus, I think the President of India resides in Delhi, in a building called Rashtrapati Bhavan. That sounds familiar.\n",
      "\n",
      "Another way to think about it is through geography. India is a vast country, and the capital is often located in a place that's central or strategically important. Delhi is in the north, near the Yamuna River, and it's been a historical center for various empires, including the Mughal Empire. So, it makes sense that it's the capital.\n",
      "\n",
      "I'm trying to remember if there have been any changes. I think in the past, during British rule, the capital was Calcutta, but after independence, it was moved to Delhi. So, that's another clue. So, putting it all together, I'm pretty confident that the capital of India is Delhi.\n",
      "\n",
      "Wait, but just to be sure, I should consider other possibilities. Could it be Bangalore? No, that's more known for being the IT hub. Hyderabad? Also a major city, but not the capital. Chennai? That's in the south, I think. So, no, it's definitely Delhi.\n",
      "\n",
      "I think I've got it now. The capital of India is Delhi. It's where the central government is located, and it's a city with a rich history and cultural significance. Plus, all the government buildings and institutions are there, which solidifies its status as the capital.\n",
      "</think>\n",
      "\n",
      "The capital of India is Delhi. It is located in the northern part of the country and serves as the administrative and political center, housing key government institutions and landmarks such as Rashtrapati Bhavan, the Red Fort, and Qutub Minar. Delhi's historical significance and strategic location make it the capital, distinct from other major cities like Mumbai, Bangalore, and Chennai.\n"
     ]
    }
   ],
   "source": [
    "print(response.content)"
   ]
  },
  {
   "cell_type": "code",
   "execution_count": 11,
   "id": "563ca108",
   "metadata": {},
   "outputs": [],
   "source": [
    "from langchain.tools import tool"
   ]
  },
  {
   "cell_type": "markdown",
   "id": "12fb842c",
   "metadata": {},
   "source": [
    "**CUSTOM TOOLS**"
   ]
  },
  {
   "cell_type": "code",
   "execution_count": 33,
   "id": "871aa153",
   "metadata": {},
   "outputs": [],
   "source": [
    "@tool\n",
    "def multiply(a:int,b:int) -> int:\n",
    "    \"\"\"Multiply two integers\n",
    "    args:\n",
    "         a (int): First integer\n",
    "         b (int): Second integer\n",
    "    returns:\n",
    "            int: product of a and b\n",
    "    \"\"\"\n",
    "    return a * b\n",
    "\n",
    "\n"
   ]
  },
  {
   "cell_type": "code",
   "execution_count": null,
   "id": "cc3ab4b9",
   "metadata": {},
   "outputs": [],
   "source": [
    "@tool\n",
    "def addition(a:int,b:int) -> int:\n",
    "       \"\"\"addition two integers\n",
    "    args:\n",
    "         a (int): First integer\n",
    "         b (int): Second integer\n",
    "    returns:\n",
    "            int: addition of a and b\n",
    "    \"\"\"\n",
    "       return a * b"
   ]
  },
  {
   "cell_type": "code",
   "execution_count": 39,
   "id": "ff41455c",
   "metadata": {},
   "outputs": [],
   "source": [
    "@tool\n",
    "def divide(a:int,b:int) -> float:\n",
    "       \"\"\"Division two integers\n",
    "    args:\n",
    "         a (int): First integer\n",
    "         b (int): Second integer\n",
    "    returns:\n",
    "            float: division of a and b\n",
    "        \n",
    "    \"\"\"\n",
    "       if b==0:\n",
    "          raise ValueError(\"Denominator cannot be zero\")\n",
    "       \n",
    "       \n",
    "          return a / b"
   ]
  },
  {
   "cell_type": "markdown",
   "id": "f7d741ce",
   "metadata": {},
   "source": [
    "**IMPORTING THE INBUILT TOOL**"
   ]
  },
  {
   "cell_type": "code",
   "execution_count": 37,
   "id": "f6f85ae1",
   "metadata": {},
   "outputs": [],
   "source": [
    "from langchain_community.tools import DuckDuckGoSearchRun\n",
    "search=DuckDuckGoSearchRun()"
   ]
  },
  {
   "cell_type": "code",
   "execution_count": 38,
   "id": "388d3051",
   "metadata": {},
   "outputs": [
    {
     "data": {
      "text/plain": [
       "'The Nothing Phone 3 has been launched in India and it can now be pre-ordered. This is a phone that Nothing is calling its first true flagship device. From specs to Nothing Phone 3 India price, here is everything you need to know about it. The Nothing Phone (3) is currently available for pre-order and will go on sale starting July 5. Nothing Phone (3), Headphone (1) India Prices Finally Revealed — And They\\'re Premium Nothing Phone (3) builds on the company\\'s design-first philosophy with a transparent back panel that now houses the all-new Glyph Matrix. New Delhi: Nothing has launched its latest smartphone, the Phone (3), in India following months of leaks and rumours around it. For the first time, the company is calling this a \"true flagship.\" Prices start at Rs 62,999 for the 12GB + 256GB model and go up to Rs 72,999 for the 16GB + 512GB variant. Nothing Phone 3 was launched in India with Snapdragon 8s Gen 4 chipset and a new Glyph Matrix. It has a triple rear camera unit comprising three 50-megapixel sensors.'"
      ]
     },
     "execution_count": 38,
     "metadata": {},
     "output_type": "execute_result"
    }
   ],
   "source": [
    "search.invoke(\"what is the latest nothing 3 phone price in india?\")"
   ]
  },
  {
   "cell_type": "code",
   "execution_count": 40,
   "id": "1cd76093",
   "metadata": {},
   "outputs": [],
   "source": [
    "tools = [multiply, addition, divide, search]"
   ]
  },
  {
   "cell_type": "code",
   "execution_count": 42,
   "id": "a7d44d2d",
   "metadata": {},
   "outputs": [],
   "source": [
    "llm_with_tools=llm.bind_tools(tools)"
   ]
  },
  {
   "cell_type": "code",
   "execution_count": null,
   "id": "5abfeb8d",
   "metadata": {},
   "outputs": [],
   "source": []
  }
 ],
 "metadata": {
  "kernelspec": {
   "display_name": "agenticai",
   "language": "python",
   "name": "python3"
  },
  "language_info": {
   "codemirror_mode": {
    "name": "ipython",
    "version": 3
   },
   "file_extension": ".py",
   "mimetype": "text/x-python",
   "name": "python",
   "nbconvert_exporter": "python",
   "pygments_lexer": "ipython3",
   "version": "3.12.3"
  }
 },
 "nbformat": 4,
 "nbformat_minor": 5
}
