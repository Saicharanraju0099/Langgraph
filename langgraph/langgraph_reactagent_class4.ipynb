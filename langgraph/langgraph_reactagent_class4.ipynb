{
 "cells": [
  {
   "cell_type": "code",
   "execution_count": 6,
   "id": "f7b4a291",
   "metadata": {},
   "outputs": [],
   "source": [
    "from dotenv import load_dotenv\n",
    "load_dotenv()\n",
    "import os\n",
    "os.environ[\"GROQ_API_KEY\"] = os.getenv(\"GROQ_API_KEY\")"
   ]
  },
  {
   "cell_type": "code",
   "execution_count": 11,
   "id": "d24e5577",
   "metadata": {},
   "outputs": [],
   "source": [
    "\n",
    "from langchain_groq import ChatGroq\n",
    "llm = ChatGroq(\n",
    "    model_name=\"deepseek-r1-distill-llama-70b\",\n",
    "    temperature=0\n",
    ")\n",
    "response=llm.invoke(\"what is capital of india\")"
   ]
  },
  {
   "cell_type": "code",
   "execution_count": 13,
   "id": "d03718d1",
   "metadata": {},
   "outputs": [
    {
     "name": "stdout",
     "output_type": "stream",
     "text": [
      "<think>\n",
      "Okay, so I need to figure out what the capital of India is. Hmm, I'm not entirely sure, but I think it's a city I've heard of before. Let me try to remember. I know that India is a big country in South Asia, and it's been in the news a lot for various reasons. I remember learning a bit about countries and their capitals in school, but I'm a bit fuzzy on the details.\n",
      "\n",
      "Wait, I think the capital might be Mumbai. No, that doesn't sound right. I think Mumbai is a major city, maybe the financial hub or something. Then there's Delhi. I've heard of Delhi a lot, especially in the context of history. There's Old Delhi and New Delhi, right? I think New Delhi is the capital. But I'm not 100% certain.\n",
      "\n",
      "Let me think about other countries' capitals to see if that helps. For example, the capital of France is Paris, the capital of the USA is Washington D.C., and the capital of China is Beijing. So, following that pattern, India's capital should be a well-known city. I've heard of Bangalore and Hyderabad as well, but I think those are more known for technology industries rather than being the capital.\n",
      "\n",
      "I also remember that sometimes countries have their capital different from their largest city. For example, in the USA, New York is the biggest city, but Washington D.C. is the capital. So maybe in India, Mumbai is the biggest city, but the capital is somewhere else. That would make sense if the capital is New Delhi.\n",
      "\n",
      "Wait, I think I've heard of the Prime Minister of India, Narendra Modi, and I believe he's based in Delhi. That would make sense because the capital is where the government is. Also, I've heard of the Indian Parliament and other government buildings being in Delhi. So that must be it.\n",
      "\n",
      "I'm trying to recall if there are any other cities that could be the capital. Maybe Kolkata or Chennai? I don't think so. Those are major cities, but I don't associate them with being the capital. So, putting it all together, I think the capital of India is New Delhi. Yeah, that sounds right.\n",
      "</think>\n",
      "\n",
      "The capital of India is New Delhi.\n"
     ]
    }
   ],
   "source": [
    "print(response.content)"
   ]
  },
  {
   "cell_type": "code",
   "execution_count": null,
   "id": "563ca108",
   "metadata": {},
   "outputs": [],
   "source": []
  }
 ],
 "metadata": {
  "kernelspec": {
   "display_name": "agenticai",
   "language": "python",
   "name": "python3"
  },
  "language_info": {
   "codemirror_mode": {
    "name": "ipython",
    "version": 3
   },
   "file_extension": ".py",
   "mimetype": "text/x-python",
   "name": "python",
   "nbconvert_exporter": "python",
   "pygments_lexer": "ipython3",
   "version": "3.12.3"
  }
 },
 "nbformat": 4,
 "nbformat_minor": 5
}
