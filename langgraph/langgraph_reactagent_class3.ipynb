{
 "cells": [
  {
   "cell_type": "code",
   "execution_count": 1,
   "id": "f7da1a66",
   "metadata": {},
   "outputs": [
    {
     "data": {
      "text/plain": [
       "'AIzaSyBRx4ncuhzrEk4LIkoaa0t7GpgbA53QdswS'"
      ]
     },
     "execution_count": 1,
     "metadata": {},
     "output_type": "execute_result"
    }
   ],
   "source": [
    "import os\n",
    "os.getenv(\"GOOGLE_API_KEY\")"
   ]
  },
  {
   "cell_type": "code",
   "execution_count": 2,
   "id": "d3d0e53c",
   "metadata": {},
   "outputs": [],
   "source": [
    "from dotenv import load_dotenv\n",
    "load_dotenv()\n",
    "import os\n",
    "os.environ[\"GROQ_API_KEY\"] = os.getenv(\"GROQ_API_KEY\")"
   ]
  },
  {
   "cell_type": "code",
   "execution_count": 3,
   "id": "935f6854",
   "metadata": {},
   "outputs": [],
   "source": [
    "from langchain_groq import ChatGroq"
   ]
  },
  {
   "cell_type": "markdown",
   "id": "8b2d5d18",
   "metadata": {},
   "source": [
    "USE A GOOD REASONING MODEL FOR APPROPRIATE RESULTS "
   ]
  },
  {
   "cell_type": "code",
   "execution_count": 4,
   "id": "c6d6d5b2",
   "metadata": {},
   "outputs": [],
   "source": [
    "llm=ChatGroq(model = \"gemma2-9b-it\")"
   ]
  },
  {
   "cell_type": "code",
   "execution_count": 5,
   "id": "d575dffb",
   "metadata": {},
   "outputs": [
    {
     "data": {
      "text/plain": [
       "AIMessage(content=\"Hello! I am Gemma, an open-weights AI assistant. I'm a large language model, which means I'm trained on a massive amount of text data. This allows me to communicate and generate human-like text in response to a wide range of prompts and questions.\\n\\nWhat can I do for you today?\\n\", additional_kwargs={}, response_metadata={'token_usage': {'completion_tokens': 69, 'prompt_tokens': 16, 'total_tokens': 85, 'completion_time': 0.125454545, 'prompt_time': 0.001917788, 'queue_time': 0.24402264099999998, 'total_time': 0.127372333}, 'model_name': 'gemma2-9b-it', 'system_fingerprint': 'fp_10c08bf97d', 'finish_reason': 'stop', 'logprobs': None}, id='run--91c9358e-0834-428c-aa10-f91cc7d9ee6b-0', usage_metadata={'input_tokens': 16, 'output_tokens': 69, 'total_tokens': 85})"
      ]
     },
     "execution_count": 5,
     "metadata": {},
     "output_type": "execute_result"
    }
   ],
   "source": [
    "llm.invoke(\"hi there, who are you?\")"
   ]
  },
  {
   "cell_type": "code",
   "execution_count": 6,
   "id": "3ccb0654",
   "metadata": {},
   "outputs": [
    {
     "name": "stdout",
     "output_type": "stream",
     "text": [
      "Hello! I am Gemma, an open-weights AI assistant.\n",
      "\n",
      "I'm a large language model trained by Google DeepMind. This means I can understand and generate human-like text. I can answer your questions, write stories, summarize information, and much more.\n",
      "\n",
      "Since I'm open-weights, my weights are publicly available. This means anyone can access and study how I work.\n",
      "\n"
     ]
    }
   ],
   "source": [
    "print(llm.invoke(\"hi there, who are you?\").content)"
   ]
  },
  {
   "cell_type": "code",
   "execution_count": 7,
   "id": "22c921c1",
   "metadata": {},
   "outputs": [],
   "source": [
    "import operator\n",
    "from typing import List\n",
    "from pydantic import BaseModel , Field\n",
    "from langchain.prompts import PromptTemplate\n",
    "from typing import TypedDict, Annotated, Sequence\n",
    "from langchain_core.messages import BaseMessage\n",
    "from langchain_core.output_parsers import StrOutputParser\n",
    "from langchain_core.prompts import ChatPromptTemplate, PromptTemplate\n",
    "\n",
    "from langchain_core.messages import HumanMessage, AIMessage\n",
    "from langgraph.graph import StateGraph,MessagesState,START,END\n",
    "from IPython.display import Image, display\n",
    "from langchain_core.tools import tool\n",
    "from langchain_core.messages import HumanMessage, AIMessage\n",
    "from langgraph.graph import StateGraph,MessagesState,START,END\n",
    "from langgraph.prebuilt import ToolNode\n",
    "from IPython.display import Image, display"
   ]
  },
  {
   "cell_type": "code",
   "execution_count": 8,
   "id": "a11cf2cb",
   "metadata": {},
   "outputs": [],
   "source": [
    "\n",
    "def call_model(state: MessagesState):\n",
    "    messages = state['messages']\n",
    "    response = llm.invoke(messages)\n",
    "    return {\"messages\": [response]}\n",
    "    \n",
    "\n"
   ]
  },
  {
   "cell_type": "markdown",
   "id": "06d52199",
   "metadata": {},
   "source": [
    "THIS CODE IS ONLY FOR TESTING"
   ]
  },
  {
   "cell_type": "code",
   "execution_count": 9,
   "id": "ce06fd12",
   "metadata": {},
   "outputs": [
    {
     "data": {
      "text/plain": [
       "{'messages': [AIMessage(content=\"As an AI, I don't have feelings, but I'm here and ready to help! How can I assist you today? 😊\\n\", additional_kwargs={}, response_metadata={'token_usage': {'completion_tokens': 32, 'prompt_tokens': 15, 'total_tokens': 47, 'completion_time': 0.058181818, 'prompt_time': 0.003397917, 'queue_time': 0.387930869, 'total_time': 0.061579735}, 'model_name': 'gemma2-9b-it', 'system_fingerprint': 'fp_10c08bf97d', 'finish_reason': 'stop', 'logprobs': None}, id='run--cc072a1f-16e2-4b23-a870-3df3d7a64710-0', usage_metadata={'input_tokens': 15, 'output_tokens': 32, 'total_tokens': 47})]}"
      ]
     },
     "execution_count": 9,
     "metadata": {},
     "output_type": "execute_result"
    }
   ],
   "source": [
    "state={\"messages\":[\"hi hello how are you?\"]}\n",
    "call_model(state)\n"
   ]
  },
  {
   "cell_type": "markdown",
   "id": "f29c9898",
   "metadata": {},
   "source": [
    "Simple workflow without tool calling"
   ]
  },
  {
   "cell_type": "code",
   "execution_count": 10,
   "id": "fd2d8953",
   "metadata": {},
   "outputs": [],
   "source": [
    "workflow = StateGraph(MessagesState)"
   ]
  },
  {
   "cell_type": "code",
   "execution_count": 11,
   "id": "ea9172f3",
   "metadata": {},
   "outputs": [
    {
     "data": {
      "text/plain": [
       "<langgraph.graph.state.StateGraph at 0x10bb357c0>"
      ]
     },
     "execution_count": 11,
     "metadata": {},
     "output_type": "execute_result"
    }
   ],
   "source": [
    "workflow.add_node(\"mybot\",call_model)"
   ]
  },
  {
   "cell_type": "code",
   "execution_count": 12,
   "id": "cda95be5",
   "metadata": {},
   "outputs": [
    {
     "data": {
      "text/plain": [
       "<langgraph.graph.state.StateGraph at 0x10bb357c0>"
      ]
     },
     "execution_count": 12,
     "metadata": {},
     "output_type": "execute_result"
    }
   ],
   "source": [
    "workflow.add_edge(START,\"mybot\")"
   ]
  },
  {
   "cell_type": "code",
   "execution_count": 13,
   "id": "35e1548d",
   "metadata": {},
   "outputs": [
    {
     "data": {
      "text/plain": [
       "<langgraph.graph.state.StateGraph at 0x10bb357c0>"
      ]
     },
     "execution_count": 13,
     "metadata": {},
     "output_type": "execute_result"
    }
   ],
   "source": [
    "workflow.add_edge(\"mybot\",END)"
   ]
  },
  {
   "cell_type": "code",
   "execution_count": 14,
   "id": "43adf140",
   "metadata": {},
   "outputs": [],
   "source": [
    "app = workflow.compile()"
   ]
  },
  {
   "cell_type": "code",
   "execution_count": 15,
   "id": "abcbfd16",
   "metadata": {},
   "outputs": [
    {
     "data": {
      "image/png": "[encoded data removed]",
      "text/plain": [
       "<IPython.core.display.Image object>"
      ]
     },
     "metadata": {},
     "output_type": "display_data"
    }
   ],
   "source": [
    "display(Image(app.get_graph().draw_mermaid_png()))"
   ]
  },
  {
   "cell_type": "code",
   "execution_count": 16,
   "id": "10144d96",
   "metadata": {},
   "outputs": [],
   "source": [
    "input = {\"messages\":[\"hi hello how are you?\"]}"
   ]
  },
  {
   "cell_type": "code",
   "execution_count": 17,
   "id": "836f3774",
   "metadata": {},
   "outputs": [
    {
     "data": {
      "text/plain": [
       "{'messages': [HumanMessage(content='hi hello how are you?', additional_kwargs={}, response_metadata={}, id='3b82f249-e2bb-43f5-8552-21ffce231ae4'),\n",
       "  AIMessage(content=\"As an AI, I don't have feelings, but I'm here and ready to assist you! How can I help you today? 😊\\n\", additional_kwargs={}, response_metadata={'token_usage': {'completion_tokens': 33, 'prompt_tokens': 15, 'total_tokens': 48, 'completion_time': 0.06, 'prompt_time': 0.001947158, 'queue_time': 0.243518732, 'total_time': 0.061947158}, 'model_name': 'gemma2-9b-it', 'system_fingerprint': 'fp_10c08bf97d', 'finish_reason': 'stop', 'logprobs': None}, id='run--fa697de9-a995-4788-9a1d-6e05572bb908-0', usage_metadata={'input_tokens': 15, 'output_tokens': 33, 'total_tokens': 48})]}"
      ]
     },
     "execution_count": 17,
     "metadata": {},
     "output_type": "execute_result"
    }
   ],
   "source": [
    "app.invoke(input)"
   ]
  },
  {
   "cell_type": "code",
   "execution_count": 18,
   "id": "a2468e5e",
   "metadata": {},
   "outputs": [
    {
     "name": "stdout",
     "output_type": "stream",
     "text": [
      "Output from mybot Node\n",
      "_______\n",
      "{'messages': [AIMessage(content=\"As a large language model, I don't have feelings or experiences like humans do. But I'm here and ready to assist you!\\n\\nHow can I help you today? 😊\\n\", additional_kwargs={}, response_metadata={'token_usage': {'completion_tokens': 41, 'prompt_tokens': 15, 'total_tokens': 56, 'completion_time': 0.074545455, 'prompt_time': 0.001894348, 'queue_time': 0.24491795100000002, 'total_time': 0.076439803}, 'model_name': 'gemma2-9b-it', 'system_fingerprint': 'fp_10c08bf97d', 'finish_reason': 'stop', 'logprobs': None}, id='run--1e486fc4-28eb-413a-870b-1eaa5cba5f20-0', usage_metadata={'input_tokens': 15, 'output_tokens': 41, 'total_tokens': 56})]}\n",
      "\n",
      "\n"
     ]
    }
   ],
   "source": [
    "for output in app.stream(input):\n",
    "    for key,value in output.items():\n",
    "        print(f\"Output from {key} Node\")\n",
    "        print(\"_______\")\n",
    "        print(value)\n",
    "        print(\"\\n\")"
   ]
  },
  {
   "cell_type": "markdown",
   "id": "65acc93a",
   "metadata": {},
   "source": [
    "**this is a workflow with tool calling**"
   ]
  },
  {
   "cell_type": "code",
   "execution_count": 19,
   "id": "7b235458",
   "metadata": {},
   "outputs": [],
   "source": [
    "@tool\n",
    "def search(query:str):\n",
    "    \"\"\"this is my custom tool for searching a weather\"\"\"\n",
    "    if \"delhi\" in query.lower():\n",
    "        return \"the temp is 45 degree and sunny\"\n",
    "    return \"the temp is 25 degree and cloudy\""
   ]
  },
  {
   "cell_type": "code",
   "execution_count": 20,
   "id": "0b9cf9a5",
   "metadata": {},
   "outputs": [
    {
     "data": {
      "text/plain": [
       "'the temp is 25 degree and cloudy'"
      ]
     },
     "execution_count": 20,
     "metadata": {},
     "output_type": "execute_result"
    }
   ],
   "source": [
    "search.invoke(\"what is a tempurature in kashmir?\")"
   ]
  },
  {
   "cell_type": "code",
   "execution_count": 21,
   "id": "ab8de416",
   "metadata": {},
   "outputs": [
    {
     "data": {
      "text/plain": [
       "'the temp is 45 degree and sunny'"
      ]
     },
     "execution_count": 21,
     "metadata": {},
     "output_type": "execute_result"
    }
   ],
   "source": [
    "search.invoke(\"what is a tempurature in delhi?\")"
   ]
  },
  {
   "cell_type": "code",
   "execution_count": 22,
   "id": "4aed1595",
   "metadata": {},
   "outputs": [
    {
     "data": {
      "text/plain": [
       "StructuredTool(name='search', description='this is my custom tool for searching a weather', args_schema=<class 'langchain_core.utils.pydantic.search'>, func=<function search at 0x10c06e520>)"
      ]
     },
     "execution_count": 22,
     "metadata": {},
     "output_type": "execute_result"
    }
   ],
   "source": [
    "search"
   ]
  },
  {
   "cell_type": "code",
   "execution_count": 23,
   "id": "71596655",
   "metadata": {},
   "outputs": [
    {
     "data": {
      "text/plain": [
       "AIMessage(content='I do not have access to real-time information, including weather conditions. To get the current weather in Delhi, I recommend checking a reliable weather app or website. \\n\\n', additional_kwargs={}, response_metadata={'token_usage': {'completion_tokens': 38, 'prompt_tokens': 16, 'total_tokens': 54, 'completion_time': 0.069090909, 'prompt_time': 0.001914798, 'queue_time': 0.247338273, 'total_time': 0.071005707}, 'model_name': 'gemma2-9b-it', 'system_fingerprint': 'fp_10c08bf97d', 'finish_reason': 'stop', 'logprobs': None}, id='run--49999174-2674-4198-a760-33bffc576df6-0', usage_metadata={'input_tokens': 16, 'output_tokens': 38, 'total_tokens': 54})"
      ]
     },
     "execution_count": 23,
     "metadata": {},
     "output_type": "execute_result"
    }
   ],
   "source": [
    "llm.invoke(\"what is a weather in delhi?\")"
   ]
  },
  {
   "cell_type": "markdown",
   "id": "226073e6",
   "metadata": {},
   "source": [
    "**Binding a tool to the LLM**"
   ]
  },
  {
   "cell_type": "code",
   "execution_count": 24,
   "id": "c2fdb68c",
   "metadata": {},
   "outputs": [],
   "source": [
    "tools=[search]"
   ]
  },
  {
   "cell_type": "code",
   "execution_count": 25,
   "id": "af44cf28",
   "metadata": {},
   "outputs": [],
   "source": [
    "llm_with_tool=llm.bind_tools(tools)"
   ]
  },
  {
   "cell_type": "code",
   "execution_count": 26,
   "id": "1badc48e",
   "metadata": {},
   "outputs": [],
   "source": [
    "response=llm_with_tool.invoke(\"what is a weather is delhi?\")"
   ]
  },
  {
   "cell_type": "code",
   "execution_count": 27,
   "id": "1172b535",
   "metadata": {},
   "outputs": [
    {
     "data": {
      "text/plain": [
       "AIMessage(content='', additional_kwargs={'tool_calls': [{'id': '12t01dsz2', 'function': {'arguments': '{\"query\":\"weather in delhi\"}', 'name': 'search'}, 'type': 'function'}]}, response_metadata={'token_usage': {'completion_tokens': 82, 'prompt_tokens': 946, 'total_tokens': 1028, 'completion_time': 0.149090909, 'prompt_time': 0.04060766, 'queue_time': 0.248158004, 'total_time': 0.189698569}, 'model_name': 'gemma2-9b-it', 'system_fingerprint': 'fp_10c08bf97d', 'finish_reason': 'tool_calls', 'logprobs': None}, id='run--5a52dbf5-de77-4332-9cca-e9f3226d3ae0-0', tool_calls=[{'name': 'search', 'args': {'query': 'weather in delhi'}, 'id': '12t01dsz2', 'type': 'tool_call'}], usage_metadata={'input_tokens': 946, 'output_tokens': 82, 'total_tokens': 1028})"
      ]
     },
     "execution_count": 27,
     "metadata": {},
     "output_type": "execute_result"
    }
   ],
   "source": [
    "response"
   ]
  },
  {
   "cell_type": "code",
   "execution_count": 28,
   "id": "0c53b062",
   "metadata": {},
   "outputs": [
    {
     "data": {
      "text/plain": [
       "''"
      ]
     },
     "execution_count": 28,
     "metadata": {},
     "output_type": "execute_result"
    }
   ],
   "source": [
    "response.content"
   ]
  },
  {
   "cell_type": "code",
   "execution_count": 29,
   "id": "bb8d5d96",
   "metadata": {},
   "outputs": [
    {
     "data": {
      "text/plain": [
       "[{'name': 'search',\n",
       "  'args': {'query': 'weather in delhi'},\n",
       "  'id': '12t01dsz2',\n",
       "  'type': 'tool_call'}]"
      ]
     },
     "execution_count": 29,
     "metadata": {},
     "output_type": "execute_result"
    }
   ],
   "source": [
    "\n",
    "response.tool_calls"
   ]
  },
  {
   "cell_type": "code",
   "execution_count": 30,
   "id": "b629fe80",
   "metadata": {},
   "outputs": [],
   "source": [
    "def call_model(state:MessagesState):\n",
    "    question=state[\"messages\"]\n",
    "    response=llm_with_tool.invoke(question)\n",
    "    return {\"messages\":[response]}"
   ]
  },
  {
   "cell_type": "code",
   "execution_count": 31,
   "id": "d61fd99b",
   "metadata": {},
   "outputs": [],
   "source": [
    "input={\"messages\":[\"what is a weather in delhi?\"]}"
   ]
  },
  {
   "cell_type": "code",
   "execution_count": 32,
   "id": "e7e92e9c",
   "metadata": {},
   "outputs": [],
   "source": [
    "response=call_model(input)"
   ]
  },
  {
   "cell_type": "code",
   "execution_count": 33,
   "id": "acf58622",
   "metadata": {},
   "outputs": [
    {
     "data": {
      "text/plain": [
       "''"
      ]
     },
     "execution_count": 33,
     "metadata": {},
     "output_type": "execute_result"
    }
   ],
   "source": [
    "response[\"messages\"][-1].content"
   ]
  },
  {
   "cell_type": "code",
   "execution_count": 34,
   "id": "707f5da1",
   "metadata": {},
   "outputs": [
    {
     "data": {
      "text/plain": [
       "[{'name': 'search',\n",
       "  'args': {'query': 'weather in delhi'},\n",
       "  'id': 'th8s896qm',\n",
       "  'type': 'tool_call'}]"
      ]
     },
     "execution_count": 34,
     "metadata": {},
     "output_type": "execute_result"
    }
   ],
   "source": [
    "\n",
    "response[\"messages\"][-1].tool_calls"
   ]
  },
  {
   "cell_type": "markdown",
   "id": "0e5f5012",
   "metadata": {},
   "source": [
    "**ROUTER FUNCTION WILL GET RESPONSE FROM CALL_MODEL ROUTER FUNCTION WILL REDIRECT TO THE APPRIOPIATE TOOL**"
   ]
  },
  {
   "cell_type": "code",
   "execution_count": 35,
   "id": "fcc1f9cd",
   "metadata": {},
   "outputs": [],
   "source": [
    "def router_function(state:MessagesState):\n",
    "    message=state[\"messages\"]\n",
    "    last_message=message[-1]\n",
    "    if last_message.tool_calls:\n",
    "        return \"tools\"\n",
    "    return END"
   ]
  },
  {
   "cell_type": "code",
   "execution_count": 36,
   "id": "95d45367",
   "metadata": {},
   "outputs": [],
   "source": [
    "tool_node=ToolNode(tools)"
   ]
  },
  {
   "cell_type": "code",
   "execution_count": 37,
   "id": "3bd3c0b0",
   "metadata": {},
   "outputs": [
    {
     "data": {
      "text/plain": [
       "[StructuredTool(name='search', description='this is my custom tool for searching a weather', args_schema=<class 'langchain_core.utils.pydantic.search'>, func=<function search at 0x10c06e520>)]"
      ]
     },
     "execution_count": 37,
     "metadata": {},
     "output_type": "execute_result"
    }
   ],
   "source": [
    "tools"
   ]
  },
  {
   "cell_type": "markdown",
   "id": "3f699d65",
   "metadata": {},
   "source": [
    "**CREATING A WORKFLOW 2**"
   ]
  },
  {
   "cell_type": "code",
   "execution_count": 38,
   "id": "2700f97a",
   "metadata": {},
   "outputs": [],
   "source": [
    "\n",
    "workflow2=StateGraph(MessagesState)"
   ]
  },
  {
   "cell_type": "code",
   "execution_count": 39,
   "id": "f2ded3e5",
   "metadata": {},
   "outputs": [
    {
     "data": {
      "text/plain": [
       "<langgraph.graph.state.StateGraph at 0x10c0c0800>"
      ]
     },
     "execution_count": 39,
     "metadata": {},
     "output_type": "execute_result"
    }
   ],
   "source": [
    "workflow2.add_node(\"llmwithtool\",call_model)\n",
    "\n"
   ]
  },
  {
   "cell_type": "code",
   "execution_count": 40,
   "id": "5fb202ad",
   "metadata": {},
   "outputs": [
    {
     "data": {
      "text/plain": [
       "<langgraph.graph.state.StateGraph at 0x10c0c0800>"
      ]
     },
     "execution_count": 40,
     "metadata": {},
     "output_type": "execute_result"
    }
   ],
   "source": [
    "workflow2.add_node(\"mytools\",tool_node)"
   ]
  },
  {
   "cell_type": "code",
   "execution_count": 41,
   "id": "461de1ff",
   "metadata": {},
   "outputs": [
    {
     "data": {
      "text/plain": [
       "<langgraph.graph.state.StateGraph at 0x10c0c0800>"
      ]
     },
     "execution_count": 41,
     "metadata": {},
     "output_type": "execute_result"
    }
   ],
   "source": [
    "\n",
    "workflow2.add_edge(START,\"llmwithtool\")"
   ]
  },
  {
   "cell_type": "code",
   "execution_count": 42,
   "id": "6aba800b",
   "metadata": {},
   "outputs": [
    {
     "data": {
      "text/plain": [
       "<langgraph.graph.state.StateGraph at 0x10c0c0800>"
      ]
     },
     "execution_count": 42,
     "metadata": {},
     "output_type": "execute_result"
    }
   ],
   "source": [
    "workflow2.add_conditional_edges(\"llmwithtool\",\n",
    "                                router_function,\n",
    "                                {\"tools\":\"mytools\",\n",
    "                                 END:END})"
   ]
  },
  {
   "cell_type": "code",
   "execution_count": 43,
   "id": "13b277ea",
   "metadata": {},
   "outputs": [],
   "source": [
    "app2=workflow2.compile()"
   ]
  },
  {
   "cell_type": "code",
   "execution_count": 44,
   "id": "748e42be",
   "metadata": {},
   "outputs": [
    {
     "data": {
      "image/png": "[encoded data removed]",
      "text/plain": [
       "<IPython.core.display.Image object>"
      ]
     },
     "metadata": {},
     "output_type": "display_data"
    }
   ],
   "source": [
    "display(Image(app2.get_graph().draw_mermaid_png()))"
   ]
  },
  {
   "cell_type": "code",
   "execution_count": 45,
   "id": "49ee1c03",
   "metadata": {},
   "outputs": [],
   "source": [
    "response=app2.invoke({\"messages\":[\"what is a weather in bengraluru?\"]})"
   ]
  },
  {
   "cell_type": "code",
   "execution_count": 46,
   "id": "9fffc5bf",
   "metadata": {},
   "outputs": [
    {
     "data": {
      "text/plain": [
       "'the temp is 25 degree and cloudy'"
      ]
     },
     "execution_count": 46,
     "metadata": {},
     "output_type": "execute_result"
    }
   ],
   "source": [
    "response[\"messages\"][-1].content"
   ]
  },
  {
   "cell_type": "code",
   "execution_count": 47,
   "id": "1b5adf22",
   "metadata": {},
   "outputs": [
    {
     "data": {
      "text/plain": [
       "{'messages': [HumanMessage(content='what is a weather in delhi?', additional_kwargs={}, response_metadata={}, id='74083f80-f729-47cc-8f15-3dfd85f0b5b5'),\n",
       "  AIMessage(content='', additional_kwargs={'tool_calls': [{'id': 'rqctt9r4c', 'function': {'arguments': '{\"query\":\"weather in delhi\"}', 'name': 'search'}, 'type': 'function'}]}, response_metadata={'token_usage': {'completion_tokens': 80, 'prompt_tokens': 946, 'total_tokens': 1026, 'completion_time': 0.145454545, 'prompt_time': 0.04065428, 'queue_time': 0.24739198100000004, 'total_time': 0.186108825}, 'model_name': 'gemma2-9b-it', 'system_fingerprint': 'fp_10c08bf97d', 'finish_reason': 'tool_calls', 'logprobs': None}, id='run--8802ea74-8bff-461f-9c35-41cdd47c3b6f-0', tool_calls=[{'name': 'search', 'args': {'query': 'weather in delhi'}, 'id': 'rqctt9r4c', 'type': 'tool_call'}], usage_metadata={'input_tokens': 946, 'output_tokens': 80, 'total_tokens': 1026}),\n",
       "  ToolMessage(content='the temp is 45 degree and sunny', name='search', id='2e5677d7-f49a-45aa-891b-b0b20b96f153', tool_call_id='rqctt9r4c')]}"
      ]
     },
     "execution_count": 47,
     "metadata": {},
     "output_type": "execute_result"
    }
   ],
   "source": [
    "app2.invoke({\"messages\":[\"what is a weather in delhi?\"]})"
   ]
  },
  {
   "cell_type": "code",
   "execution_count": 48,
   "id": "3a86ef56",
   "metadata": {},
   "outputs": [
    {
     "data": {
      "text/plain": [
       "{'messages': [HumanMessage(content='hi how are you?', additional_kwargs={}, response_metadata={}, id='c63862cc-e420-40b1-b63e-85afc20f58c5'),\n",
       "  AIMessage(content='', additional_kwargs={'tool_calls': [{'id': 'zk3rewbnd', 'function': {'arguments': '{\"query\":\"hi how are you\"}', 'name': 'search'}, 'type': 'function'}]}, response_metadata={'token_usage': {'completion_tokens': 83, 'prompt_tokens': 944, 'total_tokens': 1027, 'completion_time': 0.150909091, 'prompt_time': 0.053364327, 'queue_time': 0.24861096300000002, 'total_time': 0.204273418}, 'model_name': 'gemma2-9b-it', 'system_fingerprint': 'fp_10c08bf97d', 'finish_reason': 'tool_calls', 'logprobs': None}, id='run--486993d3-afca-4bc6-ae90-1707713203f6-0', tool_calls=[{'name': 'search', 'args': {'query': 'hi how are you'}, 'id': 'zk3rewbnd', 'type': 'tool_call'}], usage_metadata={'input_tokens': 944, 'output_tokens': 83, 'total_tokens': 1027}),\n",
       "  ToolMessage(content='the temp is 25 degree and cloudy', name='search', id='45fa0add-ea06-4277-a917-b3e2be52c2b6', tool_call_id='zk3rewbnd')]}"
      ]
     },
     "execution_count": 48,
     "metadata": {},
     "output_type": "execute_result"
    }
   ],
   "source": [
    "app2.invoke({\"messages\":[\"hi how are you?\"]})"
   ]
  },
  {
   "cell_type": "code",
   "execution_count": 49,
   "id": "18ad0ca4",
   "metadata": {},
   "outputs": [
    {
     "name": "stderr",
     "output_type": "stream",
     "text": [
      "Adding an edge to a graph that has already been compiled. This will not be reflected in the compiled graph.\n"
     ]
    },
    {
     "data": {
      "text/plain": [
       "<langgraph.graph.state.StateGraph at 0x10c0c0800>"
      ]
     },
     "execution_count": 49,
     "metadata": {},
     "output_type": "execute_result"
    }
   ],
   "source": [
    "workflow2.add_edge(\"mytools\",\"llmwithtool\")"
   ]
  },
  {
   "cell_type": "code",
   "execution_count": 50,
   "id": "58e5912a",
   "metadata": {},
   "outputs": [],
   "source": [
    "app3 = workflow2.compile()"
   ]
  },
  {
   "cell_type": "code",
   "execution_count": 51,
   "id": "17af224c",
   "metadata": {},
   "outputs": [
    {
     "data": {
      "image/png": "[encoded data removed]",
      "text/plain": [
       "<IPython.core.display.Image object>"
      ]
     },
     "metadata": {},
     "output_type": "display_data"
    }
   ],
   "source": [
    "display(Image(app3.get_graph().draw_mermaid_png()))"
   ]
  },
  {
   "cell_type": "code",
   "execution_count": 52,
   "id": "c1925130",
   "metadata": {},
   "outputs": [
    {
     "name": "stdout",
     "output_type": "stream",
     "text": [
      "here is output from llmwithtool\n",
      "_______\n",
      "{'messages': [AIMessage(content='', additional_kwargs={'tool_calls': [{'id': '61wk5z4jb', 'function': {'arguments': '{\"query\":\"weather in new hyderabad\"}', 'name': 'search'}, 'type': 'function'}]}, response_metadata={'token_usage': {'completion_tokens': 84, 'prompt_tokens': 948, 'total_tokens': 1032, 'completion_time': 0.152727273, 'prompt_time': 0.04037255, 'queue_time': 0.260992041, 'total_time': 0.193099823}, 'model_name': 'gemma2-9b-it', 'system_fingerprint': 'fp_10c08bf97d', 'finish_reason': 'tool_calls', 'logprobs': None}, id='run--7fae4a47-39ef-4836-a9ca-9a9617636b80-0', tool_calls=[{'name': 'search', 'args': {'query': 'weather in new hyderabad'}, 'id': '61wk5z4jb', 'type': 'tool_call'}], usage_metadata={'input_tokens': 948, 'output_tokens': 84, 'total_tokens': 1032})]}\n",
      "\n",
      "\n",
      "here is output from mytools\n",
      "_______\n",
      "{'messages': [ToolMessage(content='the temp is 25 degree and cloudy', name='search', id='a27d8133-6be4-40f1-a3a1-de9272211860', tool_call_id='61wk5z4jb')]}\n",
      "\n",
      "\n",
      "here is output from llmwithtool\n",
      "_______\n",
      "{'messages': [AIMessage(content='The temp is 25 degrees and cloudy in New Hyderabad.', additional_kwargs={}, response_metadata={'token_usage': {'completion_tokens': 15, 'prompt_tokens': 1032, 'total_tokens': 1047, 'completion_time': 0.027272727, 'prompt_time': 0.058376842, 'queue_time': 0.24727137800000004, 'total_time': 0.085649569}, 'model_name': 'gemma2-9b-it', 'system_fingerprint': 'fp_10c08bf97d', 'finish_reason': 'stop', 'logprobs': None}, id='run--9d6e7794-c863-465d-ab69-0b2af24dad8d-0', usage_metadata={'input_tokens': 1032, 'output_tokens': 15, 'total_tokens': 1047})]}\n",
      "\n",
      "\n"
     ]
    }
   ],
   "source": [
    "for output in app3.stream({\"messages\":[\"what is a weather in new hyderabad?\"]}):\n",
    "    for key,value in output.items():\n",
    "        print(f\"here is output from {key}\")\n",
    "        print(\"_______\")\n",
    "        print(value)\n",
    "        print(\"\\n\")"
   ]
  },
  {
   "cell_type": "markdown",
   "id": "27b60375",
   "metadata": {},
   "source": [
    "GETTING RESULTS FROM MEMORY "
   ]
  },
  {
   "cell_type": "code",
   "execution_count": 53,
   "id": "f57cb0e4",
   "metadata": {},
   "outputs": [],
   "source": [
    "from langgraph.checkpoint.memory import MemorySaver"
   ]
  },
  {
   "cell_type": "code",
   "execution_count": 54,
   "id": "48c10fa6",
   "metadata": {},
   "outputs": [],
   "source": [
    "memory=MemorySaver()"
   ]
  },
  {
   "cell_type": "code",
   "execution_count": 55,
   "id": "c584ccd7",
   "metadata": {},
   "outputs": [],
   "source": [
    "workflow3=StateGraph(MessagesState)"
   ]
  },
  {
   "cell_type": "code",
   "execution_count": 56,
   "id": "e38eec43",
   "metadata": {},
   "outputs": [
    {
     "data": {
      "text/plain": [
       "<langgraph.graph.state.StateGraph at 0x10c07e840>"
      ]
     },
     "execution_count": 56,
     "metadata": {},
     "output_type": "execute_result"
    }
   ],
   "source": [
    "\n",
    "workflow3.add_node(\"llmwithtool\",call_model)"
   ]
  },
  {
   "cell_type": "code",
   "execution_count": 57,
   "id": "8dad656b",
   "metadata": {},
   "outputs": [
    {
     "data": {
      "text/plain": [
       "<langgraph.graph.state.StateGraph at 0x10c07e840>"
      ]
     },
     "execution_count": 57,
     "metadata": {},
     "output_type": "execute_result"
    }
   ],
   "source": [
    "workflow3.add_node(\"mytools\",tool_node)"
   ]
  },
  {
   "cell_type": "code",
   "execution_count": 58,
   "id": "1472d85f",
   "metadata": {},
   "outputs": [
    {
     "data": {
      "text/plain": [
       "<langgraph.graph.state.StateGraph at 0x10c07e840>"
      ]
     },
     "execution_count": 58,
     "metadata": {},
     "output_type": "execute_result"
    }
   ],
   "source": [
    "\n",
    "workflow3.add_edge(START,\"llmwithtool\")"
   ]
  },
  {
   "cell_type": "code",
   "execution_count": 59,
   "id": "e3f67487",
   "metadata": {},
   "outputs": [
    {
     "data": {
      "text/plain": [
       "<langgraph.graph.state.StateGraph at 0x10c07e840>"
      ]
     },
     "execution_count": 59,
     "metadata": {},
     "output_type": "execute_result"
    }
   ],
   "source": [
    "workflow3.add_conditional_edges(\"llmwithtool\",\n",
    "                                router_function,\n",
    "                                {\"tools\":\"mytools\",\n",
    "                                 END:END})"
   ]
  },
  {
   "cell_type": "code",
   "execution_count": 60,
   "id": "21665158",
   "metadata": {},
   "outputs": [
    {
     "data": {
      "text/plain": [
       "<langgraph.graph.state.StateGraph at 0x10c07e840>"
      ]
     },
     "execution_count": 60,
     "metadata": {},
     "output_type": "execute_result"
    }
   ],
   "source": [
    "workflow3.add_edge(\"mytools\",\"llmwithtool\")"
   ]
  },
  {
   "cell_type": "code",
   "execution_count": 61,
   "id": "9362bfc0",
   "metadata": {},
   "outputs": [],
   "source": [
    "\n",
    "app4=workflow3.compile(checkpointer=memory)"
   ]
  },
  {
   "cell_type": "code",
   "execution_count": 62,
   "id": "d88ea3c4",
   "metadata": {},
   "outputs": [
    {
     "data": {
      "image/png": "[encoded data removed]",
      "text/plain": [
       "<IPython.core.display.Image object>"
      ]
     },
     "metadata": {},
     "output_type": "display_data"
    }
   ],
   "source": [
    "from IPython.display import Image, display\n",
    "display(Image(app4.get_graph().draw_mermaid_png()))"
   ]
  },
  {
   "cell_type": "code",
   "execution_count": 88,
   "id": "3532ed6e",
   "metadata": {},
   "outputs": [],
   "source": [
    "\n",
    "config={\"configurable\": {\"thread_id\": \"1\"}}"
   ]
  },
  {
   "cell_type": "code",
   "execution_count": 101,
   "id": "d6c5a8fd",
   "metadata": {},
   "outputs": [],
   "source": [
    "events=app4.stream(\n",
    "    {\"messages\":[\"what is a weather in hyderabad\"]},config=config,stream_mode=\"values\"\n",
    "    )"
   ]
  },
  {
   "cell_type": "code",
   "execution_count": 102,
   "id": "a3ece07c",
   "metadata": {},
   "outputs": [
    {
     "name": "stdout",
     "output_type": "stream",
     "text": [
      "================================\u001b[1m Human Message \u001b[0m=================================\n",
      "\n",
      "what is a weather in hyderabad\n",
      "==================================\u001b[1m Ai Message \u001b[0m==================================\n",
      "\n",
      "The weather in Hyderabad is 25 degrees and cloudy.\n"
     ]
    }
   ],
   "source": [
    "for event in events:\n",
    "    event[\"messages\"][-1].pretty_print()\n",
    "    \n"
   ]
  },
  {
   "cell_type": "code",
   "execution_count": 106,
   "id": "e61a2f78",
   "metadata": {},
   "outputs": [],
   "source": [
    "\n",
    "events=app4.stream(\n",
    "    {\"messages\":[\"what is a weather in pune?\"]},config=config,stream_mode=\"values\"\n",
    "    )"
   ]
  },
  {
   "cell_type": "code",
   "execution_count": 107,
   "id": "b129ef13",
   "metadata": {},
   "outputs": [
    {
     "name": "stdout",
     "output_type": "stream",
     "text": [
      "================================\u001b[1m Human Message \u001b[0m=================================\n",
      "\n",
      "what is a weather in pune?\n",
      "==================================\u001b[1m Ai Message \u001b[0m==================================\n",
      "Tool Calls:\n",
      "  search (w2x59dtp5)\n",
      " Call ID: w2x59dtp5\n",
      "  Args:\n",
      "    query: weather in pune\n",
      "=================================\u001b[1m Tool Message \u001b[0m=================================\n",
      "Name: search\n",
      "\n",
      "the temp is 25 degree and cloudy\n",
      "==================================\u001b[1m Ai Message \u001b[0m==================================\n",
      "\n",
      "The weather in Pune is 25 degrees and cloudy.\n"
     ]
    }
   ],
   "source": [
    "for event in events:\n",
    "    event[\"messages\"][-1].pretty_print()"
   ]
  },
  {
   "cell_type": "code",
   "execution_count": 116,
   "id": "ca4cf2a3",
   "metadata": {},
   "outputs": [],
   "source": [
    "events=app4.stream(\n",
    "    {\"messages\":[\"in which city the temp was 25 degree?\"]},config=config,stream_mode=\"values\"\n",
    "    )"
   ]
  },
  {
   "cell_type": "code",
   "execution_count": 117,
   "id": "cde96f3f",
   "metadata": {},
   "outputs": [
    {
     "name": "stdout",
     "output_type": "stream",
     "text": [
      "================================\u001b[1m Human Message \u001b[0m=================================\n",
      "\n",
      "in which city the temp was 25 degree?\n",
      "==================================\u001b[1m Ai Message \u001b[0m==================================\n",
      "\n",
      "The following cities have had a temperature of 25 degrees:\n",
      "\n",
      "* Hyderabad\n",
      "* Tirupati\n",
      "* Mysore\n",
      "* Punjab\n"
     ]
    }
   ],
   "source": [
    "for event in events:\n",
    "    event[\"messages\"][-1].pretty_print()"
   ]
  },
  {
   "cell_type": "code",
   "execution_count": 118,
   "id": "3893e318",
   "metadata": {},
   "outputs": [
    {
     "data": {
      "text/plain": [
       "{'configurable': {'thread_id': '1'}}"
      ]
     },
     "execution_count": 118,
     "metadata": {},
     "output_type": "execute_result"
    }
   ],
   "source": [
    "config"
   ]
  },
  {
   "cell_type": "markdown",
   "id": "e99ade5b",
   "metadata": {},
   "source": [
    "THIS GIVES ME HISTORY OF QUESTION I ASKED FOR "
   ]
  },
  {
   "cell_type": "code",
   "execution_count": 119,
   "id": "5bc31e52",
   "metadata": {},
   "outputs": [
    {
     "data": {
      "text/plain": [
       "{'v': 3,\n",
       " 'ts': '2025-07-01T06:36:31.514446+00:00',\n",
       " 'id': '1f05645b-99ac-61fc-8045-1d70a5e6f30e',\n",
       " 'channel_versions': {'__start__': '00000000000000000000000000000070.0.5719344282756513',\n",
       "  'messages': '00000000000000000000000000000071.0.41894129483496045',\n",
       "  'branch:to:llmwithtool': '00000000000000000000000000000071.0.5724706022276007',\n",
       "  'branch:to:mytools': '00000000000000000000000000000058.0.19745932217445217'},\n",
       " 'versions_seen': {'__input__': {},\n",
       "  '__start__': {'__start__': '00000000000000000000000000000069.0.8647259925463523'},\n",
       "  'llmwithtool': {'branch:to:llmwithtool': '00000000000000000000000000000070.0.031044205123360702'},\n",
       "  'mytools': {'branch:to:mytools': '00000000000000000000000000000057.0.053351758576190456'}},\n",
       " 'pending_sends': [],\n",
       " 'channel_values': {'messages': [HumanMessage(content='what is a weather in new delhi?', additional_kwargs={}, response_metadata={}, id='96f8c38c-4b0a-4e63-95ad-060c6d0d2a4b'),\n",
       "   AIMessage(content='', additional_kwargs={'tool_calls': [{'id': 'vt6p9qv5w', 'function': {'arguments': '{\"query\":\"weather in new delhi\"}', 'name': 'search'}, 'type': 'function'}]}, response_metadata={'token_usage': {'completion_tokens': 83, 'prompt_tokens': 947, 'total_tokens': 1030, 'completion_time': 0.150909091, 'prompt_time': 0.053993655, 'queue_time': 0.246146293, 'total_time': 0.204902746}, 'model_name': 'gemma2-9b-it', 'system_fingerprint': 'fp_10c08bf97d', 'finish_reason': 'tool_calls', 'logprobs': None}, id='run--ceed290b-e902-42c3-b53c-1b008fa30ff9-0', tool_calls=[{'name': 'search', 'args': {'query': 'weather in new delhi'}, 'id': 'vt6p9qv5w', 'type': 'tool_call'}], usage_metadata={'input_tokens': 947, 'output_tokens': 83, 'total_tokens': 1030}),\n",
       "   ToolMessage(content='the temp is 45 degree and sunny', name='search', id='e2585142-ef1b-4728-a352-3b7dcb24c6c1', tool_call_id='vt6p9qv5w'),\n",
       "   AIMessage(content='The weather in New Delhi is 45 degrees and sunny. \\n', additional_kwargs={}, response_metadata={'token_usage': {'completion_tokens': 17, 'prompt_tokens': 1030, 'total_tokens': 1047, 'completion_time': 0.030909091, 'prompt_time': 0.062764133, 'queue_time': 0.248081538, 'total_time': 0.093673224}, 'model_name': 'gemma2-9b-it', 'system_fingerprint': 'fp_10c08bf97d', 'finish_reason': 'stop', 'logprobs': None}, id='run--8664cb04-54ff-44c0-a1b5-80714f668eaa-0', usage_metadata={'input_tokens': 1030, 'output_tokens': 17, 'total_tokens': 1047}),\n",
       "   HumanMessage(content='what is a weather in new hyderabad?', additional_kwargs={}, response_metadata={}, id='4e98e1f9-f87b-44f6-8bd0-3852fd9ee050'),\n",
       "   AIMessage(content='', additional_kwargs={'tool_calls': [{'id': 'g59qr7ca9', 'function': {'arguments': '{\"query\":\"weather in new hyderabad\"}', 'name': 'search'}, 'type': 'function'}]}, response_metadata={'token_usage': {'completion_tokens': 47, 'prompt_tokens': 1064, 'total_tokens': 1111, 'completion_time': 0.085454545, 'prompt_time': 0.037082062, 'queue_time': 0.247653557, 'total_time': 0.122536607}, 'model_name': 'gemma2-9b-it', 'system_fingerprint': 'fp_10c08bf97d', 'finish_reason': 'tool_calls', 'logprobs': None}, id='run--6da0ba29-9ef9-4ea9-a1db-93833fe4c366-0', tool_calls=[{'name': 'search', 'args': {'query': 'weather in new hyderabad'}, 'id': 'g59qr7ca9', 'type': 'tool_call'}], usage_metadata={'input_tokens': 1064, 'output_tokens': 47, 'total_tokens': 1111}),\n",
       "   ToolMessage(content='the temp is 25 degree and cloudy', name='search', id='714e5ba7-ffb7-43f4-be4d-dd5195e73b81', tool_call_id='g59qr7ca9'),\n",
       "   AIMessage(content='The weather in New Hyderabad is 25 degrees and cloudy. \\n', additional_kwargs={}, response_metadata={'token_usage': {'completion_tokens': 17, 'prompt_tokens': 1148, 'total_tokens': 1165, 'completion_time': 0.030909091, 'prompt_time': 0.048739007, 'queue_time': 0.24861847199999998, 'total_time': 0.079648098}, 'model_name': 'gemma2-9b-it', 'system_fingerprint': 'fp_10c08bf97d', 'finish_reason': 'stop', 'logprobs': None}, id='run--d5236950-c9bc-4c92-b36e-76c7410ab760-0', usage_metadata={'input_tokens': 1148, 'output_tokens': 17, 'total_tokens': 1165}),\n",
       "   HumanMessage(content='what is a weather in new hyderabad?', additional_kwargs={}, response_metadata={}, id='e7ccd65f-6e2e-40dd-ab06-aab7ae13c1fb'),\n",
       "   AIMessage(content='The weather in New Hyderabad is 25 degrees and cloudy.  \\n', additional_kwargs={}, response_metadata={'token_usage': {'completion_tokens': 17, 'prompt_tokens': 1182, 'total_tokens': 1199, 'completion_time': 0.030909091, 'prompt_time': 0.099261008, 'queue_time': 0.247304452, 'total_time': 0.130170099}, 'model_name': 'gemma2-9b-it', 'system_fingerprint': 'fp_10c08bf97d', 'finish_reason': 'stop', 'logprobs': None}, id='run--25336f52-5f40-4415-b711-a043f343ee66-0', usage_metadata={'input_tokens': 1182, 'output_tokens': 17, 'total_tokens': 1199}),\n",
       "   HumanMessage(content='what is a weather in new delhi?', additional_kwargs={}, response_metadata={}, id='1a6f38f8-0255-4ab5-b29b-554df0aa9687'),\n",
       "   AIMessage(content='', additional_kwargs={'tool_calls': [{'id': 'n63dhhvmw', 'function': {'arguments': '{\"query\":\"weather in new delhi\"}', 'name': 'search'}, 'type': 'function'}]}, response_metadata={'token_usage': {'completion_tokens': 48, 'prompt_tokens': 1215, 'total_tokens': 1263, 'completion_time': 0.087272727, 'prompt_time': 0.042813987, 'queue_time': 0.24996867500000003, 'total_time': 0.130086714}, 'model_name': 'gemma2-9b-it', 'system_fingerprint': 'fp_10c08bf97d', 'finish_reason': 'tool_calls', 'logprobs': None}, id='run--bbb85048-ec2e-4e98-9a56-421765d129f1-0', tool_calls=[{'name': 'search', 'args': {'query': 'weather in new delhi'}, 'id': 'n63dhhvmw', 'type': 'tool_call'}], usage_metadata={'input_tokens': 1215, 'output_tokens': 48, 'total_tokens': 1263}),\n",
       "   ToolMessage(content='the temp is 45 degree and sunny', name='search', id='6c4dda2c-dbd3-4484-aec5-d056866a4c40', tool_call_id='n63dhhvmw'),\n",
       "   AIMessage(content='The weather in New Delhi is 45 degrees and sunny. \\n', additional_kwargs={}, response_metadata={'token_usage': {'completion_tokens': 17, 'prompt_tokens': 1298, 'total_tokens': 1315, 'completion_time': 0.030909091, 'prompt_time': 0.088147705, 'queue_time': 0.256676425, 'total_time': 0.119056796}, 'model_name': 'gemma2-9b-it', 'system_fingerprint': 'fp_10c08bf97d', 'finish_reason': 'stop', 'logprobs': None}, id='run--30166902-3763-4dd3-9496-d1f3b5b5f1c5-0', usage_metadata={'input_tokens': 1298, 'output_tokens': 17, 'total_tokens': 1315}),\n",
       "   HumanMessage(content='what is a weather in new delhi?', additional_kwargs={}, response_metadata={}, id='d239ea17-6652-4698-9fa0-e337fc5520fd'),\n",
       "   AIMessage(content='The weather in New Delhi is 45 degrees and sunny. \\n', additional_kwargs={}, response_metadata={'token_usage': {'completion_tokens': 17, 'prompt_tokens': 1331, 'total_tokens': 1348, 'completion_time': 0.030909091, 'prompt_time': 0.045911715, 'queue_time': 0.25077258599999996, 'total_time': 0.076820806}, 'model_name': 'gemma2-9b-it', 'system_fingerprint': 'fp_10c08bf97d', 'finish_reason': 'stop', 'logprobs': None}, id='run--cfd168dd-73ea-487d-8da8-db71d4ed4acf-0', usage_metadata={'input_tokens': 1331, 'output_tokens': 17, 'total_tokens': 1348}),\n",
       "   HumanMessage(content='what is a weather in hyderabad', additional_kwargs={}, response_metadata={}, id='05ae6c81-346d-4194-8454-ded7386f8c5e'),\n",
       "   AIMessage(content='', additional_kwargs={'tool_calls': [{'id': 'f6nye84nd', 'function': {'arguments': '{\"query\":\"weather in hyderabad\"}', 'name': 'search'}, 'type': 'function'}]}, response_metadata={'token_usage': {'completion_tokens': 48, 'prompt_tokens': 1363, 'total_tokens': 1411, 'completion_time': 0.087272727, 'prompt_time': 0.115267214, 'queue_time': 0.24614636299999998, 'total_time': 0.202539941}, 'model_name': 'gemma2-9b-it', 'system_fingerprint': 'fp_10c08bf97d', 'finish_reason': 'tool_calls', 'logprobs': None}, id='run--f32045d3-75df-440d-9ee1-853f88daa1b6-0', tool_calls=[{'name': 'search', 'args': {'query': 'weather in hyderabad'}, 'id': 'f6nye84nd', 'type': 'tool_call'}], usage_metadata={'input_tokens': 1363, 'output_tokens': 48, 'total_tokens': 1411}),\n",
       "   ToolMessage(content='the temp is 25 degree and cloudy', name='search', id='73d3ea3a-53b4-48cb-9236-4a3800705f7a', tool_call_id='f6nye84nd'),\n",
       "   AIMessage(content='The weather in Hyderabad is 25 degrees and cloudy. \\n', additional_kwargs={}, response_metadata={'token_usage': {'completion_tokens': 16, 'prompt_tokens': 1444, 'total_tokens': 1460, 'completion_time': 0.029090909, 'prompt_time': 0.122617238, 'queue_time': 0.264763942, 'total_time': 0.151708147}, 'model_name': 'gemma2-9b-it', 'system_fingerprint': 'fp_10c08bf97d', 'finish_reason': 'stop', 'logprobs': None}, id='run--4f9960e9-89a0-4647-902a-f394e032c5a3-0', usage_metadata={'input_tokens': 1444, 'output_tokens': 16, 'total_tokens': 1460}),\n",
       "   HumanMessage(content='what is a weather in tirupati', additional_kwargs={}, response_metadata={}, id='23c5cf74-e502-4419-9ab3-48dc4cb80d77'),\n",
       "   AIMessage(content='', additional_kwargs={'tool_calls': [{'id': '0wvgac7ty', 'function': {'arguments': '{\"query\":\"weather in tirupati\"}', 'name': 'search'}, 'type': 'function'}]}, response_metadata={'token_usage': {'completion_tokens': 48, 'prompt_tokens': 1475, 'total_tokens': 1523, 'completion_time': 0.087272727, 'prompt_time': 0.062714833, 'queue_time': 0.246169736, 'total_time': 0.14998756}, 'model_name': 'gemma2-9b-it', 'system_fingerprint': 'fp_10c08bf97d', 'finish_reason': 'tool_calls', 'logprobs': None}, id='run--cee0f797-1863-4aab-b1eb-6c0bd4b74cb1-0', tool_calls=[{'name': 'search', 'args': {'query': 'weather in tirupati'}, 'id': '0wvgac7ty', 'type': 'tool_call'}], usage_metadata={'input_tokens': 1475, 'output_tokens': 48, 'total_tokens': 1523}),\n",
       "   ToolMessage(content='the temp is 25 degree and cloudy', name='search', id='e46458c6-4981-4a1b-909e-abe775f92ca2', tool_call_id='0wvgac7ty'),\n",
       "   AIMessage(content='The weather in Tirupati is 25 degrees and cloudy. \\n', additional_kwargs={}, response_metadata={'token_usage': {'completion_tokens': 17, 'prompt_tokens': 1556, 'total_tokens': 1573, 'completion_time': 0.030909091, 'prompt_time': 0.065966775, 'queue_time': 0.24853595399999998, 'total_time': 0.096875866}, 'model_name': 'gemma2-9b-it', 'system_fingerprint': 'fp_10c08bf97d', 'finish_reason': 'stop', 'logprobs': None}, id='run--0f10eba5-e0b7-46e5-bdb9-65f34050295c-0', usage_metadata={'input_tokens': 1556, 'output_tokens': 17, 'total_tokens': 1573}),\n",
       "   HumanMessage(content='what is a weather in mysore', additional_kwargs={}, response_metadata={}, id='f63aa508-db6c-4db4-8bd2-77b9b82a0113'),\n",
       "   AIMessage(content='', additional_kwargs={'tool_calls': [{'id': '5823wx3f8', 'function': {'arguments': '{\"query\":\"weather in mysore\"}', 'name': 'search'}, 'type': 'function'}]}, response_metadata={'token_usage': {'completion_tokens': 48, 'prompt_tokens': 1588, 'total_tokens': 1636, 'completion_time': 0.087272727, 'prompt_time': 0.054430995, 'queue_time': 0.24847187499999998, 'total_time': 0.141703722}, 'model_name': 'gemma2-9b-it', 'system_fingerprint': 'fp_10c08bf97d', 'finish_reason': 'tool_calls', 'logprobs': None}, id='run--c2645ae2-d4f0-4c14-b09c-64eb67dd7924-0', tool_calls=[{'name': 'search', 'args': {'query': 'weather in mysore'}, 'id': '5823wx3f8', 'type': 'tool_call'}], usage_metadata={'input_tokens': 1588, 'output_tokens': 48, 'total_tokens': 1636}),\n",
       "   ToolMessage(content='the temp is 25 degree and cloudy', name='search', id='9f271a5c-b5f7-4016-b963-d7f60b273190', tool_call_id='5823wx3f8'),\n",
       "   AIMessage(content='The weather in Mysore is 25 degrees and cloudy. \\n', additional_kwargs={}, response_metadata={'token_usage': {'completion_tokens': 16, 'prompt_tokens': 1673, 'total_tokens': 1689, 'completion_time': 0.029090909, 'prompt_time': 0.071103405, 'queue_time': 0.24981165499999997, 'total_time': 0.100194314}, 'model_name': 'gemma2-9b-it', 'system_fingerprint': 'fp_10c08bf97d', 'finish_reason': 'stop', 'logprobs': None}, id='run--013e9a5a-f135-4268-bc7b-3d7301c4f9e2-0', usage_metadata={'input_tokens': 1673, 'output_tokens': 16, 'total_tokens': 1689}),\n",
       "   HumanMessage(content='what is a weather in punjab', additional_kwargs={}, response_metadata={}, id='6c789ecf-9cd1-4007-a054-db925ca90ec3'),\n",
       "   AIMessage(content='', additional_kwargs={'tool_calls': [{'id': 'qzacjmdda', 'function': {'arguments': '{\"query\":\"weather in punjab\"}', 'name': 'search'}, 'type': 'function'}]}, response_metadata={'token_usage': {'completion_tokens': 47, 'prompt_tokens': 1704, 'total_tokens': 1751, 'completion_time': 0.085454545, 'prompt_time': 0.072134045, 'queue_time': 0.25083067600000003, 'total_time': 0.15758859}, 'model_name': 'gemma2-9b-it', 'system_fingerprint': 'fp_10c08bf97d', 'finish_reason': 'tool_calls', 'logprobs': None}, id='run--4724f8be-cbb3-4a28-9b5d-2323bedbb025-0', tool_calls=[{'name': 'search', 'args': {'query': 'weather in punjab'}, 'id': 'qzacjmdda', 'type': 'tool_call'}], usage_metadata={'input_tokens': 1704, 'output_tokens': 47, 'total_tokens': 1751}),\n",
       "   ToolMessage(content='the temp is 25 degree and cloudy', name='search', id='a1452382-9b95-4cf7-ae79-469f0eeef88e', tool_call_id='qzacjmdda'),\n",
       "   AIMessage(content='The weather in Punjab is 25 degrees and cloudy. \\n', additional_kwargs={}, response_metadata={'token_usage': {'completion_tokens': 16, 'prompt_tokens': 1783, 'total_tokens': 1799, 'completion_time': 0.029090909, 'prompt_time': 0.075354136, 'queue_time': 0.246648425, 'total_time': 0.104445045}, 'model_name': 'gemma2-9b-it', 'system_fingerprint': 'fp_10c08bf97d', 'finish_reason': 'stop', 'logprobs': None}, id='run--c61456dc-e0db-4d5e-85c9-b0e6ca7979c2-0', usage_metadata={'input_tokens': 1783, 'output_tokens': 16, 'total_tokens': 1799}),\n",
       "   HumanMessage(content='what is a weather in delhi', additional_kwargs={}, response_metadata={}, id='69c5e867-03c5-4ce2-9bc6-bfb4bcadaa94'),\n",
       "   AIMessage(content='', additional_kwargs={'tool_calls': [{'id': 'rpw5sapg5', 'function': {'arguments': '{\"query\":\"weather in delhi\"}', 'name': 'search'}, 'type': 'function'}]}, response_metadata={'token_usage': {'completion_tokens': 47, 'prompt_tokens': 1813, 'total_tokens': 1860, 'completion_time': 0.085454545, 'prompt_time': 0.062356116, 'queue_time': 0.24717778299999998, 'total_time': 0.147810661}, 'model_name': 'gemma2-9b-it', 'system_fingerprint': 'fp_10c08bf97d', 'finish_reason': 'tool_calls', 'logprobs': None}, id='run--c94c790e-ef62-4216-b6d8-e6d0d34f81ca-0', tool_calls=[{'name': 'search', 'args': {'query': 'weather in delhi'}, 'id': 'rpw5sapg5', 'type': 'tool_call'}], usage_metadata={'input_tokens': 1813, 'output_tokens': 47, 'total_tokens': 1860}),\n",
       "   ToolMessage(content='the temp is 45 degree and sunny', name='search', id='75912000-9fb9-4e31-908f-32e0caf22947', tool_call_id='rpw5sapg5'),\n",
       "   AIMessage(content='The weather in Delhi is 45 degrees and sunny. \\n', additional_kwargs={}, response_metadata={'token_usage': {'completion_tokens': 16, 'prompt_tokens': 1893, 'total_tokens': 1909, 'completion_time': 0.029090909, 'prompt_time': 0.068041459, 'queue_time': 0.25025391900000005, 'total_time': 0.097132368}, 'model_name': 'gemma2-9b-it', 'system_fingerprint': 'fp_10c08bf97d', 'finish_reason': 'stop', 'logprobs': None}, id='run--bc011ba2-399a-4fb1-bd01-008d19de8ae7-0', usage_metadata={'input_tokens': 1893, 'output_tokens': 16, 'total_tokens': 1909}),\n",
       "   HumanMessage(content='what is a weather in hyderabad', additional_kwargs={}, response_metadata={}, id='8564254b-c02b-4d9a-860a-3993ef2365aa'),\n",
       "   AIMessage(content='The weather in Hyderabad is 25 degrees and cloudy. \\n', additional_kwargs={}, response_metadata={'token_usage': {'completion_tokens': 16, 'prompt_tokens': 1924, 'total_tokens': 1940, 'completion_time': 0.029090909, 'prompt_time': 0.066225136, 'queue_time': 0.246739773, 'total_time': 0.095316045}, 'model_name': 'gemma2-9b-it', 'system_fingerprint': 'fp_10c08bf97d', 'finish_reason': 'stop', 'logprobs': None}, id='run--ef84ee50-0dcd-410f-a591-1ebe0b6e69fc-0', usage_metadata={'input_tokens': 1924, 'output_tokens': 16, 'total_tokens': 1940}),\n",
       "   HumanMessage(content='what is a weather in rajasthan?', additional_kwargs={}, response_metadata={}, id='901552fe-74f4-4020-9969-92c74c3adc2d'),\n",
       "   AIMessage(content='', additional_kwargs={'tool_calls': [{'id': 'dm2n1c36g', 'function': {'arguments': '{\"query\":\"weather in rajasthan\"}', 'name': 'search'}, 'type': 'function'}]}, response_metadata={'token_usage': {'completion_tokens': 49, 'prompt_tokens': 1957, 'total_tokens': 2006, 'completion_time': 0.089090909, 'prompt_time': 0.066314543, 'queue_time': 0.24791286099999998, 'total_time': 0.155405452}, 'model_name': 'gemma2-9b-it', 'system_fingerprint': 'fp_10c08bf97d', 'finish_reason': 'tool_calls', 'logprobs': None}, id='run--3b548571-829c-43c1-8c3a-7ca4fa115754-0', tool_calls=[{'name': 'search', 'args': {'query': 'weather in rajasthan'}, 'id': 'dm2n1c36g', 'type': 'tool_call'}], usage_metadata={'input_tokens': 1957, 'output_tokens': 49, 'total_tokens': 2006}),\n",
       "   ToolMessage(content='the temp is 25 degree and cloudy', name='search', id='3b41c4dc-9b21-42c6-a6c4-26a54ab0c307', tool_call_id='dm2n1c36g'),\n",
       "   AIMessage(content='The weather in Rajasthan is 25 degrees and cloudy. \\n', additional_kwargs={}, response_metadata={'token_usage': {'completion_tokens': 16, 'prompt_tokens': 2043, 'total_tokens': 2059, 'completion_time': 0.029090909, 'prompt_time': 0.069503215, 'queue_time': 0.24950866700000002, 'total_time': 0.098594124}, 'model_name': 'gemma2-9b-it', 'system_fingerprint': 'fp_10c08bf97d', 'finish_reason': 'stop', 'logprobs': None}, id='run--06b19a12-32b4-4e45-8377-385c4cb464eb-0', usage_metadata={'input_tokens': 2043, 'output_tokens': 16, 'total_tokens': 2059}),\n",
       "   HumanMessage(content='what is a weather in pune?', additional_kwargs={}, response_metadata={}, id='7b1d214e-d939-4fa7-b38e-d8c9c80abffd'),\n",
       "   AIMessage(content='', additional_kwargs={'tool_calls': [{'id': 'w2x59dtp5', 'function': {'arguments': '{\"query\":\"weather in pune\"}', 'name': 'search'}, 'type': 'function'}]}, response_metadata={'token_usage': {'completion_tokens': 47, 'prompt_tokens': 2074, 'total_tokens': 2121, 'completion_time': 0.085454545, 'prompt_time': 0.175155627, 'queue_time': 0.249626141, 'total_time': 0.260610172}, 'model_name': 'gemma2-9b-it', 'system_fingerprint': 'fp_10c08bf97d', 'finish_reason': 'tool_calls', 'logprobs': None}, id='run--1d716be8-34eb-4b1a-8e6d-b62f6e999593-0', tool_calls=[{'name': 'search', 'args': {'query': 'weather in pune'}, 'id': 'w2x59dtp5', 'type': 'tool_call'}], usage_metadata={'input_tokens': 2074, 'output_tokens': 47, 'total_tokens': 2121}),\n",
       "   ToolMessage(content='the temp is 25 degree and cloudy', name='search', id='47b10d6e-d7ea-4305-80f9-2bcc39bf3e62', tool_call_id='w2x59dtp5'),\n",
       "   AIMessage(content='The weather in Pune is 25 degrees and cloudy. \\n', additional_kwargs={}, response_metadata={'token_usage': {'completion_tokens': 16, 'prompt_tokens': 2156, 'total_tokens': 2172, 'completion_time': 0.029090909, 'prompt_time': 0.09061721, 'queue_time': 0.247953739, 'total_time': 0.119708119}, 'model_name': 'gemma2-9b-it', 'system_fingerprint': 'fp_10c08bf97d', 'finish_reason': 'stop', 'logprobs': None}, id='run--fbe91189-5adc-42af-b332-1e35f0e7b13f-0', usage_metadata={'input_tokens': 2156, 'output_tokens': 16, 'total_tokens': 2172}),\n",
       "   HumanMessage(content='in which city the temperature degree is below 10', additional_kwargs={}, response_metadata={}, id='c9ec2943-4598-48d5-87d6-f5c796424d04'),\n",
       "   AIMessage(content=\"I don't have access to real-time information, including weather data. To find out which city has a temperature below 10 degrees, I recommend checking a reliable weather website or app. \\n\", additional_kwargs={}, response_metadata={'token_usage': {'completion_tokens': 44, 'prompt_tokens': 2191, 'total_tokens': 2235, 'completion_time': 0.08, 'prompt_time': 0.089993733, 'queue_time': 0.249045868, 'total_time': 0.169993733}, 'model_name': 'gemma2-9b-it', 'system_fingerprint': 'fp_10c08bf97d', 'finish_reason': 'stop', 'logprobs': None}, id='run--6020afba-5e4d-4ba6-af04-e980c1a0af82-0', usage_metadata={'input_tokens': 2191, 'output_tokens': 44, 'total_tokens': 2235}),\n",
       "   HumanMessage(content='in which city the temperature degree is 40', additional_kwargs={}, response_metadata={}, id='a61e1bd4-4739-41bd-a46e-70226011aca5'),\n",
       "   AIMessage(content=\"I don't have access to real-time information, including weather data. To find out which city has a temperature of 40 degrees, I recommend checking a reliable weather website or app. \\n\", additional_kwargs={}, response_metadata={'token_usage': {'completion_tokens': 44, 'prompt_tokens': 2253, 'total_tokens': 2297, 'completion_time': 0.08, 'prompt_time': 0.145968802, 'queue_time': 0.282501398, 'total_time': 0.225968802}, 'model_name': 'gemma2-9b-it', 'system_fingerprint': 'fp_10c08bf97d', 'finish_reason': 'stop', 'logprobs': None}, id='run--8d8abaeb-15b6-4f5b-8f9c-cfa8c2c74223-0', usage_metadata={'input_tokens': 2253, 'output_tokens': 44, 'total_tokens': 2297}),\n",
       "   HumanMessage(content='in which city the temp was 25 degree?', additional_kwargs={}, response_metadata={}, id='b976ca3e-a7d5-4ba7-ab0b-e881539c5e8a'),\n",
       "   AIMessage(content=\"I've been given information about several cities with temperatures of 25 degrees.  \\n\\nWould you like me to list them? \\n\", additional_kwargs={}, response_metadata={'token_usage': {'completion_tokens': 31, 'prompt_tokens': 2316, 'total_tokens': 2347, 'completion_time': 0.056363636, 'prompt_time': 0.086955319, 'queue_time': 0.25028318000000005, 'total_time': 0.143318955}, 'model_name': 'gemma2-9b-it', 'system_fingerprint': 'fp_10c08bf97d', 'finish_reason': 'stop', 'logprobs': None}, id='run--295591ee-8db0-484a-93ad-bfd3e1e0b61f-0', usage_metadata={'input_tokens': 2316, 'output_tokens': 31, 'total_tokens': 2347}),\n",
       "   HumanMessage(content='in which city the temp was 25 degree?', additional_kwargs={}, response_metadata={}, id='501ce0d1-7e24-4a87-834b-5c05bcb3d276'),\n",
       "   AIMessage(content='The following cities have had a temperature of 25 degrees:\\n\\n* Hyderabad\\n* Tirupati\\n* Mysore\\n* Punjab \\n\\n\\n\\n', additional_kwargs={}, response_metadata={'token_usage': {'completion_tokens': 30, 'prompt_tokens': 2366, 'total_tokens': 2396, 'completion_time': 0.054545455, 'prompt_time': 0.100236779, 'queue_time': 0.2504009, 'total_time': 0.154782234}, 'model_name': 'gemma2-9b-it', 'system_fingerprint': 'fp_10c08bf97d', 'finish_reason': 'stop', 'logprobs': None}, id='run--3386b388-a831-4e1b-8d2f-0d9413ee6b01-0', usage_metadata={'input_tokens': 2366, 'output_tokens': 30, 'total_tokens': 2396})]}}"
      ]
     },
     "execution_count": 119,
     "metadata": {},
     "output_type": "execute_result"
    }
   ],
   "source": [
    "memory.get(config)"
   ]
  }
 ],
 "metadata": {
  "kernelspec": {
   "display_name": "agenticai",
   "language": "python",
   "name": "python3"
  },
  "language_info": {
   "codemirror_mode": {
    "name": "ipython",
    "version": 3
   },
   "file_extension": ".py",
   "mimetype": "text/x-python",
   "name": "python",
   "nbconvert_exporter": "python",
   "pygments_lexer": "ipython3",
   "version": "3.12.3"
  }
 },
 "nbformat": 4,
 "nbformat_minor": 5
}
