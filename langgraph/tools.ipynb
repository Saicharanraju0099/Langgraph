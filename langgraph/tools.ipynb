{
 "cells": [
  {
   "cell_type": "code",
   "execution_count": 103,
   "id": "0bd9f781",
   "metadata": {},
   "outputs": [],
   "source": [
    "from langchain_community.tools import WikipediaQueryRun"
   ]
  },
  {
   "cell_type": "code",
   "execution_count": 104,
   "id": "3b258913",
   "metadata": {},
   "outputs": [],
   "source": [
    "from langchain_community.utilities import WikipediaAPIWrapper"
   ]
  },
  {
   "cell_type": "code",
   "execution_count": 105,
   "id": "a704d6db",
   "metadata": {},
   "outputs": [],
   "source": [
    "api_wrapper = WikipediaAPIWrapper(top_k_results=5,doc_content_chars_max=4000) \n",
    "# here based on k values only results and summary depends "
   ]
  },
  {
   "cell_type": "code",
   "execution_count": 106,
   "id": "53050910",
   "metadata": {},
   "outputs": [],
   "source": [
    "wiki_tool=WikipediaQueryRun(api_wrapper=api_wrapper)"
   ]
  },
  {
   "cell_type": "code",
   "execution_count": 107,
   "id": "dc3d75b8",
   "metadata": {},
   "outputs": [
    {
     "data": {
      "text/plain": [
       "'wikipedia'"
      ]
     },
     "execution_count": 107,
     "metadata": {},
     "output_type": "execute_result"
    }
   ],
   "source": [
    "wiki_tool.name"
   ]
  },
  {
   "cell_type": "code",
   "execution_count": 108,
   "id": "e4258733",
   "metadata": {},
   "outputs": [
    {
     "data": {
      "text/plain": [
       "'A wrapper around Wikipedia. Useful for when you need to answer general questions about people, places, companies, facts, historical events, or other subjects. Input should be a search query.'"
      ]
     },
     "execution_count": 108,
     "metadata": {},
     "output_type": "execute_result"
    }
   ],
   "source": [
    "wiki_tool.description"
   ]
  },
  {
   "cell_type": "code",
   "execution_count": 109,
   "id": "80d8af48",
   "metadata": {},
   "outputs": [
    {
     "data": {
      "text/plain": [
       "{'query': {'description': 'query to look up on wikipedia',\n",
       "  'title': 'Query',\n",
       "  'type': 'string'}}"
      ]
     },
     "execution_count": 109,
     "metadata": {},
     "output_type": "execute_result"
    }
   ],
   "source": [
    "wiki_tool.args"
   ]
  },
  {
   "cell_type": "code",
   "execution_count": 110,
   "id": "6773325f",
   "metadata": {},
   "outputs": [
    {
     "data": {
      "text/plain": [
       "\"Page: Narendra Modi\\nSummary: Narendra Damodardas Modi (born 17 September 1950) is an Indian politician who has served as the  prime minister of India since 2014. Modi was the chief minister of Gujarat from 2001 to 2014 and is the member of parliament (MP) for Varanasi. He is a member of the Bharatiya Janata Party (BJP) and of the Rashtriya Swayamsevak Sangh (RSS), a right-wing Hindutva paramilitary volunteer organisation. He is the longest-serving prime minister outside the Indian National Congress.\\nModi was born and raised in Vadnagar, Bombay State (present-day Gujarat), where he completed his secondary education. He was introduced to the RSS at the age of eight. Modi became a full-time worker for the RSS in Gujarat in 1971. The RSS assigned him to the BJP in 1985 and he rose through the party hierarchy, becoming general secretary in 1998. In 2001, Modi was appointed chief minister of Gujarat and elected to the legislative assembly soon after. His administration is considered complicit in the 2002 Gujarat riots, and has been criticised for its management of the crisis. According to official records, a little over 1,000 people were killed, three-quarters of whom were Muslim; independent sources estimated 2,000 deaths, mostly Muslim. A Special Investigation Team appointed by the Supreme Court of India in 2012 found no evidence to initiate prosecution proceedings against him. While his policies as chief minister were credited for encouraging economic growth, his administration was criticised for failing to significantly improve health, poverty and education indices in the state.\\nIn the 2014 Indian general election, Modi led the BJP to a parliamentary majority, the first for a party since 1984. His administration increased direct foreign investment, and reduced spending on healthcare, education, and social-welfare programmes. Modi began a high-profile sanitation campaign, and weakened or abolished environmental and labour laws. His demonetisation of banknotes in 2016 and introduction of the Goods and Services Tax in 2017 sparked controversy. Modi's administration launched the 2019 Balakot airstrike against an alleged terrorist training camp in Pakistan. The airstrike failed, but the action had nationalist appeal. Modi's party won the 2019 general election which followed. In its second term, his administration revoked the special status of Jammu and Kashmir, and introduced the Citizenship Amendment Act, prompting widespread protests, and spurring the 2020 Delhi riots in which Muslims were brutalised and killed by Hindu mobs. Three controversial farm laws led to sit-ins by farmers across the country, eventually causing their formal repeal. Modi oversaw India's response to the COVID-19 pandemic, during which, according to the World Health Organization's estimates, 4.7 million Indians died. In the 2024 general election, Modi's party lost its majority in the lower house of Parliament and formed a government leading the National Democratic Alliance coalition. Following a terrorist attack in Indian-administered Jammu and Kashmir, Modi presided over the 2025 India–Pakistan conflict, which resulted in a ceasefire.\\nUnder Modi's tenure, India has experienced democratic backsliding and has shifted towards an authoritarian style of government, with a cult of personality centered around him. As prime minister, he has received consistently high approval ratings within India. Modi has been described as engineering a political realignment towards right-wing politics. He remains a highly controversial figure domestically and internationally, over his Hindu nationalist beliefs and handling of the Gujarat riots, which have been cited as evidence of a majoritarian and exclusionary social agenda.\\n\\nPage: Maldives\\nSummary: The Maldives, officially the Republic of Maldives, and historically known as the Maldive Islands, is an archipelagic country in South Asia located in the Indian Ocean. The Maldives is southwest of Sri Lanka and India, about 750 kilome\""
      ]
     },
     "execution_count": 110,
     "metadata": {},
     "output_type": "execute_result"
    }
   ],
   "source": [
    "wiki_tool.run({\"query\":\"narendramodi\"})"
   ]
  },
  {
   "cell_type": "code",
   "execution_count": 111,
   "id": "41fa6ec6",
   "metadata": {},
   "outputs": [
    {
     "data": {
      "text/plain": [
       "'Page: 47th G7 summit\\nSummary: The 47th G7 summit was held from 11 to 13 June 2021 in Cornwall, England, during the United Kingdom\\'s tenure of the presidency of the Group of Seven (G7), an inter-governmental political forum of seven advanced nations.\\nThe participants included the leaders of the seven G7 member states, as well as representatives of the European Union. The president of the European Commission has been a permanently welcome participant at all meetings and decision-making since 1981, while the current president of the European Council has been the EU\\'s co-representative since the 36th G8 summit in 2010.\\n\\nPage: 45th G7 summit\\nSummary: The 45th G7 summit was held on 24–26 August 2019, in Biarritz, France. In March 2014, the G7 declared that a meaningful discussion was currently not possible with Russia in the context of the G8. Since then, meetings have continued within the G7 process. However, according to a senior Trump administration official, US President Donald Trump and French President Emmanuel Macron had agreed that Russia should be invited to the next G7 Summit to be held in 2020.\\n\\nPage: G7\\nSummary: The Group of Seven (G7) is an intergovernmental political and economic forum consisting of Canada, France, Germany, Italy, Japan, the United Kingdom and the United States; additionally, the European Union (EU) is a \"non-enumerated member\". It is organized around shared values of pluralism, liberal democracy, and representative government. G7 members are major IMF advanced economies.\\nOriginating from an ad hoc gathering of finance ministers in 1973, the G7 has since become a formal, high-profile venue for discussing and coordinating solutions to major global issues, especially in the areas of trade, security, economics, and climate change. Each member\\'s head of government or state, along with the EU\\'s Commission president and European Council president, meet annually at the G7 Summit; other high-ranking officials of the G7 and the EU meet throughout the year. Representatives of other states and international organizations are often invited as guests, with Russia having been a formal member (as part of the G8) from 1997 until its expulsion in 2014.\\nThe G7 is not based on a treaty and has no permanent secretariat or office. It is organized through a presidency that rotates annually among the member states, with the presiding state setting the group\\'s priorities and hosting the summit; Canada presides for 2025. While lacking a legal or institutional basis, the G7 is widely considered to wield significant international influence; it has catalyzed or spearheaded several major global initiatives, including efforts to combat the HIV/AIDS pandemic, provide financial aid to developing countries, and address climate change through the 2015 Paris Agreement. However, the group has been criticized by observers for its allegedly outdated and limited membership, narrow global representation, and ineffectualness. The rise of BRICS+ for example, with its expanded membership and focus on South-South cooperation, reflects a broader shift in global power dynamics, with emerging economies gaining greater influence in international affairs.\\nThe G7 countries have together a population of about 780 million people (or almost 10% of the world population), comprise around 50% of worldwide nominal net wealth and as of 2024 more than 44% of world nominal GDP and about 30% of world GDP by purchasing power parity.\\n\\nPage: 46th G7 summit\\nSummary: The 46th G7 summit of the leaders of the Group of Seven was originally scheduled for June 10–12, 2020, at Camp David, United States. However, the summit was cancelled due to the COVID-19 pandemic.\\n\\nPage: 13th G7 summit\\nSummary: The 13th G7 Summit was held in Venice, Italy between 8 and 10 June 1987. The venue for the summit meetings was the island of San Giorgio Maggiore in the Venetian lagoon.\\nThe Group of Seven (G7) was an unofficial forum which brought together the heads of the richest industrialized '"
      ]
     },
     "execution_count": 111,
     "metadata": {},
     "output_type": "execute_result"
    }
   ],
   "source": [
    "wiki_tool.run(\"what happened in G7 Summit 2025\")"
   ]
  },
  {
   "cell_type": "code",
   "execution_count": 112,
   "id": "c9c8e54e",
   "metadata": {},
   "outputs": [
    {
     "data": {
      "text/plain": [
       "'Page: 51st G7 summit\\nSummary: The 51st G7 summit, the 57th annual meeting of the organization G7, was held from 16 to 17 June 2025 in Kananaskis, Alberta, Canada. This was the 2nd G7 summit to be held in Kananaskis since the 28th G8 summit in 2002, and the seventh summit held in Canada.\\n\\nPage: 50th G7 summit\\nSummary: The 50th G7 summit was held from 13 to 15 June 2024 in the city of Fasano in Apulia, Italy.\\nPrime Minister Giorgia Meloni announced in November 2023 that Fasano would be the headquarters of the G7.\\n\\nPage: 44th G7 summit\\nSummary: The 44th G7 summit was held on 8–9 June 2018, in La Malbaie in the Charlevoix region of Quebec, Canada. This was the sixth time since 1981 that Canada has hosted the meetings.\\nIn March 2014, the Group of Seven (G7)—comprising leaders of Canada, France, Germany, Italy, Japan, the United Kingdom, and the United States—declared that a meaningful discussion was currently not possible with Russia in the context of the G8. Since then, meetings have continued within the G7 process. On the first day of the summit, the United States announced that it would push for the reinstatement of Russia. Italy also requested a restoration of the G8 shortly after. US President Donald Trump also pushed for other countries to recognize Crimea as part of Russia, and stated that Ukraine was “one of the most corrupt countries in the world” to G7 leaders.\\nThe summit received much attention due to a significant decline of relations of members with the United States. As a result, the summit was dubbed the “G6+1\" by France and some members of the media, signifying the \"isolation of the United States” in light of recent events.\\n\\nPage: 45th G7 summit\\nSummary: The 45th G7 summit was held on 24–26 August 2019, in Biarritz, France. In March 2014, the G7 declared that a meaningful discussion was currently not possible with Russia in the context of the G8. Since then, meetings have continued within the G7 process. However, according to a senior Trump administration official, US President Donald Trump and French President Emmanuel Macron had agreed that Russia should be invited to the next G7 Summit to be held in 2020.\\n\\nPage: 42nd G7 summit\\nSummary: The 42nd G7 summit was held on 26–27 May 2016 at the Shima Kanko Hotel in Kashiko Island, Shima, Mie Prefecture, Japan. In March 2014, the G7 declared that a meaningful discussion was currently not possible with Russia in the context of the G8. Since then, meetings have continued within the G7 process.'"
      ]
     },
     "execution_count": 112,
     "metadata": {},
     "output_type": "execute_result"
    }
   ],
   "source": [
    "wiki_tool.run(\"G7 Summit in canada\")"
   ]
  },
  {
   "cell_type": "code",
   "execution_count": 113,
   "id": "6d7c2296",
   "metadata": {},
   "outputs": [],
   "source": [
    "from langchain_community.tools import YouTubeSearchTool"
   ]
  },
  {
   "cell_type": "code",
   "execution_count": 114,
   "id": "b027cd97",
   "metadata": {},
   "outputs": [],
   "source": [
    "tool=YouTubeSearchTool()"
   ]
  },
  {
   "cell_type": "code",
   "execution_count": 115,
   "id": "b96a481a",
   "metadata": {},
   "outputs": [
    {
     "data": {
      "text/plain": [
       "'youtube_search'"
      ]
     },
     "execution_count": 115,
     "metadata": {},
     "output_type": "execute_result"
    }
   ],
   "source": [
    "tool.name"
   ]
  },
  {
   "cell_type": "code",
   "execution_count": 116,
   "id": "9939ab68",
   "metadata": {},
   "outputs": [
    {
     "data": {
      "text/plain": [
       "'search for youtube videos associated with a person. the input to this tool should be a comma separated list, the first part contains a person name and the second a number that is the maximum number of video results to return aka num_results. the second part is optional'"
      ]
     },
     "execution_count": 116,
     "metadata": {},
     "output_type": "execute_result"
    }
   ],
   "source": [
    "tool.description"
   ]
  },
  {
   "cell_type": "code",
   "execution_count": 117,
   "id": "bb2c4b83",
   "metadata": {},
   "outputs": [
    {
     "data": {
      "text/plain": [
       "\"['https://www.youtube.com/watch?v=JxgmHe2NyeY&pp=ygUJa3Jpc2huYWlr', 'https://www.youtube.com/watch?v=p4pHsuEf4Ms&pp=ygUJa3Jpc2huYWlr0gcJCb4JAYcqIYzv']\""
      ]
     },
     "execution_count": 117,
     "metadata": {},
     "output_type": "execute_result"
    }
   ],
   "source": [
    "tool.run(\"krishnaik\")"
   ]
  },
  {
   "cell_type": "markdown",
   "id": "3c6278be",
   "metadata": {},
   "source": [
    "Crawl the internet using tavily"
   ]
  },
  {
   "cell_type": "code",
   "execution_count": 118,
   "id": "91c2ef04",
   "metadata": {},
   "outputs": [],
   "source": [
    "from langchain_community.tools.tavily_search import TavilySearchResults"
   ]
  },
  {
   "cell_type": "code",
   "execution_count": 119,
   "id": "fcd63548",
   "metadata": {},
   "outputs": [
    {
     "data": {
      "text/plain": [
       "'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'"
      ]
     },
     "execution_count": 119,
     "metadata": {},
     "output_type": "execute_result"
    }
   ],
   "source": [
    "from dotenv import load_dotenv\n",
    "import os\n",
    "\n",
    "load_dotenv()  # take environment variables from .env\n",
    "\n",
    "tavily_key=os.getenv(\"TAVILY_API_KEY\")\n",
    "tavily_key\n",
    "\n",
    "# here i feteched from .env file \n"
   ]
  },
  {
   "cell_type": "code",
   "execution_count": 120,
   "id": "145b6844",
   "metadata": {},
   "outputs": [],
   "source": [
    "tool=TavilySearchResults(tavily_api_key=tavily_key) # here tavily_key == \"your api key from tavily website\"\n"
   ]
  },
  {
   "cell_type": "code",
   "execution_count": 121,
   "id": "d15826a9",
   "metadata": {},
   "outputs": [
    {
     "data": {
      "text/plain": [
       "[{'title': \"G7 Leaders' Joint Statements - Kananaskis, Canada, 17 June 2025\",\n",
       "  'url': 'https://www.consilium.europa.eu/en/press/press-releases/2025/06/17/g7-leaders-joint-statements-kananaskis-canada-17-june-2025/',\n",
       "  'content': \"At the 2025 G7 Leaders’ Summit held in Kananaskis, the leaders of the G7 discussed topics ranging from international peace and security to global economic stability, growth, and emerging technologies. They adopted the following statements: [...] *    Topics \\n    *   **Topics**\\n        *   [Russia's war against Ukraine](https://www.consilium.europa.eu/en/topics/russia-s-war-against-ukraine/)\\n        *   [Competitiveness and industry](https://www.consilium.europa.eu/en/topics/competitiveness-and-industry/)\\n        *   [Security and defence](https://www.consilium.europa.eu/en/topics/security-and-defence/) [...] *   [G7 Leaders’ statement on recent developments between Israel and Iran](https://g7.canada.ca/en/news-and-media/news/g7-leaders-statement-on-recent-developments-between-israel-and-iran/)\\n*   [G7 Leaders' statement on transnational repression](https://www.consilium.europa.eu/media/wynouur4/transnational-en.pdf)\\n*   [G7 Leaders' statement on AI for prosperity](https://www.consilium.europa.eu/media/eeiniuqd/ai-en.pdf)\",\n",
       "  'score': 0.8763069},\n",
       " {'title': 'Canada and the G7',\n",
       "  'url': 'https://www.international.gc.ca/world-monde/international_relations-relations_internationales/g7/index.aspx?lang=eng',\n",
       "  'content': 'Canada assumed the presidency of the G7 on the January 1, 2025. The G7 Leaders’ Summit will be in Kananaskis, Alberta, from June 15 to 17, 2025. Where Canada will work with G7 partners on common priorities, such as building economies that benefit everyone, fighting climate change, and managing rapidly evolving technologies.',\n",
       "  'score': 0.87605256},\n",
       " {'title': \"NATO Secretary General attends G7 Summit, welcomes Canada's ...\",\n",
       "  'url': 'https://www.nato.int/cps/en/natohq/news_236327.htm',\n",
       "  'content': '*   English\\n*   [French](https://www.nato.int/cps/en/natohq/news_236327.htm?selectedLocale=fr)\\n\\n[](https://www.nato.int/cps/en/natohq/news_236327.htm#)[](https://www.nato.int/cps/en/natohq/news_236327.htm#)[](https://www.nato.int/cps/en/natohq/news_236327.htm#)\\n\\nThe NATO Secretary General, Mark Rutte, participated in the G7 Leaders’ Summit in Kananaskis, Alberta, Canada, on Tuesday (17 June 2025). The event was hosted by the Prime Minister of Canada, Mark Carney. [...] *   [![Image 22: /nato_static_fl2014/assets/pictures/images_mfu/2025/6/17a-trip-sg-ca/250617a-009_rdax_375x213p.jpg](https://www.nato.int/cps/en/natohq/news_236327.htm)](https://www.nato.int/cps/en/natohq/photos_236333.htm) \\n\\n    *   [NATO Secretary General attends G7 meeting](https://www.nato.int/cps/en/natohq/photos_236333.htm)17 Jun. 2025 NATO Secretary General Mark Rutte meets with Mark Carney, Prime Minister of Canada. [...] *   [![Image 20: /nato_static_fl2014/assets/pictures/images_mfu/2025/6/17a-trip-sg-ca/250617a-007_rdax_375x250p.jpg](https://www.nato.int/cps/en/natohq/news_236327.htm)](https://www.nato.int/cps/en/natohq/photos_236333.htm) \\n\\n    *   [NATO Secretary General attends G7 meeting](https://www.nato.int/cps/en/natohq/photos_236333.htm)17 Jun. 2025 NATO Secretary General Mark Rutte meets with Mark Carney, Prime Minister of Canada.',\n",
       "  'score': 0.86136365},\n",
       " {'title': \"G7 Leaders' Summit - G7 2025 - Kananaskis\",\n",
       "  'url': 'https://g7.canada.ca/en/canadian-presidency/events-calendar/g7-leaders-summit/',\n",
       "  'content': 'Canada will welcome G7 Leaders in Kananaskis, Alberta from June 15 to 17, 2025. Prime Minister Mark Carney will be joined by G7 leaders from',\n",
       "  'score': 0.8390101},\n",
       " {'title': '51st G7 summit - Wikipedia',\n",
       "  'url': 'https://en.wikipedia.org/wiki/51st_G7_summit',\n",
       "  'content': 'The **51st [G7](https://en.wikipedia.org/wiki/G7 \"G7\") summit** will be held from 15 to 17 June 2025 in [Kananaskis](https://en.wikipedia.org/wiki/Kananaskis_Improvement_District \"Kananaskis Improvement District\"), [Alberta](https://en.wikipedia.org/wiki/Alberta \"Alberta\"), Canada.[[3]](https://en.wikipedia.org/wiki/51st_G7_summit#cite_note-4)[[4]](https://en.wikipedia.org/wiki/51st_G7_summit#cite_note-5) Kananaskis previously hosted the [28th G8 [...] 11.   **[^](https://en.wikipedia.org/wiki/51st_G7_summit#cite_ref-13)**Hodunova, Kateryna (March 17, 2025). [\"New Canadian prime minister invites Zelensky to attend G7 summit in June\"](https://kyivindependent.com/new-canadian-pm-invites-zelensky-to-attend-g7-summit-in-june/). _[The Kyiv Independent](https://en.wikipedia.org/wiki/The\\\\_Kyiv\\\\_Independent \"The Kyiv Independent\")_. Retrieved May 28, 2025. [...] *   [G7 summits](https://en.wikipedia.org/wiki/Category:G7_summits \"Category:G7 summits\")\\n*   [June 2025 in Canada](https://en.wikipedia.org/wiki/Category:June_2025_in_Canada \"Category:June 2025 in Canada\")\\n*   [Kananaskis Improvement District](https://en.wikipedia.org/wiki/Category:Kananaskis_Improvement_District \"Category:Kananaskis Improvement District\")',\n",
       "  'score': 0.83452857}]"
      ]
     },
     "execution_count": 121,
     "metadata": {},
     "output_type": "execute_result"
    }
   ],
   "source": [
    "tool.invoke({\"query\":\"what happened in G7 summit in canada 2025 june\"})"
   ]
  },
  {
   "cell_type": "code",
   "execution_count": 122,
   "id": "4c1a425c",
   "metadata": {},
   "outputs": [
    {
     "data": {
      "text/plain": [
       "[{'title': \"Kashmir: India's Chenab rail bridge could be a strategic game-changer\",\n",
       "  'url': 'https://www.bbc.com/news/articles/cvg3w71mkxwo',\n",
       "  'content': \"It took more than 20 years for the Indian railways to finish the bridge over the River Chenab in the Reasi district of Jammu.\\n\\nThe showpiece infrastructure project is 35m taller than the Eiffel Tower and the first train on the bridge is set to run soon between Bakkal and Kauri areas. [...] In June, [nine Hindu pilgrims were killed](https://www.bbc.com/news/articles/c3ggm5j0lzzo) and dozens injured after militants opened fire on a bus in Reasi - where the bridge is located - in one of the deadliest militant attacks in recent years. There have been several other attacks on the army and civilians.\\n\\nExperts say such incidents are a reminder of the fragility of peace here - and without stability, connectivity projects would go only so far in reviving the region’s economy. [...] The railway line is part of a larger infrastructural expansion - along with more than 50 other highway, railway and power projects - by Prime Minister Narendra Modi's government, which stripped Jammu and Kashmir of its special status and divided the state into two federally administered territories in 2019.\",\n",
       "  'score': 0.7244226},\n",
       " {'title': 'Chenab Rail Bridge - Wikipedia',\n",
       "  'url': 'https://en.wikipedia.org/wiki/Chenab_Rail_Bridge',\n",
       "  'content': '[_**m**_](https://en.wikipedia.org/wiki/Chenab_Rail_Bridge#cite_ref-PIB_16-12) [_**n**_](https://en.wikipedia.org/wiki/Chenab_Rail_Bridge#cite_ref-PIB_16-13) [\"Railways complete the Arch closure of the iconic Chenab Bridge, World\\'s highest Railway Bridge\"](https://www.pib.gov.in/PressReleasePage.aspx?PRID=1709652). _[Ministry of Railways](https://en.wikipedia.org/wiki/Ministry_of_Railways_(India) \"Ministry of Railways (India)\")_ (Press release). 5 April 2021. Retrieved 1 June 2024. [...] 38.  **[^](https://en.wikipedia.org/wiki/Chenab_Rail_Bridge#cite_ref-38 \"Jump up\")** [\"Chenab Railway Bridge in J&K nears completion with golden joint\"](https://indianexpress.com/article/india/chenab-railway-bridge-in-jk-nears-completion-with-golden-joint-8072722/). _[The Indian Express](https://en.wikipedia.org/wiki/The_Indian_Express \"The Indian Express\")_. 5 August 2022. Retrieved 1 June 2024. [...] 2003.[\\\\[15\\\\]](https://en.wikipedia.org/wiki/Chenab_Rail_Bridge#cite_note-SF-15) The area was located in a major [seismic zone](https://en.wikipedia.org/wiki/Seismic_zone \"Seismic zone\") (zone V) with a fractured [geology](https://en.wikipedia.org/wiki/Geology \"Geology\"),[\\\\[15\\\\]](https://en.wikipedia.org/wiki/Chenab_Rail_Bridge#cite_note-SF-15) and in a [conflict](https://en.wikipedia.org/wiki/Kashmir_conflict \"Kashmir conflict\") prone',\n",
       "  'score': 0.71829855},\n",
       " {'title': 'Chenab railway bridge: While India lays tracks in Kashmir, Pakistan ...',\n",
       "  'url': 'https://m.economictimes.com/industry/transportation/railways/chenab-railway-bridge-while-india-lays-tracks-in-kashmir-pakistan-cancels-development-projects/articleshow/121668676.cms',\n",
       "  'content': \"![The Economic Times](https://img.etimg.com/photo/msid-76920425,quality-100/et-logo.jpg)\\n\\n##### The Economic Times daily newspaper is available online now.\\n\\n### \\n\\n# Chenab railway bridge: While India lays tracks in Kashmir, Pakistan cancels development projects\\n\\n![Whatsapp Follow Channel](https://img.etimg.com/photo/104857408.cms) [...] ## Prime Minister Modi inaugurated the Chenab Bridge, the world's highest railway arch bridge, a key part of the Udhampur-Srinagar-Baramulla Railway Line, enhancing connectivity in Jammu and Kashmir. This infrastructure milestone contrasts sharply with Pakistan's economic struggles, marked by loan dependency and budget cuts, even as India invests in high-speed rail and regional integration.\",\n",
       "  'score': 0.71758664},\n",
       " {'title': \"Chenab river link: Besides engineering challenges, world's highest ...\",\n",
       "  'url': 'https://timesofindia.indiatimes.com/india/chenab-river-link-besides-engineering-challenges-worlds-highest-rail-bridge-overcame-legal-hurdles-too/articleshow/121702688.cms',\n",
       "  'content': '[Today\\'s ePaper](https://epaper.indiatimes.com/timesepaper/publication-the-times-of-india,city-delhi.cms?redirectionSource=TOIWeb)\\n\\n*   [News](https://timesofindia.indiatimes.com/)\\n*   [India News](https://timesofindia.indiatimes.com/india)\\n*   Chenab river link: Besides engineering challenges, world\\'s highest rail bridge overcame legal hurdles too\\n\\nTrending [...] NEW DELHI: The railways did not just face the tough challenge of terrain and geology to construct the world\\'s highest cable-supported single-arch bridge on the Chenab river, it also fought a long legal battle, with a host of PILs filed in courts challenging alignment, cost and faulty methodology, casting a shadow of uncertainty over the Katra-Banihal section project for around eight years.Since 2008-09, cases were being filed in courts. Though work on this Kashmir rail-link section was going [...] \"The project would have been completed early had there not been these court cases,\" a former Northern Railway official said.Officials said legal proceedings came to an end with the Railway Board submitting an affidavit on high court\\'s directions.Disposing of the case, the HC said, \"The affidavit states that the Railway Board, after due consideration/ examination of the report of the Sreedharan committee, is fully satisfied with the safety, security and all other necessary/vital aspects of the',\n",
       "  'score': 0.7125728},\n",
       " {'title': \"Narendra Modi inaugurates world's highest single-arch railway bridge\",\n",
       "  'url': 'https://www.bbc.com/news/articles/cvgnm54yd40o',\n",
       "  'content': 'The showpiece infrastructure project, which is built over the Chenab river, is 35m (114ft) taller than the Eiffel Tower and took the Indian Railways more the 20 years to build.\\n\\nIt is part of a 272km (169 miles) all-weather railway line that will pass through Jammu, ultimately going all the way to the Kashmir valley.\\n\\nAdvertisement',\n",
       "  'score': 0.65173227}]"
      ]
     },
     "execution_count": 122,
     "metadata": {},
     "output_type": "execute_result"
    }
   ],
   "source": [
    "tool.invoke({\"query\":\"what happened in india railway chenab river \"})"
   ]
  },
  {
   "cell_type": "markdown",
   "id": "58e186f6",
   "metadata": {},
   "source": [
    "Custom Tool "
   ]
  },
  {
   "cell_type": "code",
   "execution_count": 123,
   "id": "f5a5b8bb",
   "metadata": {},
   "outputs": [],
   "source": [
    "from langchain.agents import tool"
   ]
  },
  {
   "cell_type": "code",
   "execution_count": 124,
   "id": "7c4d8563",
   "metadata": {},
   "outputs": [
    {
     "data": {
      "text/plain": [
       "20"
      ]
     },
     "execution_count": 124,
     "metadata": {},
     "output_type": "execute_result"
    }
   ],
   "source": [
    "## it is just a function\n",
    "\n",
    "def multiply(a:int,b:int) -> int:\n",
    "    return a*b\n",
    "multiply(10,2)\n",
    "\n"
   ]
  },
  {
   "cell_type": "code",
   "execution_count": 125,
   "id": "0102b520",
   "metadata": {},
   "outputs": [
    {
     "ename": "AttributeError",
     "evalue": "'function' object has no attribute 'run'",
     "output_type": "error",
     "traceback": [
      "\u001b[31m---------------------------------------------------------------------------\u001b[39m",
      "\u001b[31mAttributeError\u001b[39m                            Traceback (most recent call last)",
      "\u001b[36mCell\u001b[39m\u001b[36m \u001b[39m\u001b[32mIn[125]\u001b[39m\u001b[32m, line 1\u001b[39m\n\u001b[32m----> \u001b[39m\u001b[32m1\u001b[39m \u001b[43mmultiply\u001b[49m\u001b[43m.\u001b[49m\u001b[43mrun\u001b[49m()  \u001b[38;5;66;03m#it is just normal function so cannot use it as a tool calling object\u001b[39;00m\n",
      "\u001b[31mAttributeError\u001b[39m: 'function' object has no attribute 'run'"
     ]
    }
   ],
   "source": [
    "multiply.run()  #it is just normal function so cannot use it as a tool calling object"
   ]
  },
  {
   "cell_type": "code",
   "execution_count": null,
   "id": "8f675cc7",
   "metadata": {},
   "outputs": [
    {
     "ename": "AttributeError",
     "evalue": "'function' object has no attribute 'invoke'",
     "output_type": "error",
     "traceback": [
      "\u001b[31m---------------------------------------------------------------------------\u001b[39m",
      "\u001b[31mAttributeError\u001b[39m                            Traceback (most recent call last)",
      "\u001b[36mCell\u001b[39m\u001b[36m \u001b[39m\u001b[32mIn[34]\u001b[39m\u001b[32m, line 1\u001b[39m\n\u001b[32m----> \u001b[39m\u001b[32m1\u001b[39m \u001b[43mmultiply\u001b[49m\u001b[43m.\u001b[49m\u001b[43minvoke\u001b[49m()\n",
      "\u001b[31mAttributeError\u001b[39m: 'function' object has no attribute 'invoke'"
     ]
    }
   ],
   "source": [
    "multiply.invoke()  #it is just normal function so cannot use it as a tool calling object"
   ]
  },
  {
   "cell_type": "code",
   "execution_count": null,
   "id": "606f962f",
   "metadata": {},
   "outputs": [],
   "source": [
    "# converting normal function in to tool\n",
    "\n",
    "from langchain.agents import tool\n",
    "@tool\n",
    "def multiply(a:int,b:int) -> int:\n",
    "    \"\"\"This function tool is for multiplication\"\"\"\n",
    "    return a*b\n"
   ]
  },
  {
   "cell_type": "code",
   "execution_count": null,
   "id": "6079bac4",
   "metadata": {},
   "outputs": [
    {
     "name": "stdout",
     "output_type": "stream",
     "text": [
      "<class 'langchain_core.tools.structured.StructuredTool'>\n"
     ]
    }
   ],
   "source": [
    "print(type(multiply)) #now it is a tool"
   ]
  },
  {
   "cell_type": "code",
   "execution_count": 1,
   "id": "ebb4b183",
   "metadata": {},
   "outputs": [
    {
     "ename": "NameError",
     "evalue": "name 'multiply' is not defined",
     "output_type": "error",
     "traceback": [
      "\u001b[31m---------------------------------------------------------------------------\u001b[39m",
      "\u001b[31mNameError\u001b[39m                                 Traceback (most recent call last)",
      "\u001b[36mCell\u001b[39m\u001b[36m \u001b[39m\u001b[32mIn[1]\u001b[39m\u001b[32m, line 1\u001b[39m\n\u001b[32m----> \u001b[39m\u001b[32m1\u001b[39m \u001b[43mmultiply\u001b[49m(\u001b[32m10\u001b[39m,\u001b[32m2\u001b[39m) \u001b[38;5;66;03m#so cannot directly call this tool now \u001b[39;00m\n",
      "\u001b[31mNameError\u001b[39m: name 'multiply' is not defined"
     ]
    }
   ],
   "source": [
    "multiply(10,2) #so cannot directly call this tool now "
   ]
  },
  {
   "cell_type": "code",
   "execution_count": null,
   "id": "d1737d74",
   "metadata": {},
   "outputs": [
    {
     "data": {
      "text/plain": [
       "20"
      ]
     },
     "execution_count": 53,
     "metadata": {},
     "output_type": "execute_result"
    }
   ],
   "source": [
    "multiply.invoke({\"a\":10,\"b\":2}) #we have to call tool using a dictionary "
   ]
  },
  {
   "cell_type": "code",
   "execution_count": null,
   "id": "0f01f688",
   "metadata": {},
   "outputs": [
    {
     "data": {
      "text/plain": [
       "'multiply'"
      ]
     },
     "execution_count": 54,
     "metadata": {},
     "output_type": "execute_result"
    }
   ],
   "source": [
    "multiply.name"
   ]
  },
  {
   "cell_type": "code",
   "execution_count": null,
   "id": "4a578f47",
   "metadata": {},
   "outputs": [
    {
     "data": {
      "text/plain": [
       "'This function tool is for multiplication'"
      ]
     },
     "execution_count": 55,
     "metadata": {},
     "output_type": "execute_result"
    }
   ],
   "source": [
    "multiply.description"
   ]
  },
  {
   "cell_type": "code",
   "execution_count": null,
   "id": "57455dea",
   "metadata": {},
   "outputs": [
    {
     "data": {
      "text/plain": [
       "{'a': {'title': 'A', 'type': 'integer'},\n",
       " 'b': {'title': 'B', 'type': 'integer'}}"
      ]
     },
     "execution_count": 56,
     "metadata": {},
     "output_type": "execute_result"
    }
   ],
   "source": [
    "multiply.args"
   ]
  },
  {
   "cell_type": "code",
   "execution_count": null,
   "id": "7558cb0b",
   "metadata": {},
   "outputs": [],
   "source": [
    "def get_length_of_word(word:str) -> int:\n",
    "    return len(word)"
   ]
  },
  {
   "cell_type": "code",
   "execution_count": null,
   "id": "dfe0c8da",
   "metadata": {},
   "outputs": [
    {
     "data": {
      "text/plain": [
       "9"
      ]
     },
     "execution_count": 59,
     "metadata": {},
     "output_type": "execute_result"
    }
   ],
   "source": [
    "get_length_of_word(\"langgraph\")"
   ]
  },
  {
   "cell_type": "code",
   "execution_count": null,
   "id": "c2290354",
   "metadata": {},
   "outputs": [],
   "source": [
    "# converting this normal function into tool\n",
    "@tool\n",
    "def get_length_of_word(word:str) -> int:\n",
    "    \"\"\" This custom tool function is used to get length of words \"\"\"\n",
    "    return len(word)"
   ]
  },
  {
   "cell_type": "code",
   "execution_count": null,
   "id": "edf211e1",
   "metadata": {},
   "outputs": [
    {
     "data": {
      "text/plain": [
       "9"
      ]
     },
     "execution_count": 62,
     "metadata": {},
     "output_type": "execute_result"
    }
   ],
   "source": [
    "get_length_of_word.invoke(\"langgraph\")"
   ]
  },
  {
   "cell_type": "code",
   "execution_count": null,
   "id": "824ac4b1",
   "metadata": {},
   "outputs": [
    {
     "data": {
      "text/plain": [
       "'get_length_of_word'"
      ]
     },
     "execution_count": 63,
     "metadata": {},
     "output_type": "execute_result"
    }
   ],
   "source": [
    "get_length_of_word.name"
   ]
  },
  {
   "cell_type": "code",
   "execution_count": null,
   "id": "8bae3eb6",
   "metadata": {},
   "outputs": [
    {
     "data": {
      "text/plain": [
       "'This custom tool function is used to get length of words'"
      ]
     },
     "execution_count": 64,
     "metadata": {},
     "output_type": "execute_result"
    }
   ],
   "source": [
    "get_length_of_word.description"
   ]
  },
  {
   "cell_type": "code",
   "execution_count": null,
   "id": "dd26c4ec",
   "metadata": {},
   "outputs": [
    {
     "data": {
      "text/plain": [
       "{'word': {'title': 'Word', 'type': 'string'}}"
      ]
     },
     "execution_count": 85,
     "metadata": {},
     "output_type": "execute_result"
    }
   ],
   "source": [
    "get_length_of_word.args"
   ]
  },
  {
   "cell_type": "code",
   "execution_count": null,
   "id": "0a84ac05",
   "metadata": {},
   "outputs": [],
   "source": [
    "\n",
    "@tool\n",
    "def get_gmail_api(api: int) -> str:\n",
    "    \"\"\"This tool simulates calling the Gmail API.\"\"\"\n",
    "    return f\"Gmail API called with version {api}\""
   ]
  },
  {
   "cell_type": "code",
   "execution_count": null,
   "id": "7c2ccbb9",
   "metadata": {},
   "outputs": [
    {
     "name": "stdout",
     "output_type": "stream",
     "text": [
      "Gmail API called with version 16\n"
     ]
    }
   ],
   "source": [
    "result = get_gmail_api.invoke({\"api\": 16})\n",
    "print(result)"
   ]
  },
  {
   "cell_type": "code",
   "execution_count": null,
   "id": "f16f8a21",
   "metadata": {},
   "outputs": [
    {
     "data": {
      "text/plain": [
       "'get_gmail_api'"
      ]
     },
     "execution_count": 101,
     "metadata": {},
     "output_type": "execute_result"
    }
   ],
   "source": [
    "get_gmail_api.name"
   ]
  },
  {
   "cell_type": "code",
   "execution_count": null,
   "id": "9300dc74",
   "metadata": {},
   "outputs": [
    {
     "data": {
      "text/plain": [
       "'This tool simulates calling the Gmail API.'"
      ]
     },
     "execution_count": 102,
     "metadata": {},
     "output_type": "execute_result"
    }
   ],
   "source": [
    "get_gmail_api.description"
   ]
  },
  {
   "cell_type": "code",
   "execution_count": null,
   "id": "eb19d2bd",
   "metadata": {},
   "outputs": [],
   "source": [
    "\n"
   ]
  },
  {
   "cell_type": "code",
   "execution_count": null,
   "id": "c780a808",
   "metadata": {},
   "outputs": [],
   "source": []
  }
 ],
 "metadata": {
  "kernelspec": {
   "display_name": ".venv",
   "language": "python",
   "name": "python3"
  },
  "language_info": {
   "codemirror_mode": {
    "name": "ipython",
    "version": 3
   },
   "file_extension": ".py",
   "mimetype": "text/x-python",
   "name": "python",
   "nbconvert_exporter": "python",
   "pygments_lexer": "ipython3",
   "version": "3.12.3"
  }
 },
 "nbformat": 4,
 "nbformat_minor": 5
}
